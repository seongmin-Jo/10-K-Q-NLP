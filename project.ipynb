{
 "cells": [
  {
   "cell_type": "code",
   "execution_count": 3,
   "metadata": {
    "ExecuteTime": {
     "end_time": "2021-03-01T00:21:36.126468Z",
     "start_time": "2021-03-01T00:21:35.245392Z"
    },
    "colab": {
     "base_uri": "https://localhost:8080/"
    },
    "executionInfo": {
     "elapsed": 8396,
     "status": "ok",
     "timestamp": 1613393131461,
     "user": {
      "displayName": "조성민",
      "photoUrl": "",
      "userId": "06818595925565650239"
     },
     "user_tz": -540
    },
    "id": "3fLtR_c7XZLX",
    "outputId": "af129b4e-ecd0-48c1-d119-a09229ecb6e0",
    "scrolled": true
   },
   "outputs": [
    {
     "name": "stderr",
     "output_type": "stream",
     "text": [
      "[nltk_data] Downloading package stopwords to\n",
      "[nltk_data]     C:\\Users\\Hobin\\AppData\\Roaming\\nltk_data...\n",
      "[nltk_data]   Package stopwords is already up-to-date!\n",
      "[nltk_data] Downloading package wordnet to\n",
      "[nltk_data]     C:\\Users\\Hobin\\AppData\\Roaming\\nltk_data...\n",
      "[nltk_data]   Package wordnet is already up-to-date!\n"
     ]
    },
    {
     "data": {
      "text/plain": [
       "True"
      ]
     },
     "execution_count": 3,
     "metadata": {},
     "output_type": "execute_result"
    }
   ],
   "source": [
    "from tqdm import tqdm\n",
    "from ratelimit import limits, sleep_and_retry\n",
    "from bs4 import BeautifulSoup\n",
    "import requests\n",
    "import matplotlib.pyplot as plt\n",
    "import pprint\n",
    "import pickle\n",
    "import pandas as pd\n",
    "import numpy as np\n",
    "import nltk\n",
    "import seaborn\n",
    "from nltk.corpus import stopwords\n",
    "\n",
    "import warnings\n",
    "import time\n",
    "import random\n",
    "import re\n",
    "from glob import glob\n",
    "import os\n",
    "warnings.simplefilter('ignore')\n",
    "\n",
    "\n",
    "nltk.download('stopwords')\n",
    "nltk.download('wordnet')"
   ]
  },
  {
   "cell_type": "code",
   "execution_count": 302,
   "metadata": {
    "ExecuteTime": {
     "end_time": "2021-02-28T20:52:55.098810Z",
     "start_time": "2021-02-28T20:52:54.978266Z"
    }
   },
   "outputs": [
    {
     "name": "stdout",
     "output_type": "stream",
     "text": [
      "The autoreload extension is already loaded. To reload it, use:\n",
      "  %reload_ext autoreload\n"
     ]
    }
   ],
   "source": [
    "from db_helper import *\n",
    "%load_ext autoreload\n",
    "%autoreload 2"
   ]
  },
  {
   "cell_type": "code",
   "execution_count": 3,
   "metadata": {
    "ExecuteTime": {
     "end_time": "2021-02-28T15:08:17.426505Z",
     "start_time": "2021-02-28T15:08:17.303796Z"
    },
    "scrolled": true
   },
   "outputs": [
    {
     "data": {
      "text/html": [
       "<div>\n",
       "<style scoped>\n",
       "    .dataframe tbody tr th:only-of-type {\n",
       "        vertical-align: middle;\n",
       "    }\n",
       "\n",
       "    .dataframe tbody tr th {\n",
       "        vertical-align: top;\n",
       "    }\n",
       "\n",
       "    .dataframe thead th {\n",
       "        text-align: right;\n",
       "    }\n",
       "</style>\n",
       "<table border=\"1\" class=\"dataframe\">\n",
       "  <thead>\n",
       "    <tr style=\"text-align: right;\">\n",
       "      <th></th>\n",
       "      <th>GICS</th>\n",
       "      <th>S&amp;P Weight</th>\n",
       "      <th>Count</th>\n",
       "    </tr>\n",
       "  </thead>\n",
       "  <tbody>\n",
       "    <tr>\n",
       "      <th>0</th>\n",
       "      <td>Information Technology</td>\n",
       "      <td>27.60</td>\n",
       "      <td>71</td>\n",
       "    </tr>\n",
       "    <tr>\n",
       "      <th>1</th>\n",
       "      <td>Health Care</td>\n",
       "      <td>13.44</td>\n",
       "      <td>62</td>\n",
       "    </tr>\n",
       "    <tr>\n",
       "      <th>2</th>\n",
       "      <td>Consumer Discretionary</td>\n",
       "      <td>12.70</td>\n",
       "      <td>61</td>\n",
       "    </tr>\n",
       "    <tr>\n",
       "      <th>3</th>\n",
       "      <td>Communication Services</td>\n",
       "      <td>10.79</td>\n",
       "      <td>26</td>\n",
       "    </tr>\n",
       "    <tr>\n",
       "      <th>4</th>\n",
       "      <td>Financials</td>\n",
       "      <td>10.34</td>\n",
       "      <td>66</td>\n",
       "    </tr>\n",
       "    <tr>\n",
       "      <th>5</th>\n",
       "      <td>Industrials</td>\n",
       "      <td>8.47</td>\n",
       "      <td>73</td>\n",
       "    </tr>\n",
       "    <tr>\n",
       "      <th>6</th>\n",
       "      <td>Consumer staples</td>\n",
       "      <td>6.55</td>\n",
       "      <td>33</td>\n",
       "    </tr>\n",
       "    <tr>\n",
       "      <th>7</th>\n",
       "      <td>Utilities</td>\n",
       "      <td>2.73</td>\n",
       "      <td>28</td>\n",
       "    </tr>\n",
       "    <tr>\n",
       "      <th>8</th>\n",
       "      <td>Materials</td>\n",
       "      <td>2.64</td>\n",
       "      <td>28</td>\n",
       "    </tr>\n",
       "    <tr>\n",
       "      <th>9</th>\n",
       "      <td>Real Estate</td>\n",
       "      <td>2.41</td>\n",
       "      <td>31</td>\n",
       "    </tr>\n",
       "    <tr>\n",
       "      <th>10</th>\n",
       "      <td>Energy</td>\n",
       "      <td>2.33</td>\n",
       "      <td>26</td>\n",
       "    </tr>\n",
       "  </tbody>\n",
       "</table>\n",
       "</div>"
      ],
      "text/plain": [
       "                      GICS  S&P Weight  Count\n",
       "0   Information Technology       27.60     71\n",
       "1              Health Care       13.44     62\n",
       "2   Consumer Discretionary       12.70     61\n",
       "3   Communication Services       10.79     26\n",
       "4               Financials       10.34     66\n",
       "5              Industrials        8.47     73\n",
       "6         Consumer staples        6.55     33\n",
       "7                Utilities        2.73     28\n",
       "8                Materials        2.64     28\n",
       "9              Real Estate        2.41     31\n",
       "10                  Energy        2.33     26"
      ]
     },
     "execution_count": 3,
     "metadata": {},
     "output_type": "execute_result"
    }
   ],
   "source": [
    "a = ['Information Technology', 'Health Care', 'Consumer Discretionary', 'Communication Services',\n",
    "     'Financials', 'Industrials', 'Consumer staples', 'Utilities', 'Materials', 'Real Estate', 'Energy']\n",
    "b = [27.6, 13.44, 12.7, 10.79, 10.34, 8.47, 6.55, 2.73, 2.64, 2.41, 2.33]\n",
    "c = [71, 62, 61, 26, 66, 73, 33, 28, 28, 31, 26]\n",
    "\n",
    "a = pd.Series(a)\n",
    "b = pd.Series(b)\n",
    "c = pd.Series(c)\n",
    "\n",
    "sp_gics = pd.concat([a, b, c], axis=1)\n",
    "sp_gics.columns = ['GICS', 'S&P Weight', 'Count']\n",
    "#data['agg'] = data['S&P Weight'] * data['Count']\n",
    "sp_gics"
   ]
  },
  {
   "cell_type": "code",
   "execution_count": 4,
   "metadata": {
    "ExecuteTime": {
     "end_time": "2021-02-28T15:08:20.381457Z",
     "start_time": "2021-02-28T15:08:20.268922Z"
    },
    "scrolled": true
   },
   "outputs": [],
   "source": [
    "selected_gics = sp_gics.sort_values(\n",
    "    by='S&P Weight', ascending=False)[:5]['GICS']"
   ]
  },
  {
   "cell_type": "code",
   "execution_count": 5,
   "metadata": {
    "ExecuteTime": {
     "end_time": "2021-02-28T15:08:21.403718Z",
     "start_time": "2021-02-28T15:08:21.291022Z"
    },
    "scrolled": true
   },
   "outputs": [
    {
     "data": {
      "text/plain": [
       "0    Information Technology\n",
       "1               Health Care\n",
       "2    Consumer Discretionary\n",
       "3    Communication Services\n",
       "4                Financials\n",
       "Name: GICS, dtype: object"
      ]
     },
     "execution_count": 5,
     "metadata": {},
     "output_type": "execute_result"
    }
   ],
   "source": [
    "selected_gics"
   ]
  },
  {
   "cell_type": "code",
   "execution_count": 9,
   "metadata": {
    "ExecuteTime": {
     "end_time": "2021-02-28T15:28:16.194127Z",
     "start_time": "2021-02-28T15:09:26.946592Z"
    }
   },
   "outputs": [],
   "source": [
    "data = get_sp500()\n",
    "selected_data = data.loc[data.GICS.isin(selected_gics)]\n",
    "selected_data['marketcap'] = selected_data.Symbol.map(\n",
    "    lambda x: yf.Ticker(x).info['marketCap'])"
   ]
  },
  {
   "cell_type": "code",
   "execution_count": 10,
   "metadata": {
    "ExecuteTime": {
     "end_time": "2021-02-28T15:28:18.755582Z",
     "start_time": "2021-02-28T15:28:18.601966Z"
    },
    "scrolled": false
   },
   "outputs": [
    {
     "data": {
      "text/html": [
       "<div>\n",
       "<style scoped>\n",
       "    .dataframe tbody tr th:only-of-type {\n",
       "        vertical-align: middle;\n",
       "    }\n",
       "\n",
       "    .dataframe tbody tr th {\n",
       "        vertical-align: top;\n",
       "    }\n",
       "\n",
       "    .dataframe thead th {\n",
       "        text-align: right;\n",
       "    }\n",
       "</style>\n",
       "<table border=\"1\" class=\"dataframe\">\n",
       "  <thead>\n",
       "    <tr style=\"text-align: right;\">\n",
       "      <th></th>\n",
       "      <th>Symbol</th>\n",
       "      <th>Security</th>\n",
       "      <th>GICS</th>\n",
       "      <th>CIK</th>\n",
       "      <th>marketcap</th>\n",
       "    </tr>\n",
       "  </thead>\n",
       "  <tbody>\n",
       "    <tr>\n",
       "      <th>286</th>\n",
       "      <td>YUM</td>\n",
       "      <td>Yum! Brands Inc</td>\n",
       "      <td>Consumer Discretionary</td>\n",
       "      <td>1041061</td>\n",
       "      <td>31064694784</td>\n",
       "    </tr>\n",
       "    <tr>\n",
       "      <th>287</th>\n",
       "      <td>ZBRA</td>\n",
       "      <td>Zebra Technologies</td>\n",
       "      <td>Information Technology</td>\n",
       "      <td>877212</td>\n",
       "      <td>26703222784</td>\n",
       "    </tr>\n",
       "    <tr>\n",
       "      <th>288</th>\n",
       "      <td>ZBH</td>\n",
       "      <td>Zimmer Biomet</td>\n",
       "      <td>Health Care</td>\n",
       "      <td>1136869</td>\n",
       "      <td>33892999168</td>\n",
       "    </tr>\n",
       "    <tr>\n",
       "      <th>289</th>\n",
       "      <td>ZION</td>\n",
       "      <td>Zions Bancorp</td>\n",
       "      <td>Financials</td>\n",
       "      <td>109380</td>\n",
       "      <td>8731257856</td>\n",
       "    </tr>\n",
       "    <tr>\n",
       "      <th>290</th>\n",
       "      <td>ZTS</td>\n",
       "      <td>Zoetis</td>\n",
       "      <td>Health Care</td>\n",
       "      <td>1555280</td>\n",
       "      <td>73788375040</td>\n",
       "    </tr>\n",
       "  </tbody>\n",
       "</table>\n",
       "</div>"
      ],
      "text/plain": [
       "    Symbol            Security                    GICS      CIK    marketcap\n",
       "286    YUM     Yum! Brands Inc  Consumer Discretionary  1041061  31064694784\n",
       "287   ZBRA  Zebra Technologies  Information Technology   877212  26703222784\n",
       "288    ZBH       Zimmer Biomet             Health Care  1136869  33892999168\n",
       "289   ZION       Zions Bancorp              Financials   109380   8731257856\n",
       "290    ZTS              Zoetis             Health Care  1555280  73788375040"
      ]
     },
     "execution_count": 10,
     "metadata": {},
     "output_type": "execute_result"
    }
   ],
   "source": [
    "selected_data.to_csv('./data/selected_gics_data.csv')\n",
    "selected_data = pd.read_csv(\n",
    "    './data/selected_gics_data.csv')[['Symbol', 'Security', 'GICS', 'CIK', 'marketcap']]\n",
    "selected_data.tail()"
   ]
  },
  {
   "cell_type": "code",
   "execution_count": 11,
   "metadata": {
    "ExecuteTime": {
     "end_time": "2021-02-28T15:28:43.117830Z",
     "start_time": "2021-02-28T15:28:31.471713Z"
    }
   },
   "outputs": [],
   "source": [
    "data_by_gics = {}\n",
    "for GICS in selected_gics:\n",
    "    data_by_gics[GICS] = get_cik_by_sector(GICS)\n",
    "\n",
    "try:\n",
    "    for key in data_by_gics.keys():\n",
    "        if len(data_by_gics[key]) <= 30:\n",
    "            del(data_by_gics[key])\n",
    "        temp = selected_data[selected_data.GICS ==\n",
    "                             key][['Symbol', 'marketcap']]\n",
    "        temp = temp[temp.marketcap >= temp.marketcap.median()]\n",
    "        data_by_gics[key] = pd.merge(data_by_gics[key], temp)\n",
    "\n",
    "except:\n",
    "    for key in data_by_gics.keys():\n",
    "        if len(data_by_gics[key]) <= 30:\n",
    "            del(data_by_gics[key])\n",
    "        temp = selected_data[selected_data.GICS ==\n",
    "                             key][['Symbol', 'marketcap']]\n",
    "        temp = temp[temp.marketcap >= temp.marketcap.median()]\n",
    "        data_by_gics[key] = pd.merge(data_by_gics[key], temp)"
   ]
  },
  {
   "cell_type": "code",
   "execution_count": 12,
   "metadata": {
    "ExecuteTime": {
     "end_time": "2021-02-28T15:28:43.511447Z",
     "start_time": "2021-02-28T15:28:43.401696Z"
    },
    "id": "9XeimKLUXZLa"
   },
   "outputs": [],
   "source": [
    "sec_api = SecAPI()\n",
    "\n",
    "\n",
    "def get_sec_data(cik, doc_type, start=0, count=60):\n",
    "    newest_data = pd.to_datetime('2021-12-12')\n",
    "    rss_url = 'https://www.sec.gov/cgi-bin/browse-edgar?action=getcompany' \\\n",
    "        '&CIK={}&type={}&start={}&count={}&owner=exclude&output=atom' \\\n",
    "        .format(cik, doc_type, start, count)\n",
    "    sec_data = sec_api.get(rss_url)\n",
    "    feed = BeautifulSoup(sec_data.encode('ascii'), 'xml').feed\n",
    "    entries = [\n",
    "        (\n",
    "            entry.content.find('filing-href').getText(),\n",
    "            entry.content.find('filing-type').getText(),\n",
    "            entry.content.find('filing-date').getText())\n",
    "        for entry in feed.find_all('entry', recursive=False)\n",
    "        if pd.to_datetime(entry.content.find('filing-date').getText()) <= newest_data]\n",
    "\n",
    "    return entries"
   ]
  },
  {
   "cell_type": "code",
   "execution_count": 13,
   "metadata": {
    "ExecuteTime": {
     "end_time": "2021-02-28T15:29:33.809174Z",
     "start_time": "2021-02-28T15:28:43.863615Z"
    }
   },
   "outputs": [],
   "source": [
    "sec_data = {}\n",
    "for sector in data_by_gics:\n",
    "    sec_data[sector] = {}\n",
    "    for idx in range(len(data_by_gics[sector])):\n",
    "        ticker, cik, _ = data_by_gics[sector].iloc[idx, :]\n",
    "        sec_data[sector][ticker] = get_sec_data(cik, '10-')"
   ]
  },
  {
   "cell_type": "markdown",
   "metadata": {},
   "source": [
    "----------------------------------"
   ]
  },
  {
   "cell_type": "code",
   "execution_count": 14,
   "metadata": {
    "ExecuteTime": {
     "end_time": "2021-02-28T15:29:34.249236Z",
     "start_time": "2021-02-28T15:29:34.125928Z"
    }
   },
   "outputs": [],
   "source": [
    "it_sec_data = pd.DataFrame(sec_data)[['Information Technology']].dropna()\n",
    "hc_sec_data = pd.DataFrame(sec_data)[['Health Care']].dropna()\n",
    "cd_sec_data = pd.DataFrame(sec_data)[['Consumer Discretionary']].dropna()\n",
    "fn_sec_data = pd.DataFrame(sec_data)[['Financials']].dropna()"
   ]
  },
  {
   "cell_type": "code",
   "execution_count": 341,
   "metadata": {
    "ExecuteTime": {
     "end_time": "2021-02-28T21:08:43.214247Z",
     "start_time": "2021-02-28T21:08:42.574871Z"
    }
   },
   "outputs": [
    {
     "data": {
      "text/html": [
       "<div>\n",
       "<style scoped>\n",
       "    .dataframe tbody tr th:only-of-type {\n",
       "        vertical-align: middle;\n",
       "    }\n",
       "\n",
       "    .dataframe tbody tr th {\n",
       "        vertical-align: top;\n",
       "    }\n",
       "\n",
       "    .dataframe thead th {\n",
       "        text-align: right;\n",
       "    }\n",
       "</style>\n",
       "<table border=\"1\" class=\"dataframe\">\n",
       "  <thead>\n",
       "    <tr style=\"text-align: right;\">\n",
       "      <th></th>\n",
       "      <th>Information Technology</th>\n",
       "    </tr>\n",
       "  </thead>\n",
       "  <tbody>\n",
       "    <tr>\n",
       "      <th>AAPL</th>\n",
       "      <td>[(https://www.sec.gov/Archives/edgar/data/3201...</td>\n",
       "    </tr>\n",
       "    <tr>\n",
       "      <th>ACN</th>\n",
       "      <td>[(https://www.sec.gov/Archives/edgar/data/1467...</td>\n",
       "    </tr>\n",
       "    <tr>\n",
       "      <th>ADBE</th>\n",
       "      <td>[(https://www.sec.gov/Archives/edgar/data/7963...</td>\n",
       "    </tr>\n",
       "    <tr>\n",
       "      <th>ADI</th>\n",
       "      <td>[(https://www.sec.gov/Archives/edgar/data/6281...</td>\n",
       "    </tr>\n",
       "    <tr>\n",
       "      <th>ADP</th>\n",
       "      <td>[(https://www.sec.gov/Archives/edgar/data/8670...</td>\n",
       "    </tr>\n",
       "    <tr>\n",
       "      <th>ADSK</th>\n",
       "      <td>[(https://www.sec.gov/Archives/edgar/data/7693...</td>\n",
       "    </tr>\n",
       "    <tr>\n",
       "      <th>AMAT</th>\n",
       "      <td>[(https://www.sec.gov/Archives/edgar/data/6951...</td>\n",
       "    </tr>\n",
       "    <tr>\n",
       "      <th>AMD</th>\n",
       "      <td>[(https://www.sec.gov/Archives/edgar/data/2488...</td>\n",
       "    </tr>\n",
       "    <tr>\n",
       "      <th>APH</th>\n",
       "      <td>[(https://www.sec.gov/Archives/edgar/data/8203...</td>\n",
       "    </tr>\n",
       "    <tr>\n",
       "      <th>AVGO</th>\n",
       "      <td>[(https://www.sec.gov/Archives/edgar/data/1730...</td>\n",
       "    </tr>\n",
       "    <tr>\n",
       "      <th>CDNS</th>\n",
       "      <td>[(https://www.sec.gov/Archives/edgar/data/8136...</td>\n",
       "    </tr>\n",
       "    <tr>\n",
       "      <th>CRM</th>\n",
       "      <td>[(https://www.sec.gov/Archives/edgar/data/1108...</td>\n",
       "    </tr>\n",
       "    <tr>\n",
       "      <th>CSCO</th>\n",
       "      <td>[(https://www.sec.gov/Archives/edgar/data/8588...</td>\n",
       "    </tr>\n",
       "    <tr>\n",
       "      <th>CTSH</th>\n",
       "      <td>[(https://www.sec.gov/Archives/edgar/data/1058...</td>\n",
       "    </tr>\n",
       "    <tr>\n",
       "      <th>FIS</th>\n",
       "      <td>[(https://www.sec.gov/Archives/edgar/data/1136...</td>\n",
       "    </tr>\n",
       "    <tr>\n",
       "      <th>FISV</th>\n",
       "      <td>[(https://www.sec.gov/Archives/edgar/data/7983...</td>\n",
       "    </tr>\n",
       "    <tr>\n",
       "      <th>GPN</th>\n",
       "      <td>[(https://www.sec.gov/Archives/edgar/data/1123...</td>\n",
       "    </tr>\n",
       "    <tr>\n",
       "      <th>HPQ</th>\n",
       "      <td>[(https://www.sec.gov/Archives/edgar/data/4721...</td>\n",
       "    </tr>\n",
       "    <tr>\n",
       "      <th>IBM</th>\n",
       "      <td>[(https://www.sec.gov/Archives/edgar/data/5114...</td>\n",
       "    </tr>\n",
       "    <tr>\n",
       "      <th>INTC</th>\n",
       "      <td>[(https://www.sec.gov/Archives/edgar/data/5086...</td>\n",
       "    </tr>\n",
       "    <tr>\n",
       "      <th>INTU</th>\n",
       "      <td>[(https://www.sec.gov/Archives/edgar/data/8968...</td>\n",
       "    </tr>\n",
       "    <tr>\n",
       "      <th>KLAC</th>\n",
       "      <td>[(https://www.sec.gov/Archives/edgar/data/3192...</td>\n",
       "    </tr>\n",
       "    <tr>\n",
       "      <th>LRCX</th>\n",
       "      <td>[(https://www.sec.gov/Archives/edgar/data/7075...</td>\n",
       "    </tr>\n",
       "    <tr>\n",
       "      <th>MA</th>\n",
       "      <td>[(https://www.sec.gov/Archives/edgar/data/1141...</td>\n",
       "    </tr>\n",
       "    <tr>\n",
       "      <th>MCHP</th>\n",
       "      <td>[(https://www.sec.gov/Archives/edgar/data/8270...</td>\n",
       "    </tr>\n",
       "    <tr>\n",
       "      <th>MSFT</th>\n",
       "      <td>[(https://www.sec.gov/Archives/edgar/data/7890...</td>\n",
       "    </tr>\n",
       "    <tr>\n",
       "      <th>MU</th>\n",
       "      <td>[(https://www.sec.gov/Archives/edgar/data/7231...</td>\n",
       "    </tr>\n",
       "    <tr>\n",
       "      <th>NOW</th>\n",
       "      <td>[(https://www.sec.gov/Archives/edgar/data/1373...</td>\n",
       "    </tr>\n",
       "    <tr>\n",
       "      <th>NVDA</th>\n",
       "      <td>[(https://www.sec.gov/Archives/edgar/data/1045...</td>\n",
       "    </tr>\n",
       "    <tr>\n",
       "      <th>ORCL</th>\n",
       "      <td>[(https://www.sec.gov/Archives/edgar/data/1341...</td>\n",
       "    </tr>\n",
       "    <tr>\n",
       "      <th>PAYX</th>\n",
       "      <td>[(https://www.sec.gov/Archives/edgar/data/7235...</td>\n",
       "    </tr>\n",
       "    <tr>\n",
       "      <th>PYPL</th>\n",
       "      <td>[(https://www.sec.gov/Archives/edgar/data/1633...</td>\n",
       "    </tr>\n",
       "    <tr>\n",
       "      <th>QCOM</th>\n",
       "      <td>[(https://www.sec.gov/Archives/edgar/data/8043...</td>\n",
       "    </tr>\n",
       "    <tr>\n",
       "      <th>SNPS</th>\n",
       "      <td>[(https://www.sec.gov/Archives/edgar/data/8832...</td>\n",
       "    </tr>\n",
       "    <tr>\n",
       "      <th>TEL</th>\n",
       "      <td>[(https://www.sec.gov/Archives/edgar/data/1385...</td>\n",
       "    </tr>\n",
       "    <tr>\n",
       "      <th>TXN</th>\n",
       "      <td>[(https://www.sec.gov/Archives/edgar/data/9747...</td>\n",
       "    </tr>\n",
       "    <tr>\n",
       "      <th>V</th>\n",
       "      <td>[(https://www.sec.gov/Archives/edgar/data/1403...</td>\n",
       "    </tr>\n",
       "    <tr>\n",
       "      <th>XLNX</th>\n",
       "      <td>[(https://www.sec.gov/Archives/edgar/data/7439...</td>\n",
       "    </tr>\n",
       "  </tbody>\n",
       "</table>\n",
       "</div>"
      ],
      "text/plain": [
       "                                 Information Technology\n",
       "AAPL  [(https://www.sec.gov/Archives/edgar/data/3201...\n",
       "ACN   [(https://www.sec.gov/Archives/edgar/data/1467...\n",
       "ADBE  [(https://www.sec.gov/Archives/edgar/data/7963...\n",
       "ADI   [(https://www.sec.gov/Archives/edgar/data/6281...\n",
       "ADP   [(https://www.sec.gov/Archives/edgar/data/8670...\n",
       "ADSK  [(https://www.sec.gov/Archives/edgar/data/7693...\n",
       "AMAT  [(https://www.sec.gov/Archives/edgar/data/6951...\n",
       "AMD   [(https://www.sec.gov/Archives/edgar/data/2488...\n",
       "APH   [(https://www.sec.gov/Archives/edgar/data/8203...\n",
       "AVGO  [(https://www.sec.gov/Archives/edgar/data/1730...\n",
       "CDNS  [(https://www.sec.gov/Archives/edgar/data/8136...\n",
       "CRM   [(https://www.sec.gov/Archives/edgar/data/1108...\n",
       "CSCO  [(https://www.sec.gov/Archives/edgar/data/8588...\n",
       "CTSH  [(https://www.sec.gov/Archives/edgar/data/1058...\n",
       "FIS   [(https://www.sec.gov/Archives/edgar/data/1136...\n",
       "FISV  [(https://www.sec.gov/Archives/edgar/data/7983...\n",
       "GPN   [(https://www.sec.gov/Archives/edgar/data/1123...\n",
       "HPQ   [(https://www.sec.gov/Archives/edgar/data/4721...\n",
       "IBM   [(https://www.sec.gov/Archives/edgar/data/5114...\n",
       "INTC  [(https://www.sec.gov/Archives/edgar/data/5086...\n",
       "INTU  [(https://www.sec.gov/Archives/edgar/data/8968...\n",
       "KLAC  [(https://www.sec.gov/Archives/edgar/data/3192...\n",
       "LRCX  [(https://www.sec.gov/Archives/edgar/data/7075...\n",
       "MA    [(https://www.sec.gov/Archives/edgar/data/1141...\n",
       "MCHP  [(https://www.sec.gov/Archives/edgar/data/8270...\n",
       "MSFT  [(https://www.sec.gov/Archives/edgar/data/7890...\n",
       "MU    [(https://www.sec.gov/Archives/edgar/data/7231...\n",
       "NOW   [(https://www.sec.gov/Archives/edgar/data/1373...\n",
       "NVDA  [(https://www.sec.gov/Archives/edgar/data/1045...\n",
       "ORCL  [(https://www.sec.gov/Archives/edgar/data/1341...\n",
       "PAYX  [(https://www.sec.gov/Archives/edgar/data/7235...\n",
       "PYPL  [(https://www.sec.gov/Archives/edgar/data/1633...\n",
       "QCOM  [(https://www.sec.gov/Archives/edgar/data/8043...\n",
       "SNPS  [(https://www.sec.gov/Archives/edgar/data/8832...\n",
       "TEL   [(https://www.sec.gov/Archives/edgar/data/1385...\n",
       "TXN   [(https://www.sec.gov/Archives/edgar/data/9747...\n",
       "V     [(https://www.sec.gov/Archives/edgar/data/1403...\n",
       "XLNX  [(https://www.sec.gov/Archives/edgar/data/7439..."
      ]
     },
     "execution_count": 341,
     "metadata": {},
     "output_type": "execute_result"
    }
   ],
   "source": [
    "it_sec_data"
   ]
  },
  {
   "cell_type": "code",
   "execution_count": 217,
   "metadata": {
    "ExecuteTime": {
     "end_time": "2021-02-28T18:36:12.568760Z",
     "start_time": "2021-02-28T18:36:12.415574Z"
    },
    "code_folding": []
   },
   "outputs": [],
   "source": [
    "def num_split(ls, num=5):\n",
    "    data, temp = [], []\n",
    "    for idx in range(len(ls)):\n",
    "        temp.append(ls[idx])\n",
    "        if len(temp) == num:\n",
    "            data.append(temp)\n",
    "            temp = []\n",
    "        if idx == len(ls)-1 and len(temp) > 0:\n",
    "            data.append(temp)\n",
    "    return data\n",
    "\n",
    "\n",
    "def clean_text(raw_text):\n",
    "    four_only = re.sub(r'\\b\\w{1,3}\\b', '', raw_text)\n",
    "    letters_only = re.sub(\"[^a-zA-Z]\", \" \", four_only)\n",
    "    text = letters_only.split()\n",
    "    removed = [\n",
    "        w for w in text if w not in nltk.corpus.stopwords.words('english')]\n",
    "    return ' '.join(removed)\n",
    "\n",
    "\n",
    "def get_mda(raw_text, file_type):\n",
    "    try:\n",
    "        text = BeautifulSoup(raw_text, 'html.parser').get_text().lower().replace(\n",
    "            '\\xa0', ' ').replace('\\x92', ' ').replace('\\x93', ' ').replace('\\x94', ' ').replace('\\u200b', ' ')\n",
    "    except:\n",
    "        text = BeautifulSoup(raw_text, 'html5lib').get_text().lower().replace(\n",
    "            '\\xa0', ' ').replace('\\x92', ' ').replace('\\x93', ' ').replace('\\x94', ' ').replace('\\u200b', ' ')\n",
    "    text = re.sub('\\s+', ' ', text)\n",
    "    text = re.sub(\"(\\'|’)\", '', text)\n",
    "    # item 2/7로 시작하는 mda를 골라내기\n",
    "\n",
    "    if re.search('\\billumina\\b', text):\n",
    "        if '20200211' in text or '20200501' in text or '20200807' in text or '20201030' in text or '20210217' in text:\n",
    "            keyword = 'our discussion of our results of operations'\n",
    "            text = text[re.search(keyword, text).end():]\n",
    "            if file_type == '10-Q':\n",
    "                except_keyword = 'we design our internal controls to provide reasonable assurance'\n",
    "                text = text[:re.search(except_keyword, text).start()]\n",
    "                return text\n",
    "            else:\n",
    "                except_keyword = 'we have audited the accompanying consolidated balance sheets of Illumin'.lower()\n",
    "                text = text[:re.search(except_keyword, text).start()]\n",
    "                return text\n",
    "\n",
    "    if 'intc' in text and 'paj.intc' not in text:\n",
    "        try:\n",
    "            keyword = '(table of contents)\\s*management\\s*s discussion and analysis'\n",
    "            text1 = text[re.search(keyword, text).end():]\n",
    "            if file_type == '10-Q':\n",
    "                except_keyword = '(other\\s*key\\s*information|\\d\\W{0,1}\\s*quantitative and qualitative disclosure)'\n",
    "                text = text1[:re.search(except_keyword, text1).start()]\n",
    "                return text\n",
    "            else:\n",
    "                except_keyword = '(other\\s*key\\s*information|\\d\\W{0,1}\\s*quantitative and qualitative disclosure)'\n",
    "                text = text1[:re.search(except_keyword, text1).start()]\n",
    "                return text\n",
    "        except:\n",
    "            try:\n",
    "                keyword = '\\s*\\d\\s*\\W{0,1}\\s*management\\s*s discussion and analysis\\s*of financial condition and results of operations{0,1}' if file_type == '10-Q' else '\\s*7\\s*\\W{0,1}\\s*management\\s*s discussion and analysis\\s*of financial condition and results of operations{0,1}'\n",
    "                except_keyword = '(item\\s*3\\s*\\W{0,1}\\s*\\w+|item\\s*4\\s*\\W{0,1}\\s*\\w+)' if file_type == '10-Q' else 'item\\s*7a\\s*\\W{0,1}\\s*quantitative and qualitative disclosure'\n",
    "                text = text[re.search(keyword, text).end():]\n",
    "                text = text[re.search(keyword, text).end():]\n",
    "                text = text[:re.search(except_keyword, text).start()]\n",
    "                return text\n",
    "            except:\n",
    "                keyword = '\\s*\\d\\s*\\W{0,1}\\s*management\\s*s discussion and analysis\\s*of financial condition and results of operations{0,1}' if file_type == '10-Q' else '\\s*7\\s*\\W{0,1}\\s*management\\s*s discussion and analysis\\s*of financial condition and results of operations{0,1}'\n",
    "                except_keyword = '(item\\s*3\\s*\\W{0,1}\\s*\\w+|item\\s*4\\s*\\W{0,1}\\s*\\w+)' if file_type == '10-Q' else 'item\\s*7a\\s*\\W{0,1}\\s*quantitative and qualitative disclosure'\n",
    "                text = text[:re.search(except_keyword, text).start()]\n",
    "                return text\n",
    "\n",
    "    keyword = '\\s*\\d\\s*\\W{0,1}\\s*management\\s*s discussion and analysis\\s*of financial condition and results of operations{0,1}' if file_type == '10-Q' else '\\s*7\\s*\\W{0,1}\\s*management\\s*s discussion and analysis\\s*of financial condition and results of operations{0,1}'\n",
    "    # 2개 이상있다는 것은 table of contents에서 잡아내는 것\n",
    "    if len(re.findall(keyword, text)) > 1:\n",
    "        # table of contents는 거르고, mda이하를 잡아낸다.\n",
    "        text1 = text[re.search(keyword, text).end():]\n",
    "        text2 = text1[re.search(keyword, text1).end():]\n",
    "        text = text2\n",
    "        if 'item' in text2[:30]:\n",
    "            text = text1\n",
    "            if 'item' in text[:30]:\n",
    "                try:\n",
    "                    try:\n",
    "                        keyword = 'table\\s*of\\s*contents\\s*(item\\s*2\\s*\\W{0,1}\\s*management\\s*s discussion and analysis of financial condition and results of operations{0,1})' if file_type == '10-Q' else 'table\\s*of\\s*contents\\s*(item\\s*7\\s*\\W{0,1}\\s*management\\s*s discussion and analysis of financial condition and results of operations{0,1})'\n",
    "                        text = text[re.search(keyword, text).end():]\n",
    "                    except:\n",
    "                        keyword = 'item\\s*2\\s*\\W{0,1}\\s*management\\s*s discussion and analysis of financial condition and results of operations{0,1}\\s*the following' if file_type == '10-Q' else 'item\\s*7\\s*\\W{0,1}\\s*management\\s*s discussion and analysis of financial condition and results of operations{0,1}\\s*the following'\n",
    "                        text = text[re.search(keyword, text).end():]\n",
    "                except:\n",
    "                    try:\n",
    "                        keyword = 'item\\s*2\\s*\\W{0,1}\\s*management\\s*s discussion and analysis of financial condition and results of operations{0,1}\\s*the following' if file_type == '10-Q' else 'item\\s*7\\s*\\W{0,1}\\s*management\\s*s discussion and analysis of financial condition and results of operations{0,1}\\s*the following'\n",
    "                        text = text2[re.search(keyword, text2).end():]\n",
    "                    except:\n",
    "                        keyword = 'item\\s*2\\s*\\W{0,1}\\s*management\\s*s discussion and analysis of financial condition and results of operations{0,1}' if file_type == '10-Q' else 'item\\s*7\\s*\\W{0,1}\\s*management\\s*s discussion and analysis of financial condition and results of operations{0,1}'\n",
    "                        text = text2[re.search(keyword, text2).end():]\n",
    "    # 아예 mda가 없는 경우\n",
    "    elif len(re.findall('discussion and analysis of financial condition', text)) == 0:\n",
    "        keyword = 'discussion and analysis\\s*of results of operations{0,1} and financial condition\\s*organization and business segments'\n",
    "        if re.search(keyword, text):\n",
    "            text = text[re.search(keyword, text).end():]\n",
    "        else:\n",
    "            try:\n",
    "                keyword = '\\s*2\\s*\\W{0,1}\\s*management\\s*s discussion and analysis of financial condition and results of operations{0,1}\\s*results of operations' if file_type == '10-Q' else '\\s*7\\s*\\W{0,1}\\s*management\\s*s discussion and analysis of financial condition and results of operations{0,1}\\s*results of operations'\n",
    "                if re.search(keyword, text):\n",
    "                    text = text[re.search(keyword, text).end():]\n",
    "                else:\n",
    "                    keyword = '\\s*2\\s*\\W{0,1}\\s*management\\s*s discussion and analysis\\s*of financial condition and results of operations{0,1}\\s*operating results' if file_type == '10-Q' else '\\s*7\\s*\\W{0,1}\\s*management\\s*s discussion and analysis of financial condition and results of operations{0,1}\\s*operating results'\n",
    "                    text = text[re.search(keyword, text).end():]\n",
    "            except:\n",
    "                try:\n",
    "                    keyword = '\\s*2\\s*\\W{0,1}\\s*management\\s*s discussion and analysis\\s*of results of operations{0,1} and financial condition\\s*results of operations' if file_type == '10-Q' else '\\s*7\\s*\\W{0,1}\\s*management\\s*s discussion and analysis of results of operations{0,1} and financial condition\\s*results of operations'\n",
    "                    if re.search(keyword, text):\n",
    "                        text = text[re.search(keyword, text).end():]\n",
    "                    else:\n",
    "                        keyword = '\\s*2\\s*\\W{0,1}\\s*management\\s*s discussion and analysis\\s*of results of operations{0,1} and financial condition\\s*operating results' if file_type == '10-Q' else '\\s*7\\s*\\W{0,1}\\s*management\\s*s discussion and analysis of results of operations{0,1} and financial condition\\s*operating results'\n",
    "                        text = text[re.search(keyword, text).end():]\n",
    "                except:\n",
    "                    try:\n",
    "                        keyword = '\\s*2\\s*\\W{0,1}\\s*management\\s*s discussion and analysis\\s*of results of operations{0,1} and financial condition' if file_type == '10-Q' else '\\s*7\\s*\\W{0,1}\\s*management\\s*s discussion and analysis\\s*of results of operations{0,1} and financial condition'\n",
    "                        text = text[re.search(keyword, text).end():]\n",
    "                        text = text[re.search(keyword, text).end():]\n",
    "                    except:\n",
    "                        return text\n",
    "                        keyword = '\\s*2\\s*\\W{0,1}\\s*management\\s*s discussion and analysis\\s*of\\s*financial condition\\s*and results of operations{0,1}' if file_type == '10-Q' else '\\s*7\\s*\\W{0,1}\\s*management\\s*s discussion and analysis\\s*of\\s*financial condition\\s*and results of operations{0,1}'\n",
    "                        text = text[re.search(keyword, text).end():]\n",
    "                        text = text[re.search(keyword, text).end():]\n",
    "\n",
    "    # table of contents가 없는 경우\n",
    "    else:\n",
    "        # 바로 mda 이하 잡아내기\n",
    "        try:\n",
    "            text = text[re.search(keyword, text).end():]\n",
    "        # table of contents도 없는데 item으로 시작하지도 않는 경우\n",
    "        except:\n",
    "            try:\n",
    "                text = text[re.search(\n",
    "                    'this discussion and analysis should be read in conjunction with the md', text).end():]\n",
    "            except:\n",
    "                try:\n",
    "                    keyword = 'discussion and analysis of results of operations{0,1} and financial condition\\s*organization and business segments'\n",
    "                    text = text[re.search(keyword, text).end():]\n",
    "                except:\n",
    "                    keyword = '\\s*2\\s*\\W{0,1}\\s*management\\s*s discussion and analysis of results of operations and{0,1} financial condition' if file_type == '10-Q' else '\\s*7\\s*\\W{0,1}\\s*management\\s*s discussion and analysis of results of operations{0,1} and financial condition'\n",
    "                    if len(re.findall(keyword, text)) == 1:\n",
    "                        text = text[re.search(keyword, text).end():]\n",
    "                    else:\n",
    "                        text1 = text[re.search(keyword, text).end():]\n",
    "                        text2 = text1[re.search(keyword, text1).end():]\n",
    "                        if 'item' in text2[:20]:\n",
    "                            text = text2[re.search(keyword, text2).end():]\n",
    "\n",
    "    # return text\n",
    "    # mda만 골라내는 작업\n",
    "    # item 7a인 경우\n",
    "\n",
    "    try:\n",
    "        # item ~~인 경우\n",
    "        try:\n",
    "            except_keyword = '(item\\s*3\\s*\\W{0,1}\\s*\\w+|item\\s*4\\s*\\W{0,1}\\s*\\w+)' if file_type == '10-Q' else 'item\\s*7a\\s*\\W{0,1}\\s*quantitative and qualitative disclosure'\n",
    "            text = clean_text(\n",
    "                text[:re.search(except_keyword, text).start()])\n",
    "            return text\n",
    "        # item이 아닌 경우\n",
    "        except:\n",
    "            try:\n",
    "                # non-gaap가 뜬금없이 다음에 오는 경우\n",
    "                if 'Explanation and Reconciliation of Non'.lower() in text:\n",
    "                    except_keyword = 'that are not calculated in accordance with gaap'\n",
    "                    text = clean_text(\n",
    "                        text[:re.search(except_keyword, text).start()])\n",
    "                    return text\n",
    "                # 그게 아닌 경우 (정상)\n",
    "                else:\n",
    "                    except_keyword = 'quantitative and qualitative disclosure'\n",
    "                    text = clean_text(\n",
    "                        text[:re.search(except_keyword, text).start()])\n",
    "                    return text\n",
    "            except:\n",
    "                except_keyword = 'qualitative and quantitative disclosure'\n",
    "                text = clean_text(\n",
    "                    text[:re.search(except_keyword, text).start()])\n",
    "                return text\n",
    "\n",
    "    # item 8인 경우 (정말 혹시 몰라서)\n",
    "    except:\n",
    "        try:\n",
    "            except_keyword = '(item\\s*3\\s*\\W{0,1}\\s*\\w+|item\\s*4\\s*\\W{0,1}\\s*\\w+)' if file_type == '10-Q' else 'item\\s*8\\s*\\W{0,1}\\s*quantitative and qualitative disclosure'\n",
    "            text = clean_text(\n",
    "                text[:re.search(except_keyword, text).start()])\n",
    "            return text\n",
    "        except:\n",
    "            if 'Explanation and Reconciliation of Non'.lower() in text:\n",
    "                except_keyword = 'that are not calculated in accordance with gaap'\n",
    "                text = clean_text(\n",
    "                    text[:re.search(except_keyword, text).start()])\n",
    "                return text\n",
    "            else:\n",
    "                except_keyword = 'quantitative and qualitative disclosure'\n",
    "                text = clean_text(\n",
    "                    text[:re.search(except_keyword, text).start()])\n",
    "                return text\n",
    "\n",
    "\n",
    "def raw_filings(sector):\n",
    "    data = pd.DataFrame(sec_data)[[sector]].dropna()\n",
    "    #indices = num_split(data.index.values, 5)\n",
    "    indices = data.index.values[28:]\n",
    "    print(str(len(indices))+'csv will be generated')\n",
    "    count = 0\n",
    "    for index in indices:\n",
    "        count += 1\n",
    "        #temp = data.loc[index]\n",
    "        result = pd.DataFrame(\n",
    "            columns=['ticker', 'date', 'url', 'type', 'text'])\n",
    "        ticker, date, url, tp, text = [], [], [], [], []\n",
    "\n",
    "        # for idx in temp.index.values:\n",
    "        # for index_url, file_type, file_date in tqdm(temp.loc[idx].values[0], desc='Downloading {} Fillings'.format(idx), unit='filling'):\n",
    "        for index_url, file_type, file_date in tqdm(data.loc[index].values[0], desc='Downloading {} Fillings'.format(index), unit='filling'):\n",
    "            try:\n",
    "                if file_type == '10-K' or file_type == '10-Q':\n",
    "                    file_url = index_url.replace(\n",
    "                        '-index.htm', '.txt').replace('.txtl', '.txt')\n",
    "                    ticker.append(index)\n",
    "                    date.append(file_date)\n",
    "                    url.append(file_url)\n",
    "                    tp.append(file_type)\n",
    "                    text.append(get_mda(sec_api.get(file_url), file_type))\n",
    "\n",
    "            except:\n",
    "                print(file_type, file_url)\n",
    "                return\n",
    "\n",
    "        time.sleep(2)\n",
    "\n",
    "        result['ticker'] = ticker\n",
    "        result['date'] = date\n",
    "        result['url'] = url\n",
    "        result['type'] = tp\n",
    "        result['text'] = text\n",
    "        result.to_csv('./data/filing data/{}/{}'.format(sector,\n",
    "                                                        sector+'_'+index+'.csv'))\n",
    "        print(\"{}th csv generated! {} left\".format(count, len(indices)-count))\n",
    "\n",
    "        del(result)\n",
    "        # del(temp)\n",
    "        del(ticker)\n",
    "        del(date)\n",
    "        del(url)\n",
    "        del(tp)\n",
    "        del(text)\n",
    "    return"
   ]
  },
  {
   "cell_type": "code",
   "execution_count": 219,
   "metadata": {
    "ExecuteTime": {
     "end_time": "2021-02-28T19:30:48.322053Z",
     "start_time": "2021-02-28T18:38:50.384768Z"
    },
    "scrolled": true
   },
   "outputs": [
    {
     "name": "stderr",
     "output_type": "stream",
     "text": [
      "\r",
      "Downloading NVDA Fillings:   0%|          | 0/40 [00:00<?, ?filling/s]"
     ]
    },
    {
     "name": "stdout",
     "output_type": "stream",
     "text": [
      "10csv will be generated\n"
     ]
    },
    {
     "name": "stderr",
     "output_type": "stream",
     "text": [
      "Downloading NVDA Fillings: 100%|██████████| 40/40 [03:25<00:00,  5.14s/filling]\n",
      "Downloading ORCL Fillings:   0%|          | 0/40 [00:00<?, ?filling/s]"
     ]
    },
    {
     "name": "stdout",
     "output_type": "stream",
     "text": [
      "1th csv generated! 9 left\n"
     ]
    },
    {
     "name": "stderr",
     "output_type": "stream",
     "text": [
      "Downloading ORCL Fillings: 100%|██████████| 40/40 [07:41<00:00, 11.54s/filling]\n",
      "Downloading PAYX Fillings:   0%|          | 0/40 [00:00<?, ?filling/s]"
     ]
    },
    {
     "name": "stdout",
     "output_type": "stream",
     "text": [
      "2th csv generated! 8 left\n"
     ]
    },
    {
     "name": "stderr",
     "output_type": "stream",
     "text": [
      "Downloading PAYX Fillings: 100%|██████████| 40/40 [04:02<00:00,  6.05s/filling]\n",
      "Downloading PYPL Fillings:   0%|          | 0/29 [00:00<?, ?filling/s]"
     ]
    },
    {
     "name": "stdout",
     "output_type": "stream",
     "text": [
      "3th csv generated! 7 left\n"
     ]
    },
    {
     "name": "stderr",
     "output_type": "stream",
     "text": [
      "Downloading PYPL Fillings: 100%|██████████| 29/29 [03:23<00:00,  7.02s/filling]\n",
      "Downloading QCOM Fillings:   0%|          | 0/40 [00:00<?, ?filling/s]"
     ]
    },
    {
     "name": "stdout",
     "output_type": "stream",
     "text": [
      "4th csv generated! 6 left\n"
     ]
    },
    {
     "name": "stderr",
     "output_type": "stream",
     "text": [
      "Downloading QCOM Fillings: 100%|██████████| 40/40 [07:29<00:00, 11.24s/filling]\n",
      "Downloading SNPS Fillings:   0%|          | 0/40 [00:00<?, ?filling/s]"
     ]
    },
    {
     "name": "stdout",
     "output_type": "stream",
     "text": [
      "5th csv generated! 5 left\n"
     ]
    },
    {
     "name": "stderr",
     "output_type": "stream",
     "text": [
      "Downloading SNPS Fillings: 100%|██████████| 40/40 [04:17<00:00,  6.44s/filling]\n",
      "Downloading TEL Fillings:   0%|          | 0/40 [00:00<?, ?filling/s]"
     ]
    },
    {
     "name": "stdout",
     "output_type": "stream",
     "text": [
      "6th csv generated! 4 left\n"
     ]
    },
    {
     "name": "stderr",
     "output_type": "stream",
     "text": [
      "Downloading TEL Fillings: 100%|██████████| 40/40 [07:05<00:00, 10.65s/filling]\n",
      "Downloading TXN Fillings:   0%|          | 0/40 [00:00<?, ?filling/s]"
     ]
    },
    {
     "name": "stdout",
     "output_type": "stream",
     "text": [
      "7th csv generated! 3 left\n"
     ]
    },
    {
     "name": "stderr",
     "output_type": "stream",
     "text": [
      "Downloading TXN Fillings: 100%|██████████| 40/40 [04:47<00:00,  7.18s/filling]\n",
      "Downloading V Fillings:   0%|          | 0/40 [00:00<?, ?filling/s]"
     ]
    },
    {
     "name": "stdout",
     "output_type": "stream",
     "text": [
      "8th csv generated! 2 left\n"
     ]
    },
    {
     "name": "stderr",
     "output_type": "stream",
     "text": [
      "Downloading V Fillings: 100%|██████████| 40/40 [04:58<00:00,  7.45s/filling]\n",
      "Downloading XLNX Fillings:   0%|          | 0/40 [00:00<?, ?filling/s]"
     ]
    },
    {
     "name": "stdout",
     "output_type": "stream",
     "text": [
      "9th csv generated! 1 left\n"
     ]
    },
    {
     "name": "stderr",
     "output_type": "stream",
     "text": [
      "Downloading XLNX Fillings: 100%|██████████| 40/40 [04:25<00:00,  6.65s/filling]\n"
     ]
    },
    {
     "name": "stdout",
     "output_type": "stream",
     "text": [
      "10th csv generated! 0 left\n"
     ]
    }
   ],
   "source": [
    "raw_filings('Information Technology')"
   ]
  },
  {
   "cell_type": "markdown",
   "metadata": {},
   "source": [
    "-----------------------"
   ]
  },
  {
   "cell_type": "code",
   "execution_count": 225,
   "metadata": {
    "ExecuteTime": {
     "end_time": "2021-02-28T19:38:43.946217Z",
     "start_time": "2021-02-28T19:38:43.688439Z"
    }
   },
   "outputs": [],
   "source": [
    "sentiments = ['negative', 'positive', 'uncertainty']\n",
    "\n",
    "sentiment_df = pd.read_csv(os.path.join(\n",
    "    'data', 'loughran_mcdonald', 'LoughranMcDonald_MasterDictionary_2018.csv'))\n",
    "sentiment_df.columns = [column.lower() for column in sentiment_df.columns]\n",
    "sentiment_df = sentiment_df[sentiments + ['word']]\n",
    "sentiment_df[sentiments] = sentiment_df[sentiments].astype(bool)\n",
    "sentiment_df = sentiment_df[(sentiment_df[sentiments]).any(1)]\n",
    "sentiment_df['word'] = sentiment_df['word'].map(str.lower)"
   ]
  },
  {
   "cell_type": "code",
   "execution_count": 340,
   "metadata": {
    "ExecuteTime": {
     "end_time": "2021-02-28T21:07:53.392576Z",
     "start_time": "2021-02-28T21:07:53.244459Z"
    }
   },
   "outputs": [
    {
     "data": {
      "text/plain": [
       "125            able\n",
       "336       abundance\n",
       "338        abundant\n",
       "438       acclaimed\n",
       "477      accomplish\n",
       "            ...    \n",
       "85238           win\n",
       "85360        winner\n",
       "85361       winners\n",
       "85362       winning\n",
       "85897        worthy\n",
       "Name: word, Length: 354, dtype: object"
      ]
     },
     "execution_count": 340,
     "metadata": {},
     "output_type": "execute_result"
    }
   ],
   "source": [
    "sentiment_df[sentiment_df.positive == True].word"
   ]
  },
  {
   "cell_type": "code",
   "execution_count": 227,
   "metadata": {
    "ExecuteTime": {
     "end_time": "2021-02-28T19:39:33.597138Z",
     "start_time": "2021-02-28T19:39:33.496689Z"
    },
    "colab": {
     "base_uri": "https://localhost:8080/",
     "height": 204
    },
    "executionInfo": {
     "elapsed": 2664,
     "status": "ok",
     "timestamp": 1613393486169,
     "user": {
      "displayName": "조성민",
      "photoUrl": "",
      "userId": "06818595925565650239"
     },
     "user_tz": -540
    },
    "id": "PXBFAKoFXZLi",
    "outputId": "981d4f0b-e084-4f55-b231-96a545b9511f"
   },
   "outputs": [],
   "source": [
    "#sentiment_df['word'] = lemmatize_words(sentiment_df['word'].str.lower())\n",
    "#sentiment_df = sentiment_df.drop_duplicates('word')"
   ]
  },
  {
   "cell_type": "code",
   "execution_count": 424,
   "metadata": {
    "ExecuteTime": {
     "end_time": "2021-02-28T21:57:57.174250Z",
     "start_time": "2021-02-28T21:57:56.585152Z"
    },
    "scrolled": true
   },
   "outputs": [],
   "source": [
    "hc_filing_data = pd.read_csv('./data/filing data/Health Care/Health Care1.csv',\n",
    "                             usecols=['ticker', 'date', 'type', 'text'])\n",
    "for data in glob('./data/filing data/Health Care/Health Care_*.csv'):\n",
    "    temp = pd.read_csv(data, usecols=['ticker','date','type','text'])\n",
    "    hc_filing_data = pd.concat([hc_filing_data, temp])\n",
    "hc_filing_data = hc_filing_data.reset_index(drop=True)\n",
    "hc_filing_data = hc_filing_data.set_index('date')\n",
    "hc_filing_data.index = pd.to_datetime(hc_filing_data.index)\n",
    "hc_filing_data = hc_filing_data.sort_values(by='date')\n",
    "hc_filing_data = hc_filing_data.dropna()"
   ]
  },
  {
   "cell_type": "code",
   "execution_count": 4,
   "metadata": {
    "ExecuteTime": {
     "end_time": "2021-03-01T00:21:40.103473Z",
     "start_time": "2021-03-01T00:21:39.151577Z"
    }
   },
   "outputs": [],
   "source": [
    "it_filing_data = pd.read_csv('./data/filing data/Information Technology/Information Technology_AAPL.csv',\n",
    "                             usecols=['ticker', 'date', 'type', 'text'])\n",
    "for data in glob('./data/filing data/Information Technology/Information Technology_*.csv')[1:]:\n",
    "    temp = pd.read_csv(data, usecols=['ticker','date','type','text'])\n",
    "    it_filing_data = pd.concat([it_filing_data, temp])\n",
    "it_filing_data = it_filing_data.reset_index(drop=True)\n",
    "it_filing_data = it_filing_data.set_index('date')\n",
    "it_filing_data.index = pd.to_datetime(it_filing_data.index)\n",
    "it_filing_data = it_filing_data.sort_values(by='date')\n",
    "it_filing_data = it_filing_data.dropna()"
   ]
  },
  {
   "cell_type": "code",
   "execution_count": 20,
   "metadata": {
    "ExecuteTime": {
     "end_time": "2021-03-01T00:27:06.797365Z",
     "start_time": "2021-03-01T00:26:24.558570Z"
    }
   },
   "outputs": [],
   "source": [
    "data = ''\n",
    "for report in it_filing_data.text.values:\n",
    "    first = ' '+report\n",
    "    data += first"
   ]
  },
  {
   "cell_type": "code",
   "execution_count": 22,
   "metadata": {
    "ExecuteTime": {
     "end_time": "2021-03-01T00:29:05.023143Z",
     "start_time": "2021-03-01T00:28:19.345211Z"
    },
    "scrolled": true
   },
   "outputs": [],
   "source": [
    "words = word_tokenize(data)"
   ]
  },
  {
   "cell_type": "code",
   "execution_count": 24,
   "metadata": {
    "ExecuteTime": {
     "end_time": "2021-03-01T00:31:30.459171Z",
     "start_time": "2021-03-01T00:31:24.611114Z"
    }
   },
   "outputs": [],
   "source": [
    "freqwords = nltk.FreqDist(words)"
   ]
  },
  {
   "cell_type": "code",
   "execution_count": null,
   "metadata": {},
   "outputs": [],
   "source": [
    "freqworeds"
   ]
  },
  {
   "cell_type": "code",
   "execution_count": 28,
   "metadata": {
    "ExecuteTime": {
     "end_time": "2021-03-01T00:32:36.798209Z",
     "start_time": "2021-03-01T00:32:36.764642Z"
    }
   },
   "outputs": [
    {
     "data": {
      "text/plain": [
       "dict_values([3992, 9151, 5925, 49410, 8555, 30352, 34225, 483, 50752, 750, 586, 1145, 4783, 34285, 20665, 63230, 57772, 5766, 2631, 1902, 39530, 992, 14988, 17952, 3030, 994, 69318, 33571, 57700, 1415, 1606, 21302, 30105, 41516, 20179, 1567, 6190, 9234, 8899, 16840, 8305, 42794, 74842, 9187, 7928, 821, 331, 2437, 12387, 2215, 3041, 587, 368, 239, 1142, 14619, 5071, 1418, 25446, 748, 205, 5468, 152, 2504, 1538, 1071, 118, 9161, 8212, 12339, 7263, 11559, 981, 187, 8057, 16, 1504, 777, 1177, 695, 3843, 10101, 23322, 3083, 202, 11655, 4403, 916, 1827, 1735, 23418, 25676, 2274, 22165, 15624, 18551, 7504, 725, 415, 455, 1426, 9224, 13341, 11890, 3951, 11720, 6149, 10157, 3546, 532, 748, 10036, 1443, 11153, 21312, 5764, 9077, 4710, 2325, 7836, 7248, 645, 135, 4033, 508, 275, 89, 591, 5518, 7689, 19106, 21770, 12829, 11199, 20049, 21546, 1298, 5885, 87, 12619, 10937, 42730, 46193, 8684, 2610, 1392, 5295, 20784, 1769, 1870, 228, 725, 4459, 54, 906, 8903, 2102, 14673, 5776, 758, 750, 6784, 8099, 2052, 6197, 14128, 1829, 2174, 2746, 402, 2298, 2984, 498, 2037, 416, 533, 1282, 8157, 1315, 520, 6069, 1506, 11548, 411, 99, 2262, 15999, 5299, 15208, 1407, 55, 1546, 966, 23388, 7983, 1592, 3542, 854, 702, 858, 5787, 1586, 638, 2968, 962, 902, 4582, 3703, 2696, 6963, 3357, 4516, 15471, 8836, 31230, 8013, 1226, 4097, 1226, 14202, 554, 3028, 1897, 7369, 513, 3056, 438, 412, 1703, 1764, 907, 659, 2142, 11701, 1748, 205, 198, 6918, 3495, 1261, 369, 3280, 2301, 3951, 2305, 181, 102, 1020, 5179, 3329, 439, 519, 173, 659, 2067, 1188, 70, 293, 3796, 766, 24405, 6131, 7708, 2666, 1663, 5571, 1264, 4413, 489, 3211, 343, 2285, 2006, 1895, 606, 257, 8103, 9679, 18856, 720, 4021, 3865, 11862, 153, 1445, 22766, 7236, 40, 132, 4528, 1033, 6875, 1311, 1240, 3528, 363, 2831, 15335, 410, 1018, 4391, 3459, 1941, 277, 11156, 605, 2043, 1613, 6884, 4155, 2895, 1016, 3028, 555, 5409, 2684, 412, 1287, 2608, 664, 220, 2936, 27, 246, 207, 446, 2471, 282, 30, 957, 7328, 3822, 1187, 9217, 8480, 803, 249, 474, 24, 122, 223, 367, 1029, 408, 188, 349, 37, 14283, 464, 1779, 2684, 44, 514, 1775, 6915, 2552, 28, 1131, 3527, 3503, 4155, 115, 3606, 1076, 756, 171, 6588, 24, 1383, 55, 6089, 5738, 174, 28, 189, 1910, 12, 15, 17, 3530, 6938, 361, 1196, 42612, 2934, 7181, 794, 614, 523, 36276, 37020, 27225, 1417, 92, 1456, 2331, 310, 310, 693, 160, 3424, 15325, 44075, 3992, 949, 101, 11701, 900, 6093, 5929, 23067, 2527, 8246, 8994, 16164, 2569, 3000, 2378, 2889, 386, 19878, 2152, 6630, 9619, 287, 2016, 9062, 2731, 4015, 208, 4584, 2231, 2288, 8889, 376, 16136, 4880, 1409, 439, 1722, 141, 151, 2143, 370, 32738, 94389, 14224, 5906, 2529, 16928, 2910, 8627, 4228, 36799, 863, 2733, 5486, 2717, 14766, 71, 61480, 8244, 165, 69, 3191, 2921, 399, 358, 543, 802, 18578, 8449, 1439, 8318, 1326, 100, 1516, 1650, 13619, 336, 12239, 741, 185, 10039, 511, 215, 3873, 14779, 3047, 1131, 1587, 2088, 3564, 85, 21, 1806, 3538, 1139, 1295, 3, 399, 2319, 1429, 2617, 528, 1961, 287, 489, 1435, 4066, 501, 6850, 14851, 14966, 1044, 4372, 7412, 10273, 604, 16502, 1791, 71, 1612, 40, 432, 795, 1390, 15022, 195, 187, 195, 210, 5729, 1045, 1700, 3297, 570, 2227, 62, 308, 646, 75, 1202, 376, 1215, 360, 4142, 346, 746, 2011, 136, 79, 1942, 3275, 123, 40306, 1272, 1167, 11539, 1573, 1791, 879, 82, 291, 4563, 440, 375, 987, 721, 1755, 809, 1441, 8745, 780, 1025, 1684, 6675, 2135, 793, 17912, 4374, 3891, 16290, 942, 8593, 283, 2363, 5721, 2963, 840, 616, 6089, 465, 4879, 1976, 1511, 4971, 3115, 3, 1968, 752, 53, 9208, 8629, 24315, 3267, 3744, 15076, 29940, 3233, 120, 875, 17792, 4769, 67, 163, 93, 279, 286, 740, 11694, 357, 756, 1730, 1013, 1052, 635, 3646, 4074, 1113, 4848, 15828, 12366, 1953, 4858, 19497, 166, 8087, 12726, 2950, 973, 1819, 13046, 2008, 457, 782, 4150, 1273, 1607, 1978, 40, 1104, 3536, 600, 2471, 5735, 936, 3164, 7975, 2688, 903, 25373, 338, 673, 1567, 8867, 260, 2227, 162, 4033, 14, 7171, 385, 5374, 17038, 313, 858, 11349, 7830, 1574, 9859, 7216, 54, 5128, 2773, 2804, 2579, 18122, 13965, 18292, 65, 3, 4125, 1652, 3419, 2662, 1154, 2164, 27737, 1092, 15792, 1356, 903, 8418, 3426, 4963, 7, 61, 880, 761, 830, 1639, 616, 311, 120, 89, 11645, 310, 10677, 1345, 4766, 407, 2434, 785, 600, 800, 4108, 1224, 553, 3747, 433, 721, 2376, 7808, 17637, 5669, 997, 1475, 1584, 142, 1367, 3944, 1352, 118, 2671, 1087, 15492, 1077, 60, 99, 1538, 2726, 906, 379, 147, 147, 1659, 2492, 21, 2744, 827, 8033, 495, 1096, 1949, 8006, 3027, 63, 158, 1006, 575, 766, 5087, 611, 6333, 1257, 10178, 322, 1876, 9074, 1007, 1159, 3738, 8880, 507, 7186, 279, 473, 6751, 1583, 811, 7618, 666, 3331, 4285, 334, 499, 436, 963, 55, 473, 5748, 130, 387, 10642, 8505, 10119, 8604, 1252, 2590, 3709, 3411, 1996, 4669, 470, 152, 2233, 318, 158, 30, 26, 67, 19863, 3934, 9421, 215, 577, 2380, 1553, 583, 217, 3114, 1031, 43, 2456, 2733, 5267, 11456, 7335, 11460, 82, 7057, 488, 1022, 5345, 4048, 2572, 1731, 794, 10396, 1704, 139, 638, 1255, 1578, 606, 1538, 108, 510, 3874, 5687, 2426, 493, 1979, 183, 4842, 1246, 3347, 27233, 10771, 899, 2687, 129, 3849, 491, 154, 254, 3212, 1319, 9965, 387, 337, 8178, 409, 537, 6615, 5867, 371, 241, 216, 497, 421, 725, 2821, 713, 2126, 240, 586, 230, 2, 57, 2013, 444, 105, 4455, 20445, 760, 319, 4306, 297, 1199, 110, 1975, 285, 1794, 108, 4963, 528, 301, 238, 2877, 10760, 275, 914, 754, 3592, 509, 681, 655, 103, 1246, 164, 25, 44, 9468, 16, 123, 6591, 1253, 65, 574, 204, 218, 1587, 514, 216, 1162, 2687, 6302, 1082, 3671, 4741, 233, 2352, 1077, 516, 2993, 1572, 430, 2784, 2799, 1951, 1780, 6783, 2669, 8698, 1565, 2376, 272, 5240, 5880, 279, 1277, 1270, 1377, 259, 6956, 27, 307, 1038, 3761, 1629, 8005, 297, 1312, 4021, 8871, 8674, 1273, 283, 358, 380, 3834, 927, 1276, 1713, 2048, 28476, 1689, 342, 1180, 2093, 3780, 165, 694, 1704, 446, 1057, 275, 666, 342, 120, 2136, 819, 1274, 9318, 596, 3127, 1179, 1279, 1391, 1510, 2566, 985, 2448, 4730, 9491, 8456, 14737, 945, 7228, 940, 6927, 941, 238, 4485, 118, 2769, 983, 652, 96, 35600, 552, 1815, 8376, 438, 2388, 53, 287, 356, 313, 374, 48, 2663, 1782, 971, 3257, 4023, 20900, 328, 942, 1437, 19505, 368, 76, 1745, 691, 200, 45, 1276, 537, 3169, 1068, 6, 1571, 442, 3972, 8987, 1878, 987, 700, 536, 186, 118, 447, 63, 1153, 553, 1937, 5158, 5198, 953, 1063, 134, 478, 2429, 15196, 505, 2433, 2867, 1247, 143, 3108, 65, 110, 4322, 3616, 12307, 1210, 4105, 550, 754, 334, 2696, 233, 1192, 367, 6722, 99, 1685, 356, 20098, 1332, 459, 1603, 1072, 5080, 495, 1400, 185, 2617, 1538, 3931, 1251, 4034, 520, 2259, 1746, 2004, 2277, 1262, 956, 9748, 2832, 1590, 1607, 3023, 2643, 839, 72, 512, 119, 116, 3407, 3348, 1267, 3380, 1676, 1346, 2759, 1003, 3263, 5752, 325, 225, 312, 3329, 177, 179, 1157, 116, 1211, 179, 1560, 140, 4396, 97, 724, 278, 959, 614, 317, 64, 31, 367, 364, 804, 708, 339, 192, 35, 169, 101, 334, 1953, 1333, 139, 120, 1241, 68, 1279, 55, 29, 76, 140, 1173, 30, 734, 1149, 4251, 1343, 77, 337, 39, 1436, 3298, 4757, 3984, 26, 980, 1681, 495, 793, 118, 324, 6462, 185, 731, 427, 1424, 4551, 643, 1527, 3302, 460, 3121, 483, 781, 3885, 299, 32, 3263, 2082, 13, 4106, 2521, 52, 2073, 2468, 189, 631, 2, 752, 31, 640, 515, 815, 105, 563, 3752, 831, 1144, 2215, 127, 50, 847, 3656, 701, 2476, 164, 183, 124, 6415, 1789, 4631, 4031, 3332, 4517, 215, 114, 340, 1111, 1542, 2407, 3538, 150, 1445, 247, 2158, 48, 3152, 2213, 1474, 2025, 806, 1422, 1179, 603, 1325, 376, 6502, 679, 33, 2779, 42, 212, 7713, 417, 1583, 1413, 1934, 419, 555, 1426, 194, 653, 1245, 1163, 475, 342, 81, 416, 853, 505, 47, 79, 580, 1189, 13, 2495, 4001, 1470, 2340, 359, 237, 90, 2812, 71, 414, 9396, 344, 596, 1286, 806, 1460, 1830, 1351, 1912, 4111, 5663, 194, 369, 748, 923, 1803, 175, 120, 952, 265, 859, 3102, 2618, 4210, 2896, 4690, 647, 592, 510, 406, 1270, 1731, 3398, 2264, 200, 7546, 465, 5166, 239, 62, 5372, 2090, 833, 552, 441, 19, 291, 946, 1063, 1504, 502, 213, 1827, 1196, 8593, 674, 1621, 8891, 54, 373, 2568, 834, 2034, 155, 4595, 883, 1428, 78, 269, 175, 1703, 1694, 6375, 156, 1097, 209, 221, 374, 1026, 1011, 2174, 1826, 783, 1275, 1233, 1114, 103, 2192, 759, 43, 773, 2560, 7348, 2730, 672, 107, 257, 635, 4927, 2148, 2458, 261, 546, 1360, 43, 1565, 111, 99, 214, 41, 28, 75, 343, 243, 521, 43, 1942, 1025, 605, 548, 3683, 1794, 1062, 345, 974, 1100, 65, 181, 1057, 1068, 586, 573, 219, 970, 538, 857, 1346, 220, 1204, 584, 85, 111, 1227, 76, 7, 119, 860, 3580, 683, 1969, 234, 1916, 1009, 3801, 4612, 220, 4313, 4010, 647, 1101, 956, 677, 1252, 136, 1664, 874, 111, 104, 208, 243, 630, 456, 1784, 397, 707, 711, 2023, 453, 54, 3324, 5487, 248, 364, 2818, 103, 792, 1155, 262, 624, 55, 4998, 302, 929, 158, 58, 393, 5, 139, 165, 29, 1392, 1151, 2, 2, 262, 520, 1172, 7, 1015, 1040, 3015, 203, 103, 65, 484, 540, 148, 724, 1236, 234, 742, 234, 2688, 305, 230, 357, 224, 2325, 8259, 342, 64, 572, 1026, 572, 2464, 1585, 4097, 1298, 246, 40, 1506, 88, 802, 250, 318, 306, 92, 506, 316, 1034, 452, 1698, 1577, 3804, 747, 140, 985, 925, 4015, 174, 1836, 530, 1347, 781, 1648, 905, 748, 246, 4471, 1190, 1060, 1915, 722, 51, 2003, 555, 2861, 282, 1463, 824, 1048, 93, 537, 1639, 774, 1017, 181, 150, 182, 147, 742, 18382, 721, 109, 78, 1300, 277, 457, 7036, 564, 379, 45, 403, 2989, 277, 115, 42, 823, 578, 394, 122, 998, 134, 527, 1396, 1093, 3428, 494, 668, 352, 1039, 426, 570, 1228, 572, 1813, 362, 75, 489, 431, 745, 285, 1085, 836, 261, 744, 32, 1145, 197, 2266, 1329, 416, 619, 470, 135, 300, 1499, 385, 596, 170, 158, 416, 2867, 2980, 44, 102, 40, 713, 2286, 1085, 683, 942, 423, 10555, 77, 1680, 1398, 494, 32, 49, 102, 991, 86, 567, 2056, 207, 120, 4072, 445, 479, 643, 70, 108, 1157, 4, 62, 6131, 629, 91, 718, 2129, 25, 444, 228, 1191, 1299, 60, 58, 45, 72, 246, 321, 75, 214, 603, 223, 720, 811, 1144, 27, 3084, 327, 334, 8, 1571, 475, 364, 898, 114, 1811, 93, 799, 13, 3742, 378, 972, 930, 2350, 1899, 1306, 526, 2495, 303, 643, 1557, 812, 602, 18, 112, 64, 1, 47, 101, 102, 5876, 1037, 256, 751, 3753, 209, 1570, 45, 1745, 2419, 3, 471, 123, 26, 56, 700, 286, 30, 387, 43, 19, 24, 1142, 475, 492, 655, 93, 140, 169, 1203, 168, 3645, 8, 1306, 24, 8, 35, 371, 1689, 133, 1816, 135, 1, 253, 1342, 506, 15, 4, 2488, 37, 3680, 2094, 1347, 802, 1781, 1891, 39, 203, 62, 123, 400, 17, 123, 233, 127, 190, 1415, 2480, 431, 332, 63, 2, 116, 55, 201, 1, 28, 229, 1259, 1124, 341, 314, 409, 941, 14, 64, 330, 2586, 338, 177, 19, 35, 24, 14, 140, 6295, 1484, 10, 1365, 40, 748, 1224, 705, 99, 80, 828, 63, 353, 431, 180, 5, 5, 62, 35, 1, 664, 158, 205, 610, 340, 243, 548, 295, 15734, 105, 1049, 1350, 608, 3006, 325, 984, 197, 238, 731, 1517, 681, 234, 1797, 2556, 303, 251, 284, 1, 3997, 857, 348, 1380, 736, 393, 797, 524, 1484, 112, 19, 216, 109, 1355, 38, 3426, 46, 1255, 567, 45, 639, 588, 2017, 1943, 417, 458, 642, 118, 701, 240, 12, 1433, 206, 645, 95, 78, 1245, 139, 511, 80, 1130, 46, 309, 50, 395, 223, 360, 43, 107, 718, 394, 80, 1514, 1221, 387, 712, 14, 23, 59, 438, 1048, 828, 661, 3021, 1521, 333, 221, 422, 75, 59, 99, 6, 57, 472, 509, 2, 2, 1131, 5363, 1, 351, 33, 1258, 2193, 1438, 413, 20, 72, 12, 38, 60, 8, 526, 2809, 128, 121, 258, 1452, 447, 1058, 69, 262, 399, 148, 84, 697, 77, 475, 369, 606, 1451, 4428, 25, 356, 2123, 772, 886, 381, 145, 87, 229, 501, 122, 79, 675, 101, 218, 424, 44, 196, 1573, 55, 57, 951, 545, 821, 575, 556, 377, 133, 3289, 648, 733, 860, 495, 308, 259, 195, 413, 1164, 810, 113, 259, 5527, 583, 2381, 704, 553, 10, 38, 431, 538, 76, 160, 646, 122, 45, 390, 245, 39, 163, 438, 305, 6, 9, 22, 122, 16, 11, 12, 95, 20, 2, 11, 543, 777, 48, 176, 1641, 674, 5352, 89, 285, 29, 551, 1721, 2170, 251, 615, 595, 72, 28, 12, 12, 112, 1411, 179, 14, 79, 161, 80, 28, 50, 16, 164, 30, 453, 402, 1295, 1434, 522, 936, 901, 2, 2, 3, 16, 1241, 493, 501, 18, 240, 625, 3512, 1102, 952, 291, 85, 1475, 257, 3, 136, 409, 1236, 2844, 518, 54, 4, 983, 84, 373, 27, 197, 1046, 82, 447, 402, 543, 93, 113, 840, 56, 129, 227, 1049, 138, 255, 63, 392, 13, 10, 10, 10, 208, 340, 114, 48, 803, 90, 848, 51, 40, 213, 80, 195, 117, 30, 10, 29, 177, 2264, 51, 342, 2425, 30, 577, 858, 785, 427, 156, 1113, 460, 166, 115, 7, 29, 698, 291, 249, 281, 1056, 130, 1196, 1077, 1057, 418, 851, 2012, 506, 2, 178, 1, 1205, 207, 628, 1349, 421, 4667, 33, 339, 24, 168, 467, 223, 281, 434, 89, 143, 1229, 163, 35, 97, 176, 146, 402, 1481, 31, 157, 840, 1000, 204, 121, 165, 250, 457, 583, 660, 976, 559, 685, 2045, 40, 241, 525, 18, 1283, 392, 45, 30, 23, 83, 72, 488, 495, 366, 173, 282, 603, 208, 455, 1368, 365, 94, 1093, 299, 843, 114, 354, 90, 1617, 518, 1598, 535, 61, 194, 179, 333, 8, 47, 146, 38, 55, 964, 23, 27, 159, 121, 338, 41, 185, 344, 241, 6, 128, 105, 146, 85, 519, 492, 314, 377, 995, 234, 50, 374, 125, 181, 731, 953, 120, 80, 277, 1351, 209, 1672, 8, 2255, 197, 141, 712, 216, 1193, 142, 617, 338, 171, 901, 113, 48, 36, 93, 504, 52, 335, 121, 972, 358, 458, 38, 95, 39, 469, 48, 375, 59, 309, 159, 36, 68, 1143, 439, 981, 58, 39, 564, 334, 209, 37, 299, 78, 375, 23, 36, 2016, 129, 301, 10, 433, 1937, 343, 1087, 780, 191, 587, 1347, 294, 390, 134, 52, 126, 45, 310, 283, 989, 475, 130, 277, 70, 389, 256, 149, 182, 366, 46, 136, 194, 485, 471, 515, 174, 447, 476, 244, 116, 252, 81, 90, 511, 171, 180, 1005, 2254, 164, 419, 36, 208, 280, 265, 173, 384, 48, 138, 262, 1086, 272, 351, 160, 57, 1301, 279, 1789, 86, 12, 1031, 66, 73, 1547, 257, 91, 632, 49, 153, 1101, 23, 52, 1108, 45, 809, 246, 180, 123, 106, 374, 181, 54, 884, 66, 178, 95, 235, 799, 183, 257, 11, 115, 2653, 297, 122, 123, 88, 177, 125, 126, 696, 624, 73, 779, 396, 635, 41, 1003, 753, 215, 59, 393, 319, 335, 306, 68, 221, 118, 256, 1083, 305, 11, 561, 17, 517, 632, 126, 599, 269, 7, 394, 19, 147, 62, 428, 345, 527, 1931, 261, 539, 595, 49, 881, 295, 725, 107, 116, 169, 78, 148, 79, 746, 298, 641, 530, 116, 7, 430, 440, 129, 173, 38, 126, 139, 118, 383, 799, 490, 40, 761, 1374, 54, 43, 229, 28, 37, 52, 430, 739, 21, 184, 1049, 1938, 2756, 122, 4971, 234, 217, 38, 141, 45, 21, 107, 591, 100, 132, 28, 696, 45, 110, 6, 240, 2165, 189, 53, 77, 892, 162, 51, 87, 64, 69, 513, 25, 20, 5, 52, 17, 5, 754, 305, 2057, 1869, 848, 85, 593, 111, 79, 703, 97, 14, 126, 95, 24, 11, 46, 15, 374, 667, 242, 925, 556, 15, 185, 163, 113, 143, 1125, 12, 103, 180, 221, 306, 163, 35, 339, 19, 537, 179, 260, 54, 77, 47, 61, 218, 632, 875, 1561, 284, 296, 230, 180, 578, 49, 1184, 22, 48, 408, 528, 156, 734, 112, 115, 45, 315, 742, 384, 30, 246, 55, 410, 160, 5, 464, 536, 278, 584, 487, 36, 375, 34, 96, 168, 324, 87, 249, 95, 32, 78, 172, 201, 39, 210, 5, 955, 1837, 1442, 821, 549, 455, 81, 6, 388, 132, 165, 528, 400, 1594, 699, 72, 316, 29, 124, 316, 112, 41, 218, 230, 831, 1891, 750, 2143, 54, 53, 104, 766, 98, 288, 226, 627, 426, 70, 7, 59, 491, 265, 259, 380, 555, 882, 55, 314, 19, 6, 36, 96, 274, 12, 392, 8, 136, 1145, 317, 242, 212, 61, 97, 201, 127, 846, 26, 40, 26, 12, 153, 714, 552, 371, 206, 255, 66, 166, 172, 92, 160, 966, 297, 29, 40, 469, 937, 198, 467, 371, 681, 191, 22, 761, 15, 35, 47, 12, 92, 42, 484, 509, 939, 302, 19, 1515, 28, 49, 564, 274, 3200, 373, 373, 143, 1001, 275, 27, 442, 289, 53, 68, 174, 196, 409, 83, 229, 481, 168, 33, 89, 1629, 282, 631, 554, 427, 598, 897, 108, 2255, 296, 118, 287, 219, 12, 113, 198, 12, 75, 86, 106, 201, 684, 276, 1001, 255, 87, 2, 102, 283, 797, 420, 434, 473, 41, 225, 39, 355, 104, 175, 47, 8, 29, 436, 943, 148, 18, 36, 34, 4, 9, 3, 50, 40, 35, 91, 76, 239, 63, 233, 5, 448, 13, 9, 4, 58, 175, 154, 17, 17, 5, 283, 54, 92, 4, 132, 404, 724, 205, 198, 103, 83, 236, 218, 12, 32, 17, 112, 69, 79, 94, 94, 251, 22, 22, 53, 35, 1, 88, 293, 275, 43, 110, 97, 62, 254, 455, 512, 97, 103, 559, 48, 251, 489, 290, 30, 358, 29, 335, 1895, 310, 1563, 350, 10, 514, 226, 216, 1105, 899, 275, 310, 65, 377, 294, 370, 356, 832, 546, 636, 386, 255, 242, 67, 124, 78, 5903, 539, 259, 114, 1349, 799, 395, 199, 50, 97, 364, 83, 1165, 379, 46, 106, 163, 371, 84, 955, 211, 299, 25, 327, 146, 258, 257, 632, 20, 59, 71, 563, 289, 68, 56, 516, 731, 517, 1856, 73, 310, 13, 932, 47, 1687, 101, 3, 1, 45, 1, 18, 209, 20, 11, 3, 3, 3, 10, 2, 2, 1, 18, 261, 2, 10, 84, 141, 57, 32, 12, 10, 1, 51, 3, 220, 65, 246, 464, 100, 147, 38, 149, 91, 109, 550, 1475, 466, 248, 143, 695, 822, 22, 30, 30, 353, 31, 1234, 450, 265, 107, 338, 106, 113, 47, 30, 58, 23, 60, 52, 172, 11, 103, 71, 10, 125, 159, 3, 3, 37, 54, 131, 18, 1, 100, 794, 187, 790, 655, 27, 72, 31, 687, 4, 86, 10, 85, 349, 337, 337, 86, 89, 92, 84, 67, 34, 377, 381, 255, 157, 58, 339, 628, 277, 367, 187, 89, 279, 1312, 182, 109, 124, 257, 5, 31, 31, 27, 184, 86, 178, 14, 4, 110, 179, 127, 135, 612, 914, 18, 237, 577, 137, 87, 260, 184, 122, 297, 222, 301, 193, 104, 89, 672, 616, 161, 386, 1366, 76, 18, 244, 146, 221, 102, 14, 168, 172, 90, 121, 1172, 498, 102, 31, 88, 38, 33, 102, 544, 148, 145, 187, 229, 74, 65, 129, 94, 29, 472, 182, 265, 85, 35, 136, 22, 182, 218, 1996, 28, 66, 858, 884, 42, 19, 308, 560, 490, 271, 67, 339, 259, 160, 144, 38, 210, 105, 32, 139, 66, 84, 42, 45, 39, 213, 15, 39, 83, 531, 41, 146, 30, 70, 155, 10, 135, 136, 335, 210, 1617, 165, 377, 133, 76, 30, 1111, 544, 111, 295, 30, 413, 197, 223, 170, 121, 31, 99, 39, 283, 2481, 63, 69, 76, 2329, 631, 387, 145, 15, 190, 993, 297, 3, 4, 72, 598, 14, 87, 2035, 3000, 49, 154, 1028, 56, 43, 474, 635, 710, 1, 273, 1341, 188, 715, 153, 261, 875, 103, 94, 215, 31, 69, 108, 37, 822, 249, 286, 104, 148, 12, 588, 239, 461, 253, 57, 1141, 23, 5, 10, 337, 97, 37, 197, 162, 6, 15, 1303, 277, 181, 1139, 86, 194, 273, 11, 41, 23, 2778, 265, 415, 36, 520, 496, 451, 20, 10, 505, 516, 197, 97, 20, 156, 1032, 154, 81, 104, 30, 357, 429, 50, 45, 823, 85, 1282, 118, 13, 1026, 187, 64, 15, 166, 230, 94, 34, 282, 92, 87, 60, 149, 204, 80, 69, 55, 127, 84, 490, 271, 160, 54, 22, 22, 22, 22, 27, 22, 31, 83, 42, 31, 2, 576, 106, 169, 129, 322, 82, 146, 87, 76, 267, 31, 102, 65, 4, 48, 231, 31, 85, 424, 51, 161, 106, 395, 109, 261, 787, 262, 103, 468, 184, 291, 137, 442, 191, 146, 13, 968, 1186, 1679, 147, 213, 132, 94, 25, 56, 573, 321, 224, 28, 38, 97, 180, 1054, 33, 12, 103, 190, 232, 346, 33, 24, 448, 53, 21, 1640, 1470, 491, 28, 97, 191, 102, 706, 192, 90, 102, 176, 220, 314, 184, 50, 1014, 183, 229, 266, 9, 171, 148, 16, 548, 349, 528, 1167, 393, 262, 407, 288, 262, 185, 59, 740, 164, 148, 102, 224, 357, 529, 100, 173, 772, 372, 499, 593, 267, 228, 1044, 94, 839, 382, 6, 48, 7, 117, 427, 264, 55, 71, 297, 340, 109, 100, 36, 29, 10, 4, 5, 674, 250, 252, 175, 202, 121, 35, 15, 121, 36, 495, 5, 29, 389, 187, 432, 213, 183, 30, 40, 207, 228, 367, 387, 154, 224, 584, 38, 100, 410, 49, 62, 123, 288, 1514, 68, 87, 1616, 481, 16, 26, 29, 818, 262, 327, 350, 84, 80, 269, 959, 64, 93, 62, 127, 62, 17, 94, 3, 382, 3, 147, 196, 56, 44, 355, 298, 360, 1040, 74, 241, 1151, 418, 39, 196, 61, 306, 3597, 95, 58, 1007, 263, 811, 507, 23, 1311, 806, 18, 2937, 48, 111, 42, 174, 53, 154, 329, 124, 56, 111, 23, 31, 41, 229, 159, 680, 32, 48, 83, 24, 48, 11, 23, 101, 144, 2, 35, 70, 422, 61, 44, 39, 486, 63, 11, 875, 534, 134, 695, 13, 254, 48, 10, 10, 9, 9, 9, 9, 17, 24, 15, 109, 8, 84, 169, 2, 2, 2, 2, 2, 2, 931, 60, 375, 819, 586, 563, 221, 661, 340, 121, 34, 108, 103, 45, 204, 368, 61, 135, 1585, 39, 86, 217, 99, 15, 126, 226, 114, 29, 33, 85, 467, 38, 3, 108, 72, 276, 104, 98, 459, 270, 40, 31, 209, 288, 923, 162, 36, 39, 97, 62, 59, 445, 365, 576, 387, 256, 43, 13, 39, 76, 196, 64, 1223, 315, 204, 183, 424, 41, 169, 292, 9, 56, 430, 166, 573, 397, 51, 322, 18, 245, 24, 92, 144, 317, 181, 139, 727, 342, 303, 27, 736, 23, 76, 14, 33, 13, 36, 84, 305, 3, 12, 7, 25, 41, 166, 52, 110, 830, 284, 186, 59, 132, 195, 18, 19, 519, 309, 344, 125, 146, 23, 67, 164, 286, 287, 86, 197, 48, 184, 185, 268, 36, 36, 36, 229, 241, 135, 238, 136, 151, 139, 103, 328, 117, 802, 61, 223, 156, 84, 25, 208, 135, 112, 182, 286, 143, 208, 99, 648, 189, 92, 207, 19, 79, 735, 317, 214, 34, 27, 82, 27, 209, 1023, 160, 20, 1389, 231, 301, 127, 43, 164, 39, 105, 83, 31, 181, 183, 685, 199, 134, 13, 1547, 71, 78, 50, 5, 391, 66, 107, 87, 177, 61, 155, 27, 14, 54, 14, 18, 822, 21, 67, 68, 15, 1341, 41, 289, 123, 171, 49, 37, 122, 88, 142, 33, 11, 31, 85, 450, 88, 61, 15, 164, 43, 14, 297, 37, 143, 933, 51, 554, 33, 592, 16, 112, 11, 256, 7, 118, 12, 324, 58, 250, 12, 213, 35, 46, 12, 40, 12, 89, 84, 15, 12, 185, 12, 33, 12, 180, 28, 30, 163, 11, 673, 98, 333, 31, 301, 13, 54, 175, 22, 83, 48, 97, 30, 16, 52, 108, 106, 164, 300, 63, 186, 1, 114, 44, 4, 3, 109, 24, 252, 4, 10, 275, 236, 294, 618, 63, 686, 206, 256, 405, 105, 174, 71, 253, 144, 40, 385, 503, 247, 178, 450, 296, 15, 4, 145, 2, 46, 151, 61, 37, 224, 22, 40, 336, 20, 39, 12, 22, 257, 16, 9, 138, 46, 102, 184, 89, 255, 366, 19, 407, 484, 41, 254, 512, 828, 352, 57, 111, 146, 702, 162, 839, 87, 32, 32, 55, 167, 73, 89, 1053, 22, 112, 40, 69, 536, 99, 372, 161, 220, 394, 79, 24, 62, 1026, 164, 9706, 9710, 7708, 1352, 3625, 30577, 20192, 80, 3839, 6863, 20885, 989, 8676, 39368, 1278, 31169, 30878, 170, 7, 1, 179, 73, 861, 1, 11, 859, 18312, 15451, 770, 5, 90, 54, 483, 9, 5877, 565, 359, 45, 5, 83, 7, 2377, 3195, 2, 1747, 482, 4490, 16340, 24, 15, 1166, 717, 1, 5050, 292, 169, 7938, 383, 12, 256, 2167, 789, 6, 2831, 52, 35, 2108, 14, 337, 1291, 17, 50, 101, 717, 339, 12288, 2323, 3, 27, 1934, 163, 4308, 158, 42, 207, 74, 56, 3, 757, 3479, 39, 28, 1988, 28, 381, 9, 333, 47, 44, 133, 5, 14, 24, 20, 22, 1993, 99, 3, 1656, 40, 64, 81, 115, 29, 160, 20, 160, 155, 208, 223, 573, 612, 2, 3, 17, 91, 82, 107, 227, 584, 10, 3, 3, 18, 112, 30, 7, 10, 130, 594, 41, 373, 91, 369, 65, 97, 3, 3, 118, 104, 46, 7, 76, 15, 139, 246, 3, 41, 479, 11, 9, 179, 5, 29, 385, 345, 3, 276, 234, 180, 16, 203, 294, 3, 21, 624, 463, 191, 221, 569, 142, 202, 121, 26, 5113, 581, 121, 64, 3387, 279, 10, 48, 1112, 39, 198, 655, 15, 64, 247, 8, 56, 77, 101, 736, 382, 182, 479, 71, 213, 256, 882, 296, 245, 179, 235, 95, 1534, 832, 132, 306, 101, 8, 309, 296, 466, 142, 636, 273, 341, 2079, 359, 518, 294, 8, 23, 5, 56, 10, 301, 127, 397, 35, 8, 33, 244, 16, 2962, 27, 255, 8, 160, 53, 538, 43, 132, 1494, 78, 126, 139, 15, 214, 253, 70, 165, 207, 337, 478, 805, 237, 426, 238, 244, 221, 132, 23, 152, 6, 12, 26, 76, 61, 8, 24, 38, 7, 25, 13, 77, 793, 110, 173, 871, 4, 157, 2, 2, 9, 1, 12, 2, 7, 1, 13, 5, 15, 5, 15, 7, 9, 4, 18, 251, 86, 795, 2, 9, 1, 5, 100, 113, 66, 57, 96, 531, 70, 25, 409, 4, 4, 2, 4, 11, 2, 18, 2, 2, 2, 10, 6, 3, 39, 2, 49, 1, 63, 4, 225, 7, 211, 4, 398, 4, 2, 4, 266, 8, 154, 226, 6, 502, 202, 1, 93, 196, 1, 1, 67, 5, 2, 2, 1, 2, 5, 95, 5, 152, 21, 581, 5, 2, 13, 12, 2, 1, 2, 3, 3, 232, 9, 76, 66, 9, 65, 18, 5, 7, 7, 2, 3, 280, 4, 184, 45, 106, 18, 39, 74, 67, 10, 1297, 526, 5, 4, 912, 576, 265, 113, 72, 84, 46, 43, 25, 6, 815, 65, 477, 13, 29, 11, 9, 12, 94, 1289, 59, 110, 358, 284, 3, 230, 14, 155, 52, 58, 35, 20, 77, 39, 23, 9, 49, 32, 49, 18, 80, 464, 1, 23, 40, 23, 256, 46, 12, 140, 88, 34, 118, 20, 29, 32, 26, 26, 19, 1, 6, 3, 7, 1, 4, 18, 27, 344, 2, 2, 5, 1, 2, 2, 412, 2, 2, 163, 1, 261, 124, 7, 854, 67, 13, 822, 24, 22, 552, 72, 373, 23, 25, 106, 174, 56, 184, 45, 140, 9, 21, 11, 23, 66, 62, 71, 109, 3, 36, 8, 587, 30, 1356, 1845, 1737, 1462, 1552, 66, 222, 12, 130, 96, 19, 57, 84, 117, 32, 128, 70, 77, 128, 59, 54, 6, 35, 52, 213, 210, 47, 208, 98, 153, 72, 137, 83, 135, 326, 39, 8, 20, 65, 4, 47, 11, 66, 173, 137, 12, 264, 47, 120, 157, 404, 32, 40, 674, 122, 50, 703, 10, 48, 140, 202, 184, 108, 40, 1203, 52, 52, 327, 1106, 127, 530, 73, 61, 17, 619, 352, 402, 22, 70, 146, 15, 21, 134, 429, 412, 23, 16, 37, 53, 133, 35, 182, 151, 193, 28, 57, 16, 399, 36, 13, 8, 48, 8, 94, 1358, 135, 281, 20, 267, 216, 22, 182, 8, 129, 27, 37, 98, 99, 12, 49, 39, 32, 65, 226, 8, 187, 472, 120, 22, 493, 182, 122, 278, 148, 179, 86, 62, 102, 40, 50, 43, 242, 191, 102, 447, 24, 42, 198, 39, 52, 43, 258, 137, 47, 92, 286, 32, 107, 154, 13, 13, 63, 508, 109, 214, 478, 30, 90, 45, 83, 50, 53, 102, 126, 594, 58, 113, 96, 140, 105, 151, 130, 147, 112, 164, 12, 12, 33, 25, 601, 82, 372, 73, 4, 42, 25, 119, 19, 168, 229, 18, 72, 28, 124, 29, 111, 120, 10, 9, 685, 404, 483, 127, 67, 61, 226, 76, 256, 72, 12, 37, 3, 120, 121, 33, 875, 191, 9, 49, 120, 5, 202, 19, 208, 76, 100, 19, 19, 3, 6, 6, 554, 38, 188, 82, 130, 119, 119, 213, 46, 21, 258, 68, 26, 6, 20, 113, 103, 539, 4, 119, 42, 218, 46, 7, 8, 6, 396, 424, 41, 106, 32, 78, 48, 56, 60, 11, 5, 5, 246, 15, 59, 93, 504, 290, 144, 241, 6, 6, 12, 4, 170, 40, 379, 1, 320, 78, 107, 87, 436, 250, 171, 265, 32, 579, 49, 120, 150, 103, 205, 49, 735, 747, 228, 52, 49, 52, 136, 245, 74, 69, 58, 34, 233, 118, 288, 204, 4, 4, 16, 122, 92, 43, 39, 8, 100, 317, 193, 46, 40, 140, 30, 109, 271, 119, 33, 424, 256, 673, 259, 263, 300, 21, 2328, 3, 362, 428, 361, 221, 676, 4, 91, 35, 42, 140, 112, 6, 31, 30, 383, 315, 48, 58, 8, 133, 128, 389, 1, 78, 3, 102, 22, 35, 908, 5, 34, 1, 225, 72, 5, 8, 3, 60, 15, 9, 3, 10, 10, 3, 20, 5, 40, 3, 13, 82, 280, 123, 13, 33, 27, 12, 349, 16, 285, 83, 151, 314, 121, 35, 14, 168, 272, 83, 1, 10, 5, 31, 306, 91, 387, 392, 2, 133, 511, 208, 16, 91, 134, 47, 216, 112, 98, 86, 148, 227, 54, 38, 4, 36, 57, 35, 5, 150, 20, 21, 65, 15, 2, 68, 32, 146, 233, 90, 85, 51, 14, 5, 5, 136, 168, 75, 70, 26, 15, 125, 72, 27, 36, 32, 33, 79, 85, 66, 5, 365, 603, 21, 320, 242, 129, 35, 24, 10, 260, 228, 23, 8, 23, 148, 231, 127, 98, 39, 67, 32, 170, 78, 23, 16, 99, 26, 21, 399, 64, 191, 5, 20, 22, 17, 67, 6, 1, 41, 180, 121, 6, 6, 30, 107, 39, 19, 155, 111, 397, 61, 24, 461, 16, 316, 35, 16, 639, 112, 135, 267, 201, 36, 36, 102, 25, 28, 65, 29, 863, 12, 83, 250, 105, 112, 74, 1, 91, 48, 5, 4, 22, 17, 17, 77, 94, 100, 14, 42, 271, 5, 35, 34, 33, 4, 275, 2, 192, 323, 144, 37, 1004, 42, 134, 121, 42, 35, 54, 203, 190, 121, 54, 142, 30, 94, 106, 2, 283, 31, 144, 79, 62, 57, 211, 20, 24, 46, 21, 98, 15, 18, 40, 73, 133, 177, 71, 120, 167, 169, 143, 1, 3, 14, 11, 58, 34, 33, 40, 83, 31, 16, 34, 314, 155, 395, 67, 29, 115, 532, 373, 107, 58, 353, 38, 56, 2, 8, 834, 174, 47, 57, 119, 9, 103, 47, 57, 15, 31, 5, 162, 161, 7, 270, 159, 182, 84, 146, 247, 98, 249, 10, 28, 7, 37, 375, 63, 11, 12, 64, 17, 68, 16, 17, 5, 62, 146, 95, 203, 11, 10, 10, 1, 42, 50, 297, 5, 3, 196, 22, 2, 167, 50, 89, 8, 38, 82, 7, 66, 41, 11, 23, 65, 84, 10, 124, 86, 46, 37, 336, 96, 170, 1, 4, 85, 17, 26, 74, 21, 17, 153, 83, 16, 24, 21, 18, 225, 62, 4, 18, 2, 87, 161, 16, 1, 1, 8, 21, 1, 11, 14, 10, 59, 7, 56, 47, 16, 35, 12, 171, 38, 122, 34, 11, 41, 18, 35, 124, 11, 3, 84, 23, 43, 216, 51, 48, 46, 152, 4, 13, 1, 37, 18, 97, 84, 7, 1, 2, 63, 148, 129, 2, 165, 20, 6, 207, 21, 130, 48, 68, 67, 1, 1, 1, 9, 3, 5, 90, 222, 3, 26, 68, 1, 159, 102, 124, 64, 45, 57, 87, 17, 76, 69, 194, 63, 235, 241, 29, 42, 38, 62, 34, 5, 11, 74, 231, 514, 33, 99, 58, 47, 12, 61, 68, 58, 12, 96, 5, 31, 164, 29, 15, 8, 86, 280, 215, 64, 196, 5, 28, 15, 396, 165, 45, 25, 31, 7, 19, 6, 46, 25, 70, 171, 55, 292, 87, 92, 50, 46, 4, 247, 210, 109, 67, 22, 25, 41, 34, 149, 293, 18, 46, 26, 10, 94, 17, 14, 71, 24, 98, 143, 36, 51, 8, 9, 30, 1, 1, 126, 14, 273, 8, 1, 185, 130, 79, 35, 1, 88, 45, 261, 51, 132, 48, 40, 28, 64, 16, 192, 19, 7, 65, 25, 21, 13, 13, 55, 162, 41, 189, 38, 325, 8, 128, 46, 23, 12, 80, 1, 293, 65, 150, 94, 24, 583, 146, 34, 20, 19, 27, 98, 58, 52, 10, 37, 95, 27, 25, 22, 55, 206, 24, 4, 3, 11, 2, 10, 580, 58, 39, 108, 74, 9, 52, 6, 32, 78, 18, 79, 28, 40, 156, 5, 11, 467, 15, 14, 19, 39, 17, 36, 85, 15, 22, 58, 19, 15, 38, 60, 106, 2, 25, 11, 71, 24, 18, 4, 20, 219, 58, 45, 14, 109, 61, 16, 31, 24, 11, 20, 40, 176, 6, 1, 454, 307, 55, 51, 7, 61, 227, 19, 30, 5, 44, 23, 167, 1, 1372, 44, 11, 6, 31, 11, 242, 125, 138, 54, 8, 15, 74, 35, 84, 238, 77, 10, 9, 261, 303, 84, 113, 24, 52, 44, 95, 46, 85, 117, 83, 38, 71, 69, 21, 88, 72, 18, 66, 99, 59, 200, 39, 28, 30, 51, 186, 25, 105, 28, 18, 123, 155, 27, 136, 10, 26, 37, 111, 3, 12, 100, 113, 131, 234, 181, 44, 21, 29, 42, 77, 268, 195, 171, 182, 7, 10, 3, 27, 9, 6, 16, 67, 23, 112, 50, 49, 41, 72, 50, 139, 168, 90, 35, 246, 24, 23, 59, 290, 196, 38, 40, 73, 49, 51, 180, 46, 35, 11, 99, 177, 65, 9, 104, 30, 124, 80, 92, 96, 20, 81, 71, 22, 21, 5, 19, 3, 26, 29, 89, 20, 27, 38, 58, 29, 38, 48, 20, 81, 90, 13, 19, 28, 4, 54, 81, 36, 10, 3, 81, 32, 184, 712, 168, 25, 158, 14, 11, 4, 5, 5, 15, 10, 7, 22, 32, 11, 25, 28, 1, 24, 5, 1, 119, 42, 11, 5, 231, 13, 9, 650, 18, 2, 369, 8, 25, 40, 278, 24, 23, 217, 47, 34, 390, 150, 15, 18, 193, 328, 37, 85, 70, 24, 78, 12, 68, 31, 41, 164, 60, 46, 45, 24, 79, 41, 33, 31, 13, 136, 20, 344, 21, 21, 40, 3, 44, 43, 39, 11, 248, 70, 21, 110, 53, 9, 63, 36, 102, 11, 1, 1, 28, 1, 6, 5, 1, 221, 2, 90, 81, 50, 175, 13, 4, 10, 4, 4, 18, 42, 9, 39, 77, 10, 48, 9, 3, 34, 12, 79, 181, 4, 2, 2, 7, 1, 6, 2, 11, 1, 3, 5, 5, 14, 4, 11, 2, 53, 73, 2, 9, 1, 3, 30, 55, 18, 137, 75, 4, 2, 3, 6, 14, 3, 8, 3, 2, 1, 3, 7, 6, 8, 1, 2, 1, 2, 3, 2, 46, 6, 5, 22, 1, 1, 2, 5, 2, 1, 2, 1, 7, 19, 1, 1, 6, 8, 2, 1, 2, 1, 7, 22, 3, 4, 7, 33, 23, 6, 58, 65, 5, 20, 69, 25, 5, 49, 35, 74, 3, 26, 9, 8, 4, 2, 2, 9, 1, 5, 2, 10, 1, 8, 7, 27, 2, 28, 4, 13, 2, 39, 476, 2, 11, 1, 6, 33, 37, 14, 36, 4, 6, 2, 3, 5, 8, 2, 6, 2, 4, 1, 14, 8, 5, 2, 1, 6, 3, 1, 2, 2, 25, 7, 13, 17, 1, 1, 3, 1, 2, 1, 2, 1, 37, 15, 1, 1, 5, 7, 2, 1, 2, 2, 3, 3, 2, 2, 45, 27, 33, 22, 7, 17, 25, 2, 44, 18, 3, 3, 37, 26, 67, 33, 73, 6, 741, 15, 63, 34, 6, 1, 2, 38, 2, 1, 2, 3, 2, 1, 5, 1, 13, 5, 48, 59, 528, 50, 16, 1, 6, 4, 161, 19, 41, 210, 135, 60, 34, 34, 39, 182, 54, 19, 164, 4, 583, 45, 74, 52, 94, 69, 169, 152, 38, 1, 122, 54, 42, 46, 47, 138, 32, 49, 2, 87, 93, 87, 60, 66, 130, 34, 93, 37, 55, 56, 35, 68, 1, 139, 33, 81, 34, 45, 73, 124, 139, 105, 51, 43, 107, 156, 41, 39, 11, 14, 4, 4, 532, 253, 304, 112, 112, 417, 2, 49, 40, 148, 1, 72, 122, 21, 28, 3, 16, 74, 12, 2, 74, 15, 16, 1, 26, 29, 42, 22, 26, 1, 1, 1, 486, 103, 28, 28, 3, 41, 22, 6, 43, 21, 143, 15, 48, 8, 7, 68, 32, 41, 1, 2, 2, 4, 165, 2, 2, 37, 13, 38, 16, 61, 32, 24, 127, 84, 1, 146, 107, 9, 5, 1, 16, 89, 151, 30, 10, 3, 25, 50, 37, 12, 21, 15, 22, 14, 5, 5, 7, 22, 9, 24, 132, 35, 35, 56, 106, 267, 2, 9, 158, 70, 9, 6, 19, 22, 20, 1, 1, 8, 49, 18, 14, 3, 7, 140, 12, 2, 1, 1, 6, 8, 20, 16, 1, 8, 44, 2, 1, 4, 13, 10, 115, 9, 19, 2, 2, 19, 9, 34, 30, 8, 44, 2, 57, 15, 13, 56, 38, 13, 6, 43, 6, 2, 39, 2, 1, 76, 2, 1, 29, 34, 6, 12, 1, 2, 6, 2, 146, 19, 2, 2, 10, 52, 32, 19, 2, 13, 2, 19, 11, 15, 131, 47, 2, 50, 5, 56, 2, 400, 175, 11, 38, 556, 108, 18, 27, 172, 6, 164, 44, 106, 248, 17, 103, 63, 158, 25, 48, 17, 120, 5, 58, 28, 1, 19, 57, 19, 2, 1, 48, 58, 29, 31, 19, 134, 22, 5, 5, 35, 245, 46, 43, 107, 1, 11, 34, 107, 66, 122, 126, 37, 41, 2, 121, 197, 61, 32, 23, 55, 48, 354, 87, 91, 109, 15, 48, 37, 24, 43, 101, 621, 100, 141, 217, 41, 46, 52, 31, 16, 131, 39, 46, 12, 52, 41, 39, 60, 77, 19, 179, 56, 19, 89, 182, 90, 309, 6, 5, 280, 1, 1, 325, 14, 16, 89, 71, 32, 9, 4, 60, 133, 353, 92, 3, 4, 16, 70, 2, 22, 33, 15, 78, 3, 4, 37, 7, 82, 44, 1, 1, 100, 38, 80, 62, 18, 9, 40, 51, 9, 19, 267, 4, 182, 7, 22, 23, 14, 70, 49, 23, 16, 77, 34, 1, 43, 11, 13, 20, 13, 11, 86, 83, 8, 5, 114, 10, 28, 54, 72, 96, 32, 18, 39, 28, 49, 4, 102, 22, 14, 15, 85, 132, 35, 50, 15, 21, 20, 80, 71, 27, 87, 10, 30, 46, 30, 26, 10, 3, 79, 28, 82, 22, 24, 84, 34, 169, 28, 18, 24, 17, 37, 30, 12, 39, 19, 18, 10, 11, 10, 10, 73, 12, 50, 12, 12, 277, 129, 99, 32, 20, 43, 78, 17, 14, 17, 34, 15, 70, 10, 59, 48, 26, 58, 95, 19, 79, 127, 24, 8, 63, 6, 47, 12, 36, 99, 11, 16, 97, 11, 24, 11, 145, 47, 30, 7, 21, 26, 50, 11, 22, 9, 42, 6, 42, 50, 44, 14, 4, 7, 89, 71, 123, 15, 61, 98, 10, 29, 45, 32, 23, 19, 27, 23, 17, 163, 4, 139, 103, 324, 278, 71, 81, 37, 11, 282, 107, 35, 45, 359, 14, 10, 100, 41, 12, 80, 10, 69, 25, 20, 86, 36, 40, 252, 10, 20, 62, 11, 25, 8, 22, 3, 7, 93, 45, 60, 6, 3, 15, 9, 23, 1, 10, 48, 642, 54, 10, 14, 8, 4, 21, 77, 83, 83, 41, 55, 23, 45, 22, 2, 82, 85, 6, 1, 6, 7, 3, 95, 2, 85, 2, 1, 110, 22, 22, 26, 30, 42, 100, 12, 11, 8, 3, 22, 70, 5, 24, 8, 4, 419, 3, 1, 24, 29, 1, 44, 38, 22, 61, 10, 59, 116, 15, 43, 20, 89, 37, 10, 338, 47, 2, 16, 33, 5, 42, 8, 25, 143, 144, 38, 13, 96, 49, 3, 3, 40, 34, 29, 3, 22, 9, 5, 14, 19, 6, 1, 38, 11, 8, 134, 2, 13, 24, 1, 152, 38, 171, 41, 145, 120, 74, 17, 90, 40, 179, 35, 50, 80, 21, 11, 6, 14, 3, 257, 144, 15, 73, 51, 18, 28, 12, 89, 100, 13, 25, 115, 31, 13, 27, 22, 15, 117, 17, 30, 29, 50, 112, 42, 42, 43, 39, 64, 129, 4, 67, 72, 37, 3, 1, 146, 144, 19, 23, 11, 19, 10, 11, 4, 2, 7, 16, 12, 13, 135, 63, 53, 26, 16, 53, 47, 38, 155, 69, 26, 16, 16, 14, 308, 7, 3, 18, 8, 24, 32, 14, 21, 29, 8, 11, 9, 8, 29, 16, 10, 18, 3, 1, 15, 109, 25, 1, 1, 70, 136, 1, 1, 29, 154, 13, 30, 18, 37, 13, 3, 139, 274, 44, 2, 20, 20, 130, 4, 79, 1021, 742, 247, 1085, 47, 27, 283, 34, 44, 7, 7, 82, 58, 23, 29, 24, 24, 42, 80, 9, 27, 99, 48, 1, 33, 26, 23, 15, 21, 268, 33, 65, 1, 102, 11, 9, 32, 1, 1, 97, 12, 4, 3, 44, 33, 102, 4, 104, 7, 70, 28, 6, 76, 14, 1, 7, 29, 27, 2, 5, 10, 1, 1, 2, 33, 1, 14, 5, 1, 9, 10, 85, 23, 39, 7, 135, 16, 15, 39, 10, 4, 82, 2, 1, 1, 198, 9, 13, 1, 3, 18, 108, 17, 53, 7, 17, 62, 15, 45, 1, 17, 13, 12, 46, 4, 4, 8, 4, 7, 14, 5, 9, 7, 5, 47, 40, 66, 12, 5, 7, 1, 15, 29, 17, 2, 762, 12, 9, 1, 1, 30, 296, 4, 3, 46, 5, 36, 6, 5, 1, 13, 28, 35, 46, 7, 236, 80, 6, 2, 2, 1, 6, 4, 1, 2, 4, 9, 3, 4, 20, 2, 22, 4, 8, 1, 3, 26, 28, 4, 7, 2, 7, 5, 5, 10, 4, 9, 2, 1, 5, 4, 2, 1, 3, 1, 9, 2, 2, 27, 20, 1, 1, 1, 2, 1, 2, 1, 4, 2, 6, 11, 9, 2, 2, 3, 4, 7, 21, 39, 2, 2, 18, 4, 46, 10, 14, 1, 59, 72, 14, 24, 30, 26, 22, 351, 28, 18, 49, 12, 4, 2, 2, 10, 1, 2, 11, 1, 2, 4, 2, 5, 25, 2, 15, 4, 1, 3, 7, 12, 5, 14, 2, 2, 8, 3, 13, 2, 7, 1, 9, 11, 2, 4, 2, 1, 2, 1, 2, 2, 2, 1, 15, 20, 12, 9, 1, 1, 1, 1, 3, 1, 2, 1, 4, 1, 1, 2, 5, 2, 1, 2, 1, 2, 2, 1, 11, 18, 51, 3, 16, 15, 10, 2, 83, 148, 18, 30, 5, 46, 34, 23, 4, 64, 15, 10, 16, 67, 4, 3, 3, 1, 1, 5, 5, 2, 4, 2, 1, 2, 8, 2, 1, 37, 7, 41, 13, 7, 69, 4, 5, 5, 1, 31, 112, 12, 38, 36, 18, 1, 20, 4, 36, 1, 4, 23, 13, 171, 62, 40, 1, 9, 11, 69, 63, 27, 60, 20, 2, 27, 19, 96, 47, 4, 18, 29, 54, 85, 43, 90, 396, 62, 37, 185, 4, 1, 58, 4, 2, 21, 98, 208, 10, 56, 75, 57, 17, 17, 34, 117, 7, 16, 20, 40, 67, 56, 3, 99, 103, 114, 188, 182, 4, 71, 67, 41, 41, 81, 10, 2, 13, 7, 8, 2, 7, 45, 32, 46, 713, 639, 259, 68, 27, 21, 19, 1, 40, 6, 186, 186, 26, 17, 5, 3, 1, 43, 3, 2, 1, 39, 2, 9, 2, 2, 2, 2, 15, 19, 61, 14, 10, 107, 8, 62, 33, 7, 31, 10, 3, 2, 3, 2, 2, 3, 7, 8, 70, 41, 4, 1, 3, 8, 4, 51, 184, 5, 4, 6, 9, 3, 29, 6, 1, 5, 4, 3, 3, 10, 4, 3, 4, 3, 2, 1, 1, 7, 3, 2, 3, 2, 1, 1, 1, 1, 1, 2, 2, 8, 3, 2, 10, 2, 9, 4, 17, 5, 7, 4, 33, 8, 10, 16, 12, 79, 16, 3, 2, 3, 3, 5, 2, 4, 23, 27, 48, 2, 13, 1, 10, 1, 3, 7, 4, 29, 2, 23, 2, 13, 1, 1, 15, 5, 12, 3, 12, 1, 6, 2, 4, 2, 12, 1, 3, 5, 30, 31, 20, 3, 15, 38, 4, 7, 1027, 39, 4, 28, 8, 9, 4, 10, 7, 12, 8, 15, 26, 11, 2, 2, 14, 4, 10, 3, 5, 12, 13, 12, 20, 10, 17, 3, 5, 6, 5, 15, 3, 5, 6, 3, 5, 10, 15, 7, 7, 3, 15, 33, 16, 5, 38, 4, 6, 1, 11, 5, 2, 2, 10, 103, 211, 88, 8, 2, 10, 22, 11, 5, 7, 1, 104, 32, 56, 227, 15, 6, 5, 3, 7, 24, 2, 18, 31, 11, 11, 2, 7, 31, 1, 34, 6, 13, 15, 31, 27, 6, 23, 3, 1, 5, 2, 3, 2, 7, 8, 2, 25, 15, 14, 11, 5, 8, 15, 5, 17, 7, 12, 4, 41, 14, 12, 2, 7, 2, 8, 11, 19, 9, 19, 13, 37, 31, 10, 92, 15, 5, 2, 18, 13, 11, 2, 1, 26, 11, 18, 15, 3, 2, 14, 19, 3, 5, 21, 57, 210, 4, 3, 2, 2, 15, 7, 24, 3, 3, 7, 21, 11, 1, 5, 2, 1, 5, 34, 5, 21, 3, 10, 15, 3, 126, 8, 21, 17, 1169, 7, 31, 6, 289, 10, 15, 1, 4, 9, 4, 60, 21, 6, 45, 3, 2, 2, 1, 11, 21, 7, 1, 12, 46, 23, 6, 15, 41, 16, 2, 15, 37, 3, 10, 2, 4, 5, 3, 6, 6, 4, 5, 7, 12, 5, 6, 16, 9, 5, 35, 5, 7, 17, 2, 16, 5, 10, 3, 26, 1, 2, 6, 1, 3, 39, 16, 5, 11, 17, 11, 1, 5, 1, 4, 1, 86, 3, 3, 9, 13, 2, 24, 4, 10, 5, 4, 1, 1, 18, 32, 17, 77, 28, 5, 6, 17, 14, 17, 26, 14, 1, 3, 12, 10, 4, 1, 24, 51, 11, 2, 34, 8, 10, 10, 12, 33, 7, 8, 59, 55, 7, 19, 18, 2, 7, 115, 9, 9, 16, 83, 4, 21, 21, 29, 5, 19, 21, 8, 22, 6, 5, 3, 5, 3, 3, 81, 14, 4, 5, 110, 3, 151, 116, 23, 26, 45, 137, 52, 35, 29, 2, 21, 104, 12, 48, 15, 1, 1, 1, 2, 1, 34, 121, 31, 61, 10, 5, 5, 5, 9, 5, 5, 1, 3, 1, 5, 5, 6, 33, 33, 7, 5, 152, 12, 3, 58, 10, 13, 15, 10, 8, 61, 10, 21, 35, 5, 5, 99, 1, 59, 36, 2, 1, 484, 23, 23, 50, 4, 2, 22, 4, 10, 12, 4, 1, 13, 29, 9, 1, 1, 1, 1, 1, 36, 16, 39, 13, 10, 39, 33, 30, 13, 4, 10, 6, 90, 11, 16, 56, 11, 19, 35, 27, 3, 8, 34, 1, 6, 1, 47, 16, 45, 1, 10, 57, 44, 63, 19, 146, 25, 8, 17, 36, 149, 19, 52, 16, 2, 32, 29, 71, 2, 2, 3, 2, 13, 49, 2, 3, 43, 99, 49, 2, 9, 2, 25, 5, 34, 34, 58, 3, 18, 2, 1, 2, 1, 15, 1, 12, 1, 3, 5, 1, 2, 1, 6, 55, 39, 1, 11, 1, 1, 2, 1, 1, 61, 13, 20, 2, 2, 2, 3, 7, 2, 12, 233, 77, 8, 3, 22, 20, 30, 2, 8, 6, 25, 3, 2, 2, 181, 2, 20, 17, 18, 11, 49, 34, 1, 41, 2, 15, 23, 7, 1, 27, 5, 28, 19, 13, 10, 14, 54, 22, 6, 51, 29, 59, 27, 36, 13, 50, 12, 85, 1, 77, 10, 10, 88, 10, 6, 15, 5, 2, 44, 6, 11, 10, 10, 6, 18, 3, 29, 5, 16, 11, 12, 5, 7, 5, 33, 21, 3, 10, 32, 1, 1, 79, 16, 130, 22, 11, 155, 113, 41, 10, 45, 30, 12, 46, 20, 12, 63, 35, 24, 45, 38, 11, 18, 148, 13, 35, 43, 14, 2, 197, 26, 132, 10, 10, 14, 37, 10, 24, 10, 177, 107, 14, 29, 55, 285, 47, 52, 34, 82, 1, 16, 10, 10, 23, 27, 6, 4, 4, 65, 4, 4, 21, 97, 10, 170, 17, 20, 59, 22, 50, 2, 15, 17, 21, 17, 14, 9, 10, 11, 13, 3, 28, 3, 49, 1, 104, 34, 26, 45, 34, 39, 33, 1, 1, 8, 43, 35, 29, 2, 7, 70, 59, 28, 59, 29, 20, 4, 35, 1, 2, 1, 30, 9, 5, 8, 7, 143, 51, 14, 2, 1, 5, 26, 2, 14, 5, 19, 107, 17, 8, 1, 135, 26, 91, 10, 20, 9, 15, 17, 13, 12, 81, 53, 1, 2, 29, 41, 17, 1, 8, 3, 22, 41, 4, 18, 63, 5, 14, 19, 20, 19, 1, 16, 131, 19, 195, 14, 10, 12, 5, 11, 31, 48, 51, 1, 13, 20, 1, 4, 17, 90, 3, 32, 36, 10, 43, 226, 110, 8, 9, 75, 26, 26, 26, 155, 34, 34, 172, 52, 37, 1, 1, 25, 11, 30, 2, 1, 1, 26, 11, 3, 8, 3, 2, 9, 22, 102, 1, 34, 3, 12, 1, 5, 1, 1, 7, 17, 1, 70, 26, 25, 52, 78, 1, 2, 31, 78, 45, 39, 4, 5, 47, 6, 9, 13, 4, 8, 90, 2, 1, 2, 16, 90, 1, 3, 1, 30, 1, 21, 5, 2, 1, 1, 1, 1, 9, 1, 4, 4, 4, 2, 33, 3, 7, 1, 16, 9, 6, 137, 5, 18, 35, 6, 3, 6, 8, 4, 26, 9, 2, 3, 1, 13, 9, 22, 36, 9, 6, 19, 2, 2, 10, 11, 2, 26, 1, 3, 2, 4, 4, 64, 4, 4, 8, 1, 70, 6, 4, 2, 1, 9, 2, 1, 9, 5, 23, 1, 334, 1, 10, 1, 8, 5, 1, 2, 2, 16, 1, 3, 2, 6, 1, 9, 7, 1, 2, 12, 7, 3, 2, 1, 1, 1, 1, 15, 11, 2, 17, 42, 8, 3, 3, 2, 1, 1, 1, 1, 5, 11, 14, 1, 5, 2, 1, 16, 12, 1, 1, 1, 1, 5, 2, 5, 17, 2, 2, 2, 2, 2, 8, 2, 4, 5, 16, 1, 1, 2, 1, 5, 1, 44, 5, 1, 24, 1, 19, 13, 2, 4, 4, 2, 1, 18, 1, 2, 1, 1, 2, 17, 13, 8, 8, 7, 1, 7, 1, 9, 5, 2, 1, 4, 1, 3, 1, 1, 2, 1, 1, 5, 5, 1, 2, 1, 4, 2, 2, 1, 4, 1, 1, 7, 1, 2, 1, 1, 7, 3, 1, 1, 1, 4, 1, 1, 1, 1, 1, 1, 1, 1, 1, 11, 1, 1, 10, 2, 8, 8, 5, 4, 12, 5, 2, 3, 1, 3, 3, 4, 12, 1, 14, 5, 1, 6, 5, 1, 1, 4, 3, 1, 3, 1, 5, 1, 1, 5, 1, 2, 65, 1, 4, 1, 1, 30, 5, 3, 20, 4, 2, 30, 26, 7, 11, 4, 36, 2, 3, 2, 12, 7, 4, 4, 1, 14, 1, 1, 21, 9, 1, 1, 1, 38, 3, 1, 1, 4, 3, 5, 3, 1, 1, 1, 1, 1, 1, 9, 1, 1, 1, 18, 1, 1, 1, 6, 9, 2, 263, 4, 2, 1, 1, 14, 1, 1, 4, 1, 1, 8, 11, 35, 1, 2, 15, 9, 33, 1, 1, 1, 2, 1, 9, 1, 1, 1, 1, 3, 3, 1, 1, 2, 1, 19, 65, 1, 3, 1, 27, 1, 4, 1, 1, 1, 1, 3, 1, 3, 1, 1, 1, 1, 1, 4, 4, 15, 3, 109, 3, 25, 55, 46, 6, 1, 5, 3, 1, 5, 3, 11, 15, 1, 5, 3, 2, 5, 3, 7, 3, 2, 20, 5, 26, 10, 8, 6, 16, 5, 10, 22, 1, 4, 124, 11, 13, 1, 3, 5, 2, 1, 1, 4, 5, 4, 2, 5, 4, 2, 14, 3, 1, 9, 9, 5, 4, 6, 2, 5, 13, 4, 3, 11, 6, 1, 1, 18, 6, 50, 2, 2, 1, 2, 2, 1, 2, 26, 2, 2, 1, 2, 2, 1, 5, 6, 3, 1, 9, 7, 20, 22, 2, 11, 20, 20, 4, 3, 13, 10, 14, 15, 2, 10, 111, 2, 6, 2, 1, 40, 10, 5, 15, 9, 2, 5, 5, 5, 2, 2, 1, 6, 2, 1, 3, 6, 3, 3, 2, 4, 2, 8, 11, 3, 39, 2, 14, 12, 8, 8, 11, 4, 17, 2, 18, 8, 1, 1, 8, 4, 8, 8, 1, 4, 5, 1, 4, 6, 1, 10, 5, 2, 1, 1, 1, 1, 1, 8, 50, 18, 7, 3, 13, 5, 2, 59, 1, 11, 7, 10, 88, 20, 34, 24, 100, 6, 10, 5, 56, 16, 12, 17, 69, 73, 10, 10, 75, 10, 205, 13, 114, 25, 23, 18, 38, 120, 1, 15, 3, 63, 37, 14, 11, 3, 6, 8, 7, 14, 20, 10, 51, 47, 5, 20, 3, 46, 34, 30, 53, 44, 28, 10, 25, 42, 8, 14, 11, 1, 10, 11, 25, 31, 27, 2, 1, 12, 15, 36, 7, 23, 12, 17, 5, 67, 14, 10, 12, 36, 7, 8, 88, 2, 6, 21, 29, 1, 1, 21, 4, 3, 13, 4, 4, 20, 52, 15, 19, 16, 8, 18, 15, 12, 5, 10, 35, 1, 13, 62, 90, 14, 2, 21, 2, 1, 2, 2, 2, 2, 4, 34, 1, 7, 11, 61, 147, 16, 70, 20, 2, 27, 10, 12, 7, 1, 44, 4, 2, 4, 2, 12, 10, 26, 86, 101, 17, 29, 45, 20, 64, 19, 62, 21, 35, 56, 34, 31, 4, 59, 28, 10, 44, 38, 49, 9, 29, 31, 97, 5, 21, 10, 12, 2, 4, 27, 19, 7, 52, 20, 5, 68, 305, 230, 15, 61, 60, 56, 161, 23, 28, 10, 34, 12, 24, 67, 11, 10, 35, 32, 10, 31, 47, 58, 9, 11, 14, 6, 33, 21, 23, 1, 21, 10, 17, 48, 13, 11, 49, 78, 10, 2, 2, 11, 426, 20, 129, 51, 10, 82, 13, 36, 34, 28, 62, 81, 12, 11, 10, 28, 10, 13, 10, 69, 19, 57, 61, 87, 30, 10, 17, 2, 2, 2, 20, 43, 12, 32, 11, 71, 38, 61, 42, 65, 8, 24, 12, 13, 19, 70, 16, 1, 18, 21, 9, 11, 2, 3, 24, 2, 4, 2, 20, 7, 1, 17, 2, 24, 6, 4, 87, 1, 2, 24, 2, 2, 1, 26, 16, 11, 5, 18, 38, 24, 15, 12, 2, 1, 57, 326, 10, 16, 5, 15, 12, 5, 18, 8, 17, 6, 3, 12, 10, 15, 6, 30, 11, 311, 3, 8, 2, 2, 2, 15, 24, 2, 3, 7, 4, 2, 2, 9, 2, 5, 2, 7, 35, 1, 2, 1, 1, 1, 18, 1, 9, 80, 1, 5, 1, 1, 1, 1, 1, 1, 1, 1, 2, 1, 44, 1, 1, 1, 2, 16, 10, 1, 5, 1, 12, 1, 2, 11, 52, 1, 6, 1, 1, 29, 9, 3, 1, 53, 46, 38, 16, 2, 86, 15, 11, 9, 3, 35, 31, 21, 5, 4, 1, 6, 1, 1, 7, 8, 2, 5, 6, 12, 15, 21, 2, 1, 19, 4, 2, 1, 1, 19, 4, 10, 5, 11, 16, 33, 22, 75, 9, 2, 46, 5, 22, 10, 1, 3, 14, 8, 31, 3, 2, 2, 15, 3, 4, 1, 1, 1, 11, 1, 12, 16, 3, 3, 5, 5, 9, 22, 10, 9, 55, 11, 11, 16, 1, 24, 27, 34, 4, 19, 1, 10, 21, 26, 14, 5, 6, 84, 18, 15, 1, 123, 12, 2, 10, 6, 8, 20, 14, 32, 3, 21, 57, 14, 13, 11, 4, 1, 11, 89, 23, 15, 34, 16, 70, 20, 25, 9, 2, 35, 3, 91, 43, 12, 88, 75, 3, 40, 132, 40, 1, 59, 20, 31, 37, 87, 4, 21, 10, 46, 12, 28, 17, 9, 18, 4, 26, 9, 24, 5, 7, 4, 4, 6, 51, 4, 13, 26, 1, 75, 9, 3, 12, 2, 1, 20, 46, 90, 4, 1, 155, 4, 1, 1, 1, 1, 4, 9, 30, 4, 221, 10, 1, 1, 3, 1, 3, 1, 61, 7, 1, 1, 42, 14, 36, 27, 15, 5, 7, 1, 3, 3, 10, 3, 2, 2, 3, 6, 26, 7, 1, 4, 14, 5, 8, 21, 3, 3, 39, 1, 4, 1, 62, 2, 22, 53, 5, 8, 6, 8, 15, 9, 5, 36, 31, 65, 32, 5, 10, 5, 76, 6, 14, 2, 4, 8, 95, 5, 20, 78, 7, 14, 3, 6, 8, 6, 5, 75, 2, 2, 2, 2, 2, 7, 3, 5, 73, 75, 14, 54, 36, 13, 13, 6, 46, 11, 7, 24, 30, 10, 27, 1, 1, 1, 22, 1, 58, 40, 9, 1, 14, 22, 6, 44, 50, 11, 14, 76, 26, 2, 9, 9, 20, 27, 24, 40, 2, 8, 3, 59, 48, 5, 37, 2, 1, 66, 109, 10, 5, 1, 3, 1, 16, 25, 29, 29, 8, 7, 8, 49, 1, 10, 3, 1, 2, 11, 3, 6, 11, 3, 29, 3, 2, 1, 590, 51, 109, 46, 157, 24, 36, 70, 37, 74, 4, 3, 18, 32, 3, 17, 15, 15, 15, 6, 4, 144, 399, 226, 2, 1, 15, 58, 3, 12, 138, 118, 14, 4, 20, 45, 18, 74, 1, 1, 41, 1, 179, 17, 33, 29, 32, 20, 48, 11, 8, 24, 1, 4, 22, 2, 12, 2, 3, 5, 2, 1, 2, 2, 1, 1, 1, 1, 11, 33, 2, 381, 21, 44, 4, 4, 2, 5, 2, 23, 46, 10, 75, 73, 30, 15, 168, 19, 20, 3, 17, 116, 4, 4, 2, 17, 9, 30, 3, 7, 12, 1, 1, 10, 1, 1, 32, 117, 8, 12, 8, 49, 15, 24, 3, 6, 27, 2, 2, 20, 150, 4, 2, 3, 5, 3, 3, 8, 3, 10, 3, 15, 3, 7, 1, 1, 2, 1, 17, 1, 1, 14, 2, 6, 2, 7, 13, 9, 6, 7, 1, 1, 1, 16, 8, 2, 3, 10, 25, 5, 4, 35, 15, 10, 79, 1, 4, 8, 12, 6, 6, 14, 6, 6, 10, 1, 38, 40, 11, 3, 3, 19, 19, 52, 6, 9, 13, 113, 5, 23, 22, 22, 21, 23, 21, 40, 1, 10, 3, 9, 6, 4, 4, 2, 48, 11, 21, 2, 2, 9, 10, 210, 1957, 23, 80, 401, 44, 61, 19, 19, 4, 1, 6, 2, 15, 19, 2, 172, 44, 90, 181, 30, 17, 1, 12, 132, 1, 28, 36, 228, 86, 3, 42, 34, 54, 19, 11, 36, 2, 2, 2, 2, 36, 36, 35, 25, 36, 36, 32, 27, 9, 22, 21, 33, 9, 36, 2, 18, 4, 24, 5, 57, 14, 5, 92, 13, 6, 35, 9, 10, 263, 6, 3, 3, 3, 9, 23, 13, 8, 9, 190, 113, 2, 32, 2, 60, 6, 7, 12, 2, 3, 2, 2, 2, 2, 3, 9, 9, 11, 9, 5, 35, 29, 13, 10, 25, 25, 22, 23, 51, 13, 5, 18, 23, 12, 15, 9, 9, 2, 8, 7, 203, 3, 20, 9, 9, 35, 4, 34, 9, 9, 27, 9, 27, 3, 9, 3, 7, 36, 5, 9, 3, 6, 6, 31, 9, 8, 3, 9, 6, 9, 9, 61, 1, 9, 5, 9, 10, 17, 9, 9, 10, 9, 9, 16, 9, 9, 18, 13, 36, 5, 23, 8, 2, 155, 13, 9, 76, 9, 9, 20, 11, 8, 9, 9, 13, 9, 15, 7, 17, 12, 37, 22, 78, 10, 9, 9, 11, 14, 9, 11, 73, 61, 35, 9, 34, 39, 3, 34, 9, 16, 1, 1, 9, 5, 5, 5, 7, 10, 9, 5, 73, 9, 21, 20, 8, 14, 11, 7, 14, 7, 7, 5, 27, 3, 2, 2, 8, 13, 9, 14, 1, 8, 1, 1, 1, 1, 4, 4, 33, 40, 42, 37, 44, 6, 7, 44, 5, 77, 32, 55, 20, 4, 37, 9, 11, 43, 3, 1, 4, 7, 4, 3, 6, 1, 16, 9, 19, 1, 12, 11, 4, 1, 77, 41, 45, 47, 48, 2, 12, 25, 23, 22, 43, 19, 468, 61, 64, 27, 108, 88, 12, 11, 77, 19, 12, 18, 36, 36, 1, 1, 12, 43, 1, 3, 10, 10, 7, 186, 2, 10, 11, 14, 7, 8, 48, 10, 6, 4, 3, 27, 25, 6, 10, 23, 13, 3, 67, 7, 13, 10, 15, 75, 16, 5, 4, 23, 3, 8, 33, 8, 11, 10, 10, 86, 279, 24, 14, 5, 7, 8, 34, 10, 4, 10, 3, 4, 5, 8, 483, 18, 4, 82, 22, 28, 46, 4, 4, 13, 8, 4, 10, 26, 4, 8, 9, 4, 16, 4, 4, 4, 4, 4, 1, 9, 1, 11, 37, 11, 22, 2, 35, 8, 1, 1, 1, 10, 7, 2, 9, 12, 7, 28, 1, 125, 158, 7, 6, 1, 19, 1, 9, 1, 20, 66, 27, 59, 4, 10, 11, 1, 1, 3, 34, 81, 21, 2, 4, 4, 57, 2, 4, 10, 4, 15, 4, 13, 7, 16, 3, 3, 4, 4, 4, 4, 4, 18, 10, 1, 1, 8, 5, 190, 6, 8, 8, 252, 5, 5, 5, 5, 4, 4, 3, 3, 3, 4, 3, 52, 23, 2, 1, 27, 16, 17, 42, 1, 2, 17, 4, 2, 2, 21, 34, 11, 34, 2, 9, 4, 52, 24, 11, 1, 2, 2, 14, 4, 4, 2, 5, 10, 7, 2, 28, 8, 8, 8, 8, 109, 1, 10, 9, 12, 19, 12, 11, 24, 2, 6, 27, 1, 5, 4, 1, 1, 21, 31, 13, 13, 1, 20, 5, 13, 2, 971, 16, 15, 225, 9, 12, 54, 4, 20, 84, 4, 49, 7, 51, 30, 7, 9, 6, 9, 49, 7, 5, 9, 15, 4, 13, 15, 12, 4, 13, 24, 21, 4, 14, 8, 56, 2, 63, 33, 11, 35, 18, 2, 4, 2, 4, 4, 7, 7, 4, 4, 15, 4, 4, 7, 30, 29, 7, 7, 7, 7, 38, 6, 23, 4, 2, 7, 5, 1, 1, 6, 30, 31, 8, 13, 11, 1, 1, 11, 7, 1, 2, 4, 29, 2, 2, 9, 10, 4, 2, 1, 3, 1, 3, 22, 9, 7, 83, 2, 41, 9, 9, 25, 9, 15, 5, 5, 1, 4, 27, 7, 2, 1, 1, 11, 7, 2, 3, 30, 1, 12, 1, 1, 2, 4, 1, 1, 1, 1, 2, 3, 1, 1, 11, 12, 91, 25, 3, 3, 10, 5, 4, 4, 4, 4, 11, 4, 7, 3, 3, 4, 10, 1, 3, 1, 2, 5, 3, 1, 4, 3, 5, 16, 10, 5, 3, 15, 4, 1, 11, 5, 1, 6, 13, 7, 3, 2, 9, 2, 13, 5, 3, 13, 7, 2, 3, 5, 4, 2, 7, 5, 1, 1, 1, 1, 8, 7, 7, 1, 1, 8, 4, 2, 1, 1, 12, 9, 3, 1, 6, 1, 5, 1, 1, 4, 5, 13, 11, 14, 2, 2, 7, 1, 2, 8, 1, 31, 64, 4, 34, 2, 33, 9, 54, 3, 5, 3, 8, 1, 15, 55, 36, 12, 5, 4, 1, 21, 3, 3, 9, 8, 32, 30, 8, 28, 5, 7, 24, 61, 1, 57, 27, 16, 4, 2, 1, 12, 6, 73, 6, 8, 30, 53, 10, 18, 17, 118, 4, 113, 16, 47, 7, 13, 59, 57, 53, 23, 4, 5, 1, 6, 1, 26, 4, 39, 40, 36, 1, 37, 10, 43, 16, 39, 6, 5, 93, 38, 9, 2, 2, 37, 34, 33, 34, 7, 36, 31, 9, 77, 9, 193, 34, 33, 10, 39, 34, 41, 20, 35, 29, 1, 30, 162, 4, 3, 3, 3, 3, 3, 3, 3, 4, 2, 2, 1, 19, 181, 1, 1, 49, 1, 2, 23, 23, 54, 88, 1, 8, 19, 8, 17, 2, 44, 2, 12, 3, 2, 1, 2, 4, 4, 1, 1, 1, 1, 1, 23, 41, 1, 28, 18, 7, 76, 15, 23, 3, 3, 11, 3, 3, 5, 9, 4, 3, 27, 29, 237, 3, 15, 2, 32, 10, 8, 8, 10, 1, 31, 107, 3, 4, 6, 38, 31, 1, 2, 6, 4, 2, 6, 6, 1, 1, 2, 23, 20, 25, 3, 1, 3, 1, 7, 4, 5, 20, 11, 8, 4, 1, 10, 5, 3, 29, 5, 6, 4, 42, 6, 17, 2, 2, 9, 19, 9, 10, 4, 17, 18, 39, 6, 5, 13, 5, 14, 5, 21, 1, 9, 1, 1, 9, 1, 37, 3, 2, 9, 3, 11, 3, 5, 3, 6, 34, 1, 2, 3, 5, 1, 2, 8, 10, 18, 3, 2, 1, 19, 17, 6, 3, 2, 2, 4, 3, 9, 3, 17, 2, 6, 4, 3, 2, 10, 1, 1, 2, 1, 19, 8, 2, 7, 1, 1, 7, 1, 1, 4, 2, 17, 1, 1, 7, 5, 10, 3, 4, 1, 7, 5, 1, 7, 2, 2, 1, 1, 3, 2, 3, 16, 1, 2, 1, 1, 123, 8, 11, 5, 65, 3, 3, 31, 36, 25, 4, 11, 18, 21, 25, 6, 5, 3, 34, 9, 12, 20, 2, 4, 1, 1, 4, 42, 32, 2, 85, 10, 6, 1, 29, 41, 12, 4, 2, 18, 6, 3, 3, 14, 2, 9, 7, 21, 34, 5, 25, 38, 2, 2, 15, 8, 9, 1, 9, 3, 1, 6, 6, 6, 6, 10, 47, 55, 223, 17, 10, 1, 3, 3, 5, 4, 2, 1, 1, 1, 2, 1, 2, 5, 4, 3, 17, 5, 5, 2, 5, 2, 3, 7, 5, 3, 8, 2, 6, 1, 8, 1, 3, 3, 2, 1, 20, 3, 3, 6, 8, 2, 13, 12, 3, 9, 11, 12, 12, 8, 14, 11, 11, 6, 8, 3, 4, 2, 1, 24, 5, 4, 3, 2, 2, 2, 17, 9, 21, 8, 2, 3, 2, 7, 4, 6, 5, 10, 2, 4, 8, 1, 32, 16, 1, 2, 1, 1, 4, 2, 1, 98, 7, 8, 11, 3, 19, 12, 16, 7, 4, 3, 6, 1, 3, 6, 6, 46, 5, 6, 2, 8, 47, 12, 5, 5, 4, 1, 1, 6, 1, 1, 1, 5, 6, 17, 5, 2, 4, 1, 1, 9, 1, 2, 2, 3, 4, 31, 28, 7, 4, 7, 3, 12, 3, 1, 3, 2, 10, 1, 14, 51, 14, 9, 9, 6, 44, 8, 8, 11, 11, 5, 4, 12, 8, 4, 16, 5, 10, 51, 25, 2, 6, 1, 10, 10, 4, 2, 4, 4, 4, 17, 1, 3, 9, 1, 9, 4, 1, 50, 13, 16, 6, 8, 22, 5, 11, 4, 17, 9, 14, 12, 25, 1, 4, 7, 22, 6, 4, 1, 55, 1, 11, 19, 2, 11, 2, 7, 10, 1, 2, 10, 16, 4, 4, 4, 14, 468, 8, 27, 4, 8, 6, 11, 17, 22, 6, 26, 17, 11, 4, 18, 4, 7, 6, 4, 6, 6, 14, 3, 13, 1, 1, 22, 2, 1, 11, 11, 10, 58, 14, 53, 40, 7, 7, 6, 12, 5, 4, 7, 7, 3, 9, 9, 12, 18, 6, 9, 9, 9, 9, 9, 3, 31, 2, 1, 6, 373, 266, 9, 1, 24, 2, 9, 9, 9, 8, 11, 8, 14, 6, 9, 6, 1, 3, 8, 2, 1, 4, 1, 34, 9, 26, 31, 31, 11, 6, 3, 5, 6, 3, 4, 3, 3, 4, 4, 31, 58, 38, 16, 31, 18, 13, 7, 6, 24, 34, 38, 20, 15, 34, 1, 1, 1, 1, 1, 1, 1, 1, 17, 68, 2, 5, 3, 53, 34, 26, 24, 34, 1, 40, 55, 53, 48, 47, 45, 65, 34, 1, 1, 1, 1, 1, 1, 28, 24, 34, 22, 8, 23, 25, 1, 1, 1, 1, 3, 30, 30, 4, 2, 61, 1, 4, 1, 4, 2, 4, 47, 9, 23, 3, 9, 3, 3, 9, 8, 4, 6, 2, 73, 1, 2, 4, 1, 1, 4, 1, 26, 3, 4, 3, 6, 20, 7, 1, 1, 1, 1, 3, 3, 4, 14, 5, 40, 9, 11, 32, 21, 25, 53, 6, 10, 20, 72, 10, 7, 11, 4, 69, 8, 4, 2, 13, 1, 4, 4, 2, 25, 11, 1, 4, 1, 9, 4, 6, 2, 8, 9, 13, 7, 2, 7, 2, 1, 124, 31, 46, 9, 3, 1, 1, 12, 1, 1, 22, 62, 23, 29, 1, 1, 1, 25, 3, 1, 1, 60, 9, 3, 34, 1, 13, 32, 32, 59, 31, 3, 3, 3, 3, 29, 70, 44, 18, 12, 52, 8, 4, 14, 4, 6, 9, 14, 1, 11, 5, 26, 19, 25, 6, 63, 3, 3, 3, 2, 8, 1, 1, 1, 2, 1, 1, 1, 4, 1, 1, 21, 51, 1, 1, 1, 17, 1, 1, 1, 1, 1, 1, 1, 1, 4, 4, 1, 16, 2, 5, 1, 2, 1, 2, 1, 10, 1, 1, 1, 4, 2, 1, 2, 4, 1, 1, 6, 4, 1, 1, 1, 3, 24, 9, 2, 5, 1, 1, 10, 1, 5, 3, 3, 2, 1, 6, 1, 1, 9, 1, 1, 11, 3, 4, 2, 1, 6, 3, 1, 13, 1, 4, 6, 4, 8, 3, 1, 2, 1, 1, 1, 2, 2, 2, 1, 4, 1, 1, 1, 2, 1, 1, 1, 1, 1, 1, 1, 1, 1, 41, 3, 5, 7, 4, 5, 13, 1, 2, 1, 1, 14, 1, 4, 2, 1, 1, 1, 1, 1, 1, 1, 2, 972, 1, 1, 1, 5, 1, 1, 1, 8, 19, 1, 2, 2, 3, 1, 15, 1, 1, 7, 8, 2, 39, 3, 5, 4, 3, 1, 9, 2, 5, 7, 2, 2, 5, 16, 4, 8, 2, 6, 5, 2, 7, 5, 3, 6, 1, 7, 6, 7, 6, 1, 24, 4, 1, 1, 21, 2, 1, 6, 2, 8, 1, 3, 3, 7, 15, 5, 12, 5, 4, 5, 23, 16, 4, 9, 1, 1, 3, 1, 2, 1, 1, 6, 16, 1, 3, 3, 3, 6, 8, 63, 2, 1, 24, 1, 1, 2, 5, 2, 1, 2, 1, 3, 1, 3, 1, 6, 2, 1, 1, 10, 1, 1, 2, 1, 1, 3, 25, 1, 27, 414, 49, 90, 5, 27, 13, 1, 2, 9, 9, 3, 2, 22, 13, 11, 13, 2, 3, 9, 25, 6, 25, 3, 2, 1, 7, 1, 102, 5, 2, 3, 1, 3, 1, 5, 6, 12, 9, 2, 5, 8, 30, 59, 6, 6, 3, 3, 48, 7, 2, 1, 11, 173, 10, 16, 16, 71, 8, 24, 21, 21, 11, 17, 9, 26, 9, 18, 1, 1, 8, 10, 7, 5, 5, 15, 11, 2, 16, 48, 9, 2, 12, 29, 10, 36, 14, 1, 30, 9, 6, 7, 32, 1, 22, 29, 33, 9, 11, 8, 5, 9, 10, 6, 14, 4, 5, 7, 21, 12, 105, 39, 15, 4, 30, 1, 9, 18, 8, 3, 3, 15, 9, 7, 1, 3, 2, 1, 1, 31, 8, 3, 15, 20, 27, 8, 23, 261, 16, 6, 10, 36, 10, 18, 32, 2, 1, 1, 2, 1, 3, 2, 17, 40, 36, 49, 105, 38, 3, 16, 74, 11, 9, 8, 6, 9, 32, 4, 4, 7, 9, 12, 6, 10, 15, 116, 9, 8, 1, 1, 1, 4, 1, 4, 1, 4, 3, 1, 13, 3, 4, 13, 1, 8, 2, 12, 5, 5, 5, 8, 42, 44, 20, 5, 14, 2, 6, 3, 2, 1, 61, 2, 11, 3, 4, 26, 4, 4, 5, 8, 29, 7, 3, 10, 9, 4, 35, 1, 2, 6, 1, 21, 2, 2, 4, 2, 2, 1, 1, 6, 2, 5, 3, 1, 3, 1, 1, 2, 1, 1, 3, 3, 1, 4, 1, 1, 3, 1, 3, 10, 1, 1, 1, 1, 1, 1, 1, 9, 1, 9, 36, 16, 1, 2, 1, 1, 7, 4, 2, 9, 2, 1, 17, 1, 1, 3, 3, 4, 3, 3, 1, 1, 3, 1, 1, 1, 9, 6, 1, 13, 1, 19, 6, 4, 6, 1, 25, 1, 6, 8, 2, 1, 9, 1, 3, 1, 4, 7, 19, 2, 2, 1, 3, 6, 7, 1, 1, 1, 5, 1, 8, 2, 1, 1, 1, 5, 1, 15, 4, 2, 21, 1, 1, 11, 5, 33, 1, 7, 1, 1, 3, 1, 1, 1, 18, 25, 1, 1, 1, 1, 1, 10, 1, 18, 1, 8, 4, 10, 5, 5, 2, 6, 1, 5, 6, 6, 9, 1, 1, 1, 8, 1, 1, 1, 1, 18, 1, 1, 1, 2, 2, 5, 9, 1, 5, 2, 1, 5, 1, 2, 5, 1, 1, 5, 1, 1, 8, 13, 3, 1, 2, 1, 1, 6, 1, 1, 4, 9, 28, 1, 8, 5, 1, 1, 2, 1, 2, 1, 5, 10, 3, 3, 7, 2, 1, 6, 3, 1, 1, 1, 1, 139, 1, 1, 3, 1, 7, 12, 1, 3, 1, 2, 1, 3, 10, 1, 1, 1, 1, 1, 9, 23, 14, 2, 8, 9, 1, 48, 1, 14, 14, 11, 6, 12, 1, 4, 10, 15, 4, 15, 7, 3, 6, 5, 6, 1, 9, 12, 6, 2, 6, 16, 9, 1, 128, 2, 1, 16, 13, 2, 8, 2, 6, 8, 4, 13, 3, 3, 203, 1, 4, 38, 2, 3, 18, 5, 4, 3, 4, 6, 1, 1, 1, 6, 7, 4, 1, 1, 1, 3, 1, 3, 30, 1, 5, 1, 4, 1, 2, 1, 6, 1, 1, 1, 9, 4, 1, 10, 6, 1, 3, 2, 78, 6, 1, 1, 1, 17, 132, 1, 2, 3, 2, 1, 4, 1, 1, 2, 3, 2, 3, 1, 2, 1, 1, 3, 8, 52, 6, 1, 3, 3, 6, 12, 15, 10, 9, 15, 14, 15, 15, 2, 15, 2, 1, 15, 1, 3, 5, 2, 22, 9, 9, 6, 1, 33, 1, 6, 14, 25, 13, 2, 36, 3, 10, 4, 16, 10, 11, 34, 1, 1, 10, 14, 45, 4, 6, 6, 6, 18, 6, 6, 6, 3, 6, 16, 9, 10, 4, 41, 6, 15, 5, 4, 64, 3, 1, 1, 4, 18, 2, 3, 5, 6, 8, 6, 14, 14, 7, 7, 7, 7, 7, 1, 1, 9, 2, 53, 28, 69, 6, 30, 35, 6, 21, 1, 8, 8, 6, 8, 11, 1, 11, 3, 1, 38, 15, 9, 15, 5, 4, 7, 15, 1, 4, 6, 7, 1, 6, 16, 6, 5, 6, 2, 8, 5, 8, 1, 9, 5, 7, 8, 24, 1, 16, 1, 13, 14, 3, 15, 15, 16, 51, 402, 20, 5, 5, 6, 1, 2, 2, 1, 30, 61, 53, 5, 1, 6, 14, 5, 15, 32, 2, 5, 6, 7, 11, 3, 3, 17, 4, 2, 2, 3, 6, 4, 2, 3, 25, 5, 11, 9, 2, 2, 40, 11, 3, 3, 5, 14, 35, 7, 3, 10, 3, 6, 1, 3, 3, 3, 2, 7, 1, 3, 1, 1, 2, 3, 3, 3, 3, 8, 2, 15, 13, 9, 3, 3, 3, 3, 3, 12, 6, 4, 4, 4, 11, 1, 40, 10, 2, 4, 7, 8, 3, 6, 2, 2, 6, 5, 1, 2, 1, 6, 42, 1, 3, 7, 3, 1, 10, 5, 16, 1, 6, 12, 6, 2, 1, 13, 6, 1, 7, 11, 1, 1, 8, 3, 40, 9, 23, 17, 1, 1, 1, 1, 2, 11, 8, 3, 4, 1, 1, 14, 35, 1, 1, 1, 1, 1, 1, 2, 2, 2, 2, 3, 3, 3, 7, 1, 2, 1, 1, 1, 5, 1, 3, 5, 2, 1, 1, 1, 1, 1, 3, 1, 3, 1, 1, 5, 3, 1, 1, 1, 1, 1, 1, 1, 2, 12, 2, 1, 1, 9, 1, 2, 2, 2, 2, 4, 3, 11, 3, 2, 3, 4, 2, 4, 10, 1, 1, 1, 1, 1, 5, 1, 1, 1, 2, 1, 1, 1, 1, 2, 1, 1, 1, 1, 1, 1, 1, 1, 1, 1, 12, 1, 3, 1, 4, 1, 1, 2, 3, 2, 1, 3, 1, 2, 4, 1, 3, 18, 22, 14, 9, 19, 2, 1, 2, 4, 60, 40, 10, 9, 4, 4, 8, 1, 1, 2, 33, 1, 1, 6, 3, 16, 2, 14, 2, 47, 3, 7, 6, 2, 2, 6, 1, 5, 1, 6, 4, 3, 2, 5, 11, 15, 44, 1, 12, 25, 1, 50, 2, 6, 15, 9, 1, 2, 5, 8, 7, 7, 24, 16, 18, 6, 4, 6, 229, 1, 6, 4, 3, 3, 1, 44, 3, 13, 8, 2, 13, 8, 7, 31, 77, 142, 4, 9, 5, 6, 10, 21, 120, 10, 1, 12, 13, 8, 9, 7, 29, 61, 62, 5, 5, 5, 5, 5, 5, 5, 5, 5, 6, 2, 31, 15, 12, 1, 1, 9, 12, 18, 4, 4, 2, 19, 47, 8, 8, 1, 13, 6, 10, 10, 12, 9, 9, 9, 21, 1, 1, 8, 8, 10, 3, 20, 17, 20, 21, 16, 5, 5, 7, 1, 12, 9, 2, 79, 30, 35, 3, 1, 16, 16, 8, 17, 6, 1, 6, 6, 8, 6, 6, 1, 3, 1, 16, 1, 2, 119, 1, 3, 2, 3, 2, 2, 49, 3, 1, 1, 2, 6, 7, 1, 15, 2, 12, 2, 1, 2, 4, 8, 3, 3, 4, 9, 10, 5, 2, 4, 1, 1, 1, 8, 9, 1, 1, 2, 1, 13, 14, 1, 3, 1, 17, 1, 1, 2, 1, 1, 8, 2, 1, 2, 1, 17, 2, 8, 18, 1, 15, 8, 1, 1, 3, 1, 1, 1, 1, 1, 1, 2, 2, 2, 2, 7, 3, 6, 3, 10, 11, 3, 8, 3, 2, 6, 1, 1, 1, 1, 1, 1, 1, 1, 1, 5, 4, 1, 3, 2, 1, 1, 1, 1, 1, 1, 1, 6, 1, 1, 1, 2, 1, 1, 7, 1, 1, 2, 2, 2, 1, 1, 1, 2, 2, 6, 2, 1, 1, 10, 3, 13, 34, 6, 4, 8, 10, 5, 2, 1, 6, 1, 1, 11, 3, 1, 1, 14, 1, 3, 2, 5, 30, 25, 1, 1, 1, 20, 7, 9, 18, 12, 3, 4, 4, 6, 1, 25, 6, 2, 6, 8, 40, 69, 3, 6, 3, 5, 26, 3, 18, 18, 10, 6, 10, 11, 3, 3, 13, 3, 10, 3, 11, 4, 24, 5, 6, 7, 27, 3, 140, 9, 7, 1, 3, 12, 8, 3, 3, 4, 3, 3, 4, 2, 2, 2, 10, 2, 12, 15, 2, 2, 4, 2, 4, 3, 6, 3, 3, 9, 3, 3, 3, 17, 3, 1, 1, 6, 16, 9, 11, 12, 32, 30, 5, 1, 9, 3, 7, 3, 4, 6, 4, 2, 3, 2, 5, 2, 5, 22, 74, 23, 15, 22, 22, 2, 1, 2, 1, 1, 2, 2, 2, 1, 1, 1, 2, 1, 1, 1, 1, 1, 2, 2, 2, 3, 37, 12, 21, 28, 12, 9, 14, 3, 7, 3, 6, 2, 2, 2, 5, 5, 2, 5, 6, 5, 5, 9, 7, 2, 3, 5, 6, 7, 2, 2, 7, 9, 2, 3, 2, 1, 9, 4, 3, 6, 9, 4, 3, 6, 5, 6, 11, 4, 3, 5, 18, 5, 13, 3, 2, 3, 3, 3, 2, 1, 6, 4, 6, 3, 11, 5, 6, 6, 2, 5, 25, 16, 9, 3, 22, 3, 2, 3, 1, 1, 7, 1, 4, 2, 5, 18, 3, 4, 34, 1, 3, 12, 5, 6, 4, 8, 5, 2, 50, 2, 5, 2, 2, 2, 6, 8, 9, 1, 1, 18, 3, 4, 3, 4, 18, 2, 7, 9, 1, 5, 14, 3, 1, 3, 14, 5, 5, 4, 3, 1, 2, 3, 11, 9, 5, 1, 3, 2, 1, 25, 24, 2, 97, 74, 2, 3, 3, 1, 4, 3, 17, 8, 2, 4, 3, 2, 22, 1, 3, 5, 30, 29, 60, 15, 5, 3, 7, 27, 15, 8, 10, 34, 8, 5, 52, 3, 1, 33, 1, 15, 11, 55, 7, 1, 21, 1, 7, 5, 2, 17, 5, 4, 2, 28, 6, 15, 12, 1, 6, 1, 11, 21, 1, 9, 4, 1, 6, 4, 3, 16, 7, 6, 17, 7, 49, 5, 1, 1, 1, 48, 2, 33, 54, 23, 34, 28, 70, 28, 28, 56, 27, 14, 6, 1, 22, 2, 1, 4, 1, 23, 15, 1, 1, 1, 2, 2, 2, 2, 3, 1, 1, 1, 1, 1, 1, 4, 7, 11, 1, 2, 2, 2, 2, 1, 1, 10, 8, 1, 1, 1, 1, 1, 1, 1, 1, 1, 1, 1, 1, 1, 1, 2, 1, 1, 1, 1, 1, 1, 1, 1, 1, 1, 2, 1, 1, 1, 1, 1, 1, 1, 1, 1, 1, 1, 1, 1, 1, 1, 1, 1, 1, 2, 2, 1, 30, 4, 4, 4, 6, 5, 2, 1, 8, 8, 293, 3, 5, 1, 1, 1, 1, 3, 1, 1, 1, 1, 1, 3, 1, 1, 1, 1, 1, 2, 16, 1, 10, 1, 7, 4, 3, 4, 1, 1, 2, 1, 5, 1, 1, 4, 1, 2, 1, 2, 1, 1, 14, 3, 3, 3, 3, 3, 3, 1, 2, 3, 1, 2, 2, 1, 1, 3, 2, 3, 7, 1, 11, 1, 1, 1, 2, 1, 1, 1, 1, 4, 1, 3, 1, 2, 2, 1, 3, 4, 2, 3, 3, 1, 3, 3, 4, 4, 9, 6, 1, 10, 1, 3, 2, 1, 7, 2, 1, 7, 1, 1, 1, 4, 8, 1, 5, 8, 1, 13, 8, 7, 2, 7, 2, 1, 1, 3, 3, 1, 2, 9, 2, 2, 1, 3, 2, 1, 1, 1, 1, 1, 1, 1, 1, 1, 104, 7, 2, 2, 2, 1, 8, 10, 7, 1, 9, 1, 1, 1, 1, 1, 1, 1, 1, 1, 1, 1, 984, 1, 1, 7, 1, 1, 1, 2, 8, 1, 2, 1, 1, 11, 14, 1, 1, 4, 4, 1, 8, 3, 4, 3, 3, 5, 4, 5, 6, 9, 11, 3, 5, 3, 5, 5, 4, 5, 6, 1, 79, 1, 1, 2, 6, 1, 11, 3, 3, 3, 3, 9, 1, 1, 1, 1, 2, 3, 3, 3, 1, 2, 4, 2, 3, 3, 2, 1, 3, 3, 6, 10, 2, 2, 1, 1, 1, 1, 2, 3, 7, 5, 5, 5, 5, 3, 1, 8, 91, 2, 13, 6, 7, 5, 1, 1, 1, 1, 1, 1, 4, 1, 2, 1, 1, 1, 1, 1, 1, 1, 11, 13, 2, 1, 1, 2, 8, 1, 2, 1, 3, 3, 1, 4, 1, 1, 1, 1, 6, 1, 1, 1, 3, 7, 2, 2, 1, 1, 3, 1, 1, 4, 5, 1, 1, 2, 1, 2, 1, 1, 1, 1, 1, 1, 1, 1, 1, 1, 1, 1, 1, 1, 6, 2, 1, 3, 3, 1, 25, 3, 3, 1, 4, 3, 1, 9, 1, 3, 1, 2, 11, 1, 2, 1, 1, 1, 2, 4, 3, 8, 1, 1, 1, 1, 1, 2, 2, 3, 1, 2, 1, 1, 1, 6, 1, 4, 4, 3, 1, 4, 2, 1, 1, 1, 2, 17, 8, 7, 2, 2, 2, 1, 2, 3, 1, 7, 1, 10, 17, 8, 3, 216, 10, 38, 8, 8, 8, 26, 16, 34, 13, 1, 134, 17, 1, 13, 9, 9, 9, 2, 2, 6, 6, 4, 58, 1, 7, 7, 2, 3, 17, 3, 26, 68, 41, 76, 15, 34, 15, 2, 22, 16, 9, 14, 29, 30, 5, 10, 14, 19, 8, 8, 60, 4, 1, 8, 15, 8, 3, 117, 9, 3, 8, 8, 5, 6, 1, 1, 1, 1, 4, 46, 4, 8, 1, 5, 5, 28, 3, 3, 6, 6, 4, 17, 11, 6, 35, 3, 4, 7, 5, 7, 2, 22, 2, 2, 8, 3, 18, 8, 1, 14, 4, 4, 19, 9, 11, 12, 13, 5, 10, 7, 118, 4, 1, 5, 18, 3, 10, 4, 1, 5, 3, 5, 4, 2, 1, 1, 1, 132, 1, 3, 1, 33, 2, 2, 1, 4, 21, 5, 4, 5, 2, 12, 2, 3, 2, 7, 3, 2, 2, 2, 2, 24, 7, 7, 6, 9, 1, 10, 5, 2, 3, 1, 1, 1, 1, 1, 1, 2, 39, 4, 1, 1, 2, 2, 2, 2, 1, 1, 1, 2, 1, 2, 1, 1, 1, 1, 1, 1, 1, 76, 1, 5, 60, 45, 4, 2, 2, 3, 6, 3, 5, 8, 4, 6, 7, 4, 4, 7, 2, 5, 6, 1, 1, 4, 6, 11, 3, 3, 2, 1, 25, 1, 14, 47, 2, 1, 2, 4, 1, 1, 1, 1, 1, 1, 2, 1, 3, 3, 3, 7, 8, 11, 6, 2, 1, 1, 1, 1, 1, 1, 4, 5, 5, 2, 1, 1, 1, 4, 9, 35, 1, 38, 6, 4, 1, 2, 1, 1, 3, 1, 2, 1, 1, 19, 4, 7, 3, 3, 1, 8, 3, 51, 3, 6, 5, 3, 2, 6, 6, 9, 6, 7, 3, 10, 5, 4, 3, 5, 12, 3, 2, 3, 2, 4, 4, 2, 2, 1, 2, 3, 17, 3, 3, 3, 1, 14, 7, 3, 4, 1, 1, 3, 2, 2, 1, 1, 5, 1, 1, 7, 10, 1, 1, 3, 2, 2, 3, 1, 1, 1, 1, 15, 2, 1, 3, 13, 5, 5, 4, 5, 5, 3, 21, 6, 1, 60, 2, 2, 2, 4, 1, 1, 1, 1, 1, 1, 8, 1, 1, 1, 2, 1, 1, 1, 1, 1, 1, 1, 8, 3, 2, 3, 139, 3, 6, 27, 8, 4, 2, 28, 1, 2, 15, 50, 3, 8, 22, 1, 1, 1, 1, 20, 4, 1, 5, 2, 71, 7, 1, 20, 1, 14, 1, 1, 3, 6, 28, 47, 3, 2, 2, 19, 4, 4, 6, 2, 1, 6, 5, 1, 6, 1, 8, 10, 14, 4, 10, 2, 1, 8, 2, 1, 1, 1, 1, 2, 3, 3, 2, 1, 4, 5, 1, 1, 3, 3, 3, 3, 20, 252, 28, 1, 30, 1, 1, 1, 1, 1, 1, 1, 1, 1, 1, 1, 4, 1, 2, 6, 1, 4, 1, 5, 6, 1, 1, 2, 3, 2, 1, 6, 5, 1, 2, 1, 3, 3, 1, 3, 2, 13, 6, 2, 6, 1, 1, 5, 1, 4, 3, 1, 1, 3, 2, 1, 1, 3, 5, 16, 3, 5, 2, 2, 22, 2, 3, 23, 340, 1, 1, 14, 2, 7, 2, 1, 19, 16, 1, 6, 6, 3, 3, 3, 11, 1, 3, 15, 8, 56, 23, 1, 5, 9, 6, 2, 1, 4, 5, 5, 3, 25, 3, 9, 2, 2, 2, 2, 3, 2, 1, 2, 2, 3, 1, 2, 4, 2, 2, 2, 2, 10, 2, 2, 5, 6, 2, 8, 3, 1, 4, 1, 1, 1, 1, 1, 1, 1, 1, 2, 1, 1, 1, 1, 1, 1, 1, 1, 1, 1, 1, 1, 1, 1, 1, 1, 1, 2, 3, 3, 4, 2, 2, 2, 8, 2, 53, 2, 2, 2, 2, 4, 2, 2, 6, 5, 2, 1, 5, 2, 2, 2, 2, 2, 2, 4, 2, 2, 1, 1, 1, 1, 1, 1, 1, 1, 1, 1, 1, 1, 1, 1, 26, 1, 2, 1, 3, 3, 4, 1, 1, 1, 1, 8, 1, 1, 1, 1, 4, 2, 4, 1, 2, 1, 1, 1, 1, 1, 1, 1, 1, 1, 3, 9, 1, 1, 2, 1, 2, 1, 1, 1, 3, 2, 1, 4, 4, 2, 3, 1, 2, 1, 1, 1, 1, 12, 1, 1, 2, 1, 1, 1, 1, 1, 2, 1, 1, 6, 1, 2, 26, 1, 1, 1, 2, 1, 1, 1, 1, 1, 1, 1, 2, 1, 1, 3, 1, 12, 3, 9, 2, 2, 2, 2, 1, 1, 1, 1, 2, 16, 1, 1, 2, 1, 1, 2, 2, 4, 1, 1, 2, 3, 3, 4, 3, 5, 7, 4, 6, 1, 7, 3, 2, 3, 3, 4, 2, 3, 3, 7, 2, 2, 4, 4, 4, 4, 3, 3, 4, 2, 4, 3, 3, 4, 1, 10, 2, 5, 3, 2, 4, 2, 2, 2, 1, 1, 1, 1, 1, 1, 1, 3, 3, 2, 1, 1, 3, 1, 1, 3, 1, 2, 1, 1, 1, 3, 2, 1, 2, 2, 2, 1, 2, 2, 1, 1, 1, 1, 4, 1, 1, 1, 1, 1, 1, 1, 3, 2, 9, 4, 5, 3, 2, 2, 7, 26, 11, 67, 6, 3, 67, 27, 9, 6, 69, 10, 5, 3, 3, 5, 12, 7, 5, 6, 1, 66, 22, 29, 13, 1, 7, 6, 2, 25, 10, 11, 3, 12, 19, 38, 14, 5, 10, 38, 32, 32, 14, 14, 6, 5, 24, 14, 5, 15, 4, 9, 9, 8, 11, 2, 8, 3, 5, 7, 553, 22, 14, 26, 24, 113, 10, 9, 3, 186, 12, 26, 41, 1, 63, 41, 43, 1, 4, 6, 8, 4, 2, 1, 2, 2, 2, 17, 2, 3, 3, 1, 2, 2, 3, 2, 5, 32, 1, 2, 2, 2, 4, 6, 8, 5, 7, 41, 55, 28, 227, 62, 4, 1, 115, 6, 1, 6, 1, 7, 2, 1, 6, 8, 1, 1, 22, 17, 6, 1, 2, 2, 6, 1, 8, 4, 8, 3, 5, 3, 2, 1, 1, 1, 1, 42, 1, 1, 1, 1, 2, 1, 1, 1, 1, 1, 1, 1, 1, 1, 2, 2, 1, 1, 1, 1, 2, 2, 2, 2, 4, 4, 4, 3, 2, 3, 3, 2, 11, 5, 7, 1, 1, 1, 1, 1, 4, 1, 1, 1, 1, 2, 1, 5, 1, 1, 1, 1, 1, 2, 11, 2, 1, 1, 1, 1, 1, 2, 1, 9, 9, 1, 3, 1, 7, 1, 1, 1, 9, 1, 2, 3, 1, 3, 3, 1, 1, 2, 4, 5, 1, 20, 6, 2, 12, 2, 6, 13, 1, 5, 5, 8, 226, 3, 3, 1, 20, 2, 1, 28, 3, 1, 1, 3, 1, 1, 2, 1, 2, 4, 1, 2, 2, 3, 4, 1, 4, 2, 8, 1, 2, 2, 2, 2, 1, 61, 7, 4, 2, 1, 2, 1, 3, 2, 2, 2, 1, 4, 10, 21, 22, 1, 1, 14, 2, 1, 7, 5, 5, 8, 58, 4, 1, 9, 1, 1, 31, 1, 1, 1, 1, 5, 7, 1, 1, 1, 19, 11, 2, 2, 12, 1, 9, 1, 1, 3, 2, 1, 54, 20, 1, 6, 18, 6, 25, 5, 2, 12, 7, 6, 6, 5, 14, 2, 2, 1, 1, 1, 1, 2, 2, 1, 4, 8, 4, 3, 2, 8, 5, 14, 1, 22, 1, 1, 1, 1, 3, 2, 2, 1, 1, 1, 1, 1, 1, 1, 1, 1, 1, 5, 4, 3, 1, 1, 1, 1, 1, 2, 11, 2, 3, 4, 10, 7, 28, 1, 9, 3, 1, 13, 1, 1, 1, 1, 1, 1, 1, 1, 1, 1, 1, 1, 5, 5, 1, 1, 1, 5, 9, 2, 10, 3, 2, 10, 1, 1, 2, 2, 1, 5, 2, 2, 2, 2, 1, 2, 1, 1, 6, 2, 3, 6, 1, 20, 1, 12, 11, 9, 3, 3, 2, 1, 27, 5, 4, 1, 2, 4, 2, 2, 4, 3, 8, 10, 4, 2, 1, 1, 1, 1, 1, 1, 28, 2, 1, 1, 1, 1, 957, 1, 1, 1, 1, 3, 1, 1, 1, 1, 5, 1, 2, 2, 1, 8, 1, 1, 1, 1, 1, 5, 1, 1, 1, 1, 1, 2, 1, 1, 1, 2, 1, 1, 2, 3, 1, 1, 1, 1, 8, 1, 1, 1, 5, 1, 1, 1, 3, 1, 1, 1, 1, 1, 1, 2, 1, 1, 1, 1, 1, 1, 8, 1, 1, 1, 1, 1, 5, 1, 2, 3, 4, 10, 1, 3, 7, 7, 2, 2, 4, 2, 1, 1, 1, 1, 29, 2, 1, 1, 1, 1, 4, 1, 1, 1, 1, 1, 2, 1, 2, 4, 4, 2, 2, 2, 2, 1, 4, 8, 2, 1, 2, 1, 1, 2, 1, 1, 1, 3, 1, 2, 3, 3, 7, 4, 1, 4, 2, 3, 2, 1, 2, 1, 1, 1, 1, 1, 1, 1, 5, 6, 3, 1, 1, 1, 1, 2, 3, 7, 1, 1, 1, 1, 1, 3, 1, 5, 1, 5, 1, 1, 1, 3, 1, 1, 1, 2, 3, 2, 1, 3, 3, 1, 1, 1, 1, 2, 5, 1, 1, 1, 1, 1, 1, 2, 1, 1, 1, 1, 2, 2, 1, 1, 2, 1, 2, 1, 1, 2, 2, 2, 1, 1, 1, 1, 1, 1, 1, 1, 3, 2, 2, 24, 2, 2, 3, 4, 2, 1, 1, 1, 1, 2, 4, 1, 5, 1, 1, 1, 1, 1, 3, 1, 2, 1, 2, 2, 1, 1, 1, 1, 2, 1, 3, 1, 15, 2, 2, 28, 3, 22, 32, 26, 19, 5, 1, 13, 13, 26, 3, 30, 1, 13, 2, 19, 3, 7, 15, 14, 5, 12, 4, 12, 3, 24, 2, 6, 3, 3, 1, 63, 2, 13, 4, 4, 3, 4, 3, 2, 6, 3, 3, 59, 11, 15, 5, 1, 7, 1, 6, 2, 3, 5, 1, 1, 27, 1, 1, 1, 15, 1, 1, 4, 1, 4, 3, 1, 4, 1, 1, 1, 28, 5, 1, 5, 1, 1, 2, 1, 1, 1, 40, 1, 1, 1, 1, 1, 6, 1, 1, 5, 1, 1, 5, 3, 1, 1, 1, 1, 1, 1, 1, 1, 1, 1, 1, 2, 1, 1, 1, 7, 3, 1, 1, 3, 2, 1, 1, 3, 1, 2, 1, 1, 1, 1, 1, 1, 1, 1, 1, 1, 6, 1, 1, 4, 1, 1, 1, 5, 1, 2, 1, 1, 1, 1, 1, 6, 1, 1, 1, 16, 1, 1, 84, 1, 1, 2, 1, 1, 4, 1, 2, 1, 1, 1, 1, 1, 1, 5, 4, 1, 1, 1, 15, 1, 1, 1, 2, 1, 1, 1, 1, 1, 1, 1, 1, 1, 1, 3, 1, 1, 1, 1, 1, 1, 1, 1, 1, 1, 2, 1, 1, 1, 1, 1, 1, 1, 2, 1, 1, 1, 2, 1, 1, 1, 1, 18, 1, 1, 1, 1, 1, 1, 1, 1, 1, 1, 1, 2, 222, 1, 1, 1, 2, 1, 1, 24, 2, 1, 1, 1, 1, 15, 1, 1, 1, 2, 1, 20, 3, 8, 22, 4, 2, 7, 2, 12, 65, 12, 4, 8, 2, 7, 1, 1, 2, 9, 68, 24, 1, 69, 47, 20, 3, 1, 1, 1, 4, 1, 3, 1, 2, 1, 5, 1, 15, 4, 4, 4, 4, 19, 17, 2, 16, 1, 14, 3, 24, 2, 1, 104, 2, 10, 3, 38, 2, 5, 1, 11, 4, 1, 1, 1, 1, 5, 1, 5, 1, 5, 1, 9, 5, 1, 6, 2, 1, 1, 1, 1, 1, 4, 2, 1, 53, 44, 12, 9, 2, 2, 7, 3, 4, 1, 1, 1, 1, 1, 1, 4, 3, 1, 1, 1, 1, 1, 1, 3, 1, 5, 1, 1, 2, 2, 2, 3, 1, 1, 1, 1, 1, 5, 1, 2, 2, 2, 4, 3, 3, 2, 9, 2, 2, 1, 1, 1, 3, 1, 1, 1, 1, 1, 1, 5, 2, 1, 3, 1, 1, 1, 1, 4, 1, 1, 1, 1, 1, 1, 1, 1, 1, 1, 1, 1, 4, 1, 1, 1, 1, 1, 1, 1, 1, 1, 1, 1, 2, 2, 2, 3, 1, 1, 7, 1, 1, 11, 2, 1, 13, 2, 2, 25, 1, 1, 1, 1, 3, 2, 2, 17, 1, 9, 9, 2, 26, 25, 5, 12, 8, 112, 1, 23, 6, 1, 1, 5, 1, 16, 2, 5, 1, 2, 2, 1, 1, 12, 2, 1, 2, 1, 9, 1, 1, 1, 1, 5, 1, 8, 1, 3, 2, 1, 1, 2, 5, 2, 4, 2, 3, 2, 12, 3, 3, 3, 2, 3, 19, 2, 3, 4, 7, 1, 1, 2, 26, 2, 4, 2, 2, 2, 2, 13, 6, 5, 2, 2, 13, 1, 5, 8, 30, 5, 6, 8, 1, 1, 1, 1, 1, 3, 7, 9, 7, 1, 1, 18, 3, 2, 3, 43, 18, 1, 46, 4, 5, 4, 1, 4, 5, 20, 2, 1, 1, 27, 37, 1, 3, 2, 2, 2, 2, 16, 54, 2, 21, 1, 1, 1, 11, 2, 1, 8, 1, 24, 8, 7, 3, 7, 7, 7, 1, 2, 28, 7, 3, 28, 7, 6, 7, 16, 7, 7, 9, 7, 1, 7, 7, 7, 8, 3, 7, 7, 6, 30, 2, 8, 10, 1, 8, 9, 1, 15, 1, 5, 3, 1, 1, 4, 2, 1, 5, 15, 4, 4, 5, 7, 6, 7, 7, 17, 5, 8, 6, 7, 2, 14, 1, 6, 1, 2, 1, 1, 1, 10, 10, 6, 1, 4, 10, 14, 26, 34, 12, 12, 1, 1, 6, 2, 1, 5, 1, 1, 5, 1, 1, 1, 1, 1, 1, 3, 3, 3, 1, 1, 6, 9, 7, 2, 3, 2, 1, 6, 1, 3, 1, 11, 2, 2, 1, 1, 2, 3, 8, 3, 3, 1, 3, 16, 1, 4, 1, 1, 2, 1, 1, 1, 1, 1, 1, 1, 1, 1, 1, 1, 1, 1, 1, 1, 11, 1, 1, 1, 1, 1, 9, 1, 1, 1, 94, 1, 24, 3, 2, 1, 1, 3, 2, 1, 1, 1, 1, 1, 1, 1, 20, 1, 1, 1, 2, 8, 4, 1, 10, 1, 1, 1, 1, 1, 5, 1, 1, 1, 5, 1, 1, 1, 1, 1, 1, 2, 1, 1, 1, 5, 1, 5, 1, 1, 2, 1, 3, 1, 3, 1, 1, 7, 1, 1, 1, 1, 3, 1, 4, 1, 1, 1, 1, 1, 1, 1, 5, 1, 2, 1, 1, 6, 1, 1, 1, 1, 1, 1, 4, 2, 1, 2, 1, 7, 3, 1, 50, 9, 1, 1, 38, 12, 12, 3, 14, 9, 18, 23, 1, 160, 68, 23, 17, 9, 4, 3, 2, 3, 3, 5, 1, 4, 3, 6, 1, 3, 3, 1, 5, 1, 3, 1, 5, 1, 5, 6, 1, 5, 1, 1, 5, 1, 1, 1, 1, 1, 1, 2, 1, 4, 1, 1, 1, 1, 3, 5, 4, 5, 5, 3, 1, 10, 1, 1, 1, 1, 1, 1, 1, 7, 3, 1, 1, 1, 2, 1, 4, 5, 1, 4, 1, 1, 3, 1, 1, 4, 1, 1, 1, 1, 4, 1, 3, 1, 1, 1, 1, 1, 1, 1, 1, 1, 6, 2, 8, 2, 1, 5, 1, 3, 3, 1, 1, 1, 3, 1, 1, 1, 1, 1, 1, 1, 1, 1, 1, 2, 1, 3, 3, 3, 1, 74, 1, 1, 1, 1, 1, 5, 1, 1, 1, 1, 3, 1, 1, 2, 1, 1, 1, 1, 1, 7, 5, 1, 1, 3, 3, 5, 3, 1, 1, 4, 2, 3, 1, 2, 1, 1, 1, 1, 1, 1, 1, 2, 1, 1, 1, 1, 1, 1, 1, 1, 3, 1, 1, 2, 1, 1, 1, 1, 2, 1, 1, 1, 1, 7, 1, 1, 1, 1, 1, 1, 1, 14, 1, 1, 85, 1, 1, 1, 1, 1, 1, 1, 1, 1, 1, 1, 1, 1, 1, 1, 1, 1, 1, 1, 1, 1, 1, 1, 1, 1, 1, 5, 1, 1, 1, 1, 1, 1, 2, 1, 1, 1, 1, 4, 1, 1, 1, 1, 1, 1, 1, 1, 1, 1, 1, 1, 1, 1, 1, 1, 1, 3, 2, 6, 13, 5, 2, 1, 25, 3, 10, 10, 1, 14, 2, 2, 2, 3, 9, 19, 2, 4, 1, 1, 1, 1, 1, 2, 18, 1, 14, 12, 7, 7, 7, 7, 3, 3, 29, 7, 25, 19, 27, 2, 32, 10, 1, 15, 2, 3, 7, 1, 1, 18, 2, 1, 6, 1, 1, 6, 12, 3, 3, 15, 23, 5, 1, 23, 12, 12, 6, 59, 7, 1, 1, 1, 3, 1, 1, 1, 1, 5, 5, 1, 1, 1, 1, 7, 1, 1, 1, 2, 3, 2, 2, 5, 3, 9, 1, 20, 2, 6, 6, 7, 1, 6, 1, 1, 6, 37, 4, 2, 1, 4, 3, 4, 8, 1, 5, 4, 1, 7, 4, 4, 4, 5, 1, 1, 1, 1, 1, 1, 1, 1, 1, 1, 6, 1, 1, 1, 2, 1, 1, 1, 2, 1, 1, 1, 1, 1, 3, 1, 1, 2, 1, 5, 2, 1, 3, 1, 8, 1, 2, 1, 2, 2, 1, 8, 1, 1, 1, 5, 1, 19, 2, 1, 3, 4, 1, 1, 2, 1, 1, 1, 1, 1, 1, 3, 1, 2, 1, 5, 5, 1, 1, 3, 2, 1, 1, 6, 1, 2, 1, 1, 5, 3, 3, 7, 14, 5, 7, 7, 1, 6, 2, 1, 1, 1, 1, 1, 15, 23, 1, 32, 10, 4, 2, 15, 8, 7, 69, 18, 13, 6, 4, 6, 2, 16, 1, 1, 9, 1, 6, 5, 1, 2, 9, 11, 19, 18, 2, 2, 2, 14, 2, 2, 2, 11, 2, 10, 7, 7, 6, 7, 7, 7, 7, 7, 1, 1, 1, 13, 5, 13, 13, 8, 12, 5, 6, 2, 20, 6, 4, 11, 13, 13, 1, 1, 5, 4, 1, 1, 3, 4, 55, 5, 3, 5, 5, 38, 5, 35, 16, 4, 4, 1, 5, 8, 5, 1, 4, 4, 10, 45, 39, 1, 19, 2, 2, 36, 3, 1, 2, 2, 2, 9, 42, 1, 4, 1, 4, 1, 13, 38, 34, 1, 18, 3, 16, 18, 18, 55, 4, 6, 2, 1, 6, 2, 1, 9, 9, 3, 1, 6, 2, 1, 7, 7, 1, 1, 1, 1, 1, 384, 2, 1, 1, 1, 1, 1, 18, 1, 3, 8, 1, 1, 2, 2, 4, 3, 3, 2, 1, 1, 1, 3, 1, 1, 1, 1, 1, 1, 1, 1, 1, 1, 1, 6, 1, 1, 1, 1, 7, 1, 1, 4, 1, 1, 4, 1, 1, 2, 6, 1, 1, 1, 6, 1, 1, 5, 1, 1, 4, 4, 1, 1, 1, 2, 3, 4, 1, 1, 3, 5, 2, 1, 7, 23, 2, 1, 1, 2, 10, 3, 1, 2, 2, 106, 1, 2, 1, 1, 1, 3, 3, 10, 6, 1, 13, 7, 14, 1, 7, 6, 1, 1, 17, 5, 3, 2, 3, 9, 17, 29, 3, 4, 1, 22, 1, 8, 3, 34, 1, 23, 87, 23, 68, 1, 14, 1, 3, 1, 1, 1, 10, 1, 1, 1, 1, 1, 1, 1, 1, 1, 1, 1, 1, 1, 1, 1, 1, 1, 1, 1, 1, 1, 1, 1, 1, 1, 1, 1, 3, 2, 1, 2, 1, 1, 1, 1, 1, 1, 1, 1, 1, 1, 1, 3, 1, 1, 1, 1, 1, 1, 1, 1, 1, 1, 1, 1, 1, 1, 1, 1, 1, 1, 1, 1, 1, 1, 1, 1, 1, 1, 1, 1, 1, 1, 1, 1, 1, 1, 1, 1, 1, 1, 1, 1, 1, 1, 1, 1, 1, 1, 2, 1, 1, 2, 1, 1, 1, 1, 1, 1, 1, 1, 1, 1, 1, 1, 1, 1, 1, 1, 1, 1, 1, 1, 1, 1, 1, 4, 2, 5, 1, 1, 2, 1, 1, 3, 2, 1, 1, 1, 1, 1, 2, 1, 1, 1, 1, 1, 1, 1, 1, 3, 3, 1, 2, 1, 7, 1, 1, 1, 1, 1, 3, 1, 1, 1, 1, 1, 1, 1, 1, 18, 1, 4, 12, 11, 21, 3, 3, 12, 45, 1, 19, 5, 2, 1, 1, 24, 2, 155, 3, 10, 6, 7, 14, 5, 3, 6, 10, 4, 1, 4, 4, 1, 1, 3, 2, 1, 2, 2, 19, 2, 3, 1, 7, 26, 24, 1, 23, 2, 5, 8, 11, 12, 16, 19, 19, 1, 1, 2, 1, 46, 7, 1, 4, 49, 1, 6, 1, 1, 1, 1, 6, 1, 1, 2, 1, 1, 4, 26, 2, 1, 1, 1, 4, 6, 1, 4, 6, 25, 5, 34, 10, 4, 3, 3, 20, 2, 1, 40, 1, 2, 1, 6, 4, 6, 7, 1, 6, 2, 1, 1, 9, 6, 1, 2, 3, 11, 1, 1, 1, 1, 35, 1, 2, 1, 3, 4, 2, 12, 1, 1, 1, 4, 1, 1, 1, 1, 1, 1, 1, 3, 1, 1, 1, 1, 1, 1, 7, 1, 1, 2, 2, 1, 2, 1, 1, 1, 1, 1, 14, 1, 52, 4, 11, 1, 1, 4, 1, 2, 1, 1, 1, 1, 1, 2, 2, 4, 2, 7, 9, 2, 3, 1, 1, 1, 1, 2, 1, 1, 1, 1, 1, 2, 1, 1, 1, 4, 7, 1, 1, 1, 3, 1, 2, 1, 1, 1, 1, 1, 1, 1, 1, 1, 4, 4, 1, 1, 1, 2, 2, 1, 1, 1, 1, 2, 1, 1, 2, 1, 1, 2, 1, 1, 1, 2, 1, 8, 3, 3, 2, 3, 1, 2, 1, 1, 2, 1, 1, 1, 2, 8, 1, 1, 3, 2, 9, 2, 2, 2, 4, 1, 1, 6, 4, 3, 1, 1, 6, 1, 1, 1, 1, 3, 10, 5, 1, 36, 2, 2, 4, 425, 81, 69, 10, 38, 186, 57, 85, 5, 7, 10, 15, 60, 2, 16, 4, 11, 1, 2, 22, 22, 32, 17, 134, 32, 22, 15, 32, 83, 38, 9, 35, 22, 22, 56, 31, 21, 4, 565, 14, 1, 1, 1, 1, 5, 6, 2, 7, 23, 21, 19, 21, 21, 7, 18, 13, 17, 9, 2, 3, 3, 3, 3, 3, 3, 3, 3, 3, 7, 19, 34, 3, 15, 2, 4, 21, 4, 6, 1, 1, 1, 15, 1, 42, 1, 1, 8, 6, 1, 1, 8, 1, 3, 3, 2, 13, 1, 16, 2, 1, 1, 1, 2, 2, 7, 4, 3, 12, 1, 1, 1, 1, 1, 1, 1, 1, 1, 1, 3, 8, 1, 5, 12, 7, 1, 1, 7, 1, 1, 1, 1, 1, 2, 3, 2, 3, 1, 1, 1, 1, 2, 2, 1, 2, 1, 1, 1, 1, 3, 1, 1, 1, 1, 1, 1, 3, 1, 2, 1, 1, 1, 2, 1, 1, 1, 3, 9, 6, 1, 1, 1, 1, 1, 2, 1, 1, 1, 1, 1, 1, 1, 1, 6, 1, 1, 1, 4, 1, 1, 2, 1, 1, 1, 17, 2, 3, 1, 1, 2, 2, 1, 1, 1, 1, 1, 1, 2, 1, 1, 1, 1, 1, 1, 2, 1, 2, 2, 1, 1, 2, 1, 1, 1, 1, 1, 2, 6, 2, 2, 1, 2, 28, 1, 6, 1, 2, 5, 1, 9, 4, 3, 1, 1, 3, 153, 1, 1, 6, 1, 1, 1, 1, 7, 3, 1, 18, 1, 6, 6, 22, 1, 9, 2, 4, 5, 1, 1, 3, 18, 24, 10, 25, 1, 1, 1, 1, 1, 3, 23, 7, 4, 8, 8, 1, 1, 2, 2, 3, 1, 15, 11, 2, 2, 6, 10, 4, 15, 1, 1, 4, 1, 7, 14, 1, 3, 2, 17, 2, 2, 92, 2, 1, 7, 9, 1, 10, 1, 3, 3, 2, 13, 5, 3, 4, 8, 2, 3, 1, 9, 3, 1, 4, 1, 17, 2, 18, 29, 87, 15, 18, 1, 8, 4, 10, 10, 22, 6, 8, 4, 1, 5, 1, 5, 9, 5, 5, 2, 9, 1, 1, 1, 3, 3, 3, 4, 1, 1, 4, 1, 1, 2, 3, 3, 4, 3, 6, 3, 1, 1, 1, 2, 1, 2, 1, 2, 1, 4, 1, 1, 1, 2, 1, 3, 1, 9, 2, 6, 1, 1, 1, 1, 1, 1, 1, 1, 1, 1, 1, 2, 1, 2, 1, 1, 1, 1, 1, 5, 1, 1, 1, 2, 2, 4, 2, 3, 3, 2, 8, 3, 6, 2, 2, 2, 1, 1, 1, 5, 1, 2, 1, 1, 1, 1, 4, 6, 1, 1, 1, 1, 2, 1, 1, 2, 1, 1, 1, 1, 1, 1, 1, 1, 1, 1, 1, 9, 1, 1, 1, 1, 1, 3, 1, 1, 1, 1, 1, 1, 1, 1, 1, 1, 1, 1, 1, 1, 1, 1, 1, 1, 1, 1, 2, 6, 1, 1, 2, 6, 1, 1, 1, 18, 1, 1, 1, 7, 11, 7, 19, 1, 5, 1, 1, 1, 26, 8, 266, 8, 12, 4, 6, 6, 2, 1, 1, 4, 4, 6, 5, 5, 16, 6, 6, 5, 5, 5, 17, 6, 7, 6, 23, 3, 10, 5, 5, 18, 6, 6, 4, 22, 4, 4, 4, 4, 13, 5, 9, 3, 26, 6, 6, 1, 1, 2, 1, 5, 23, 7, 6, 6, 6, 5, 1, 5, 18, 7, 20, 4, 40, 4, 5, 4, 8, 4, 3, 1, 3, 12, 1, 13, 23, 1, 310, 1, 1, 4, 4, 8, 7, 16, 204, 3, 14, 24, 24, 1, 3, 7, 4, 4, 2, 2, 8, 8, 2, 2, 2, 3, 2, 1, 1, 11, 1, 2, 2, 2, 1, 2, 1, 2, 6, 1, 3, 78, 30, 25, 10, 1, 1, 3, 3, 2, 5, 1, 4, 1, 14, 2, 1, 8, 1, 5, 16, 1, 2, 52, 55, 2, 1, 1, 3, 2, 9, 1, 23, 7, 1, 2, 5, 8, 73, 12, 3, 10, 1, 2, 1, 1, 1, 4, 17, 17, 1, 1, 2, 1, 2, 6, 22, 6, 3, 15, 5, 2, 6, 4, 10, 1, 4, 13, 6, 3, 1, 1, 1, 3, 3, 3, 1, 5, 1, 7, 4, 5, 1, 12, 3, 2, 2, 20, 2, 2, 1, 1, 8, 3, 3, 4, 4, 1, 21, 16, 2, 15, 3, 1, 134, 176, 29, 6, 7, 5, 5, 24, 24, 18, 6, 3, 6, 8, 7, 26, 3, 32, 14, 16, 18, 21, 2, 11, 21, 1, 1, 1, 18, 360, 2, 3, 1, 1, 1, 1, 31, 1, 1, 1, 18, 1, 2, 48, 1, 1, 1, 9, 1, 1, 1, 7, 1, 3, 22, 1, 3, 4, 1, 2, 6, 1, 1, 1, 8, 1, 15, 1, 4, 1, 12, 2, 20, 20, 42, 1, 8, 1, 1, 2, 1, 1, 1, 129, 3, 1, 2, 88, 1, 6, 1, 1, 1, 3, 10, 2, 1, 6, 1, 11, 1, 3, 1, 6, 1, 1, 1, 29, 1, 1, 1, 4, 3, 1, 4, 1, 1, 7, 1, 10, 4, 3, 3, 1, 1, 1, 1, 3, 21, 1, 1, 3, 8, 1, 6, 1, 5, 1, 7, 11, 1, 3, 1, 13, 2, 1, 1, 1, 1, 1, 1, 1, 11, 1, 1, 3, 2, 1, 1, 22, 1, 1, 53, 3, 1, 1, 2, 30, 9, 2, 1, 3, 1, 1, 15, 3, 3, 1, 1, 1, 4, 1, 1, 1, 1, 5, 3, 1, 1, 2, 5, 1, 9, 1, 10, 9, 3, 6, 33, 5, 4, 4, 3, 2, 1, 4, 5, 1, 2, 4, 2, 6, 6, 8, 1, 2, 5, 1, 2, 4, 5, 1, 1, 6, 1, 1, 2, 1, 1, 1, 1, 1, 1, 1, 2, 1, 45, 2, 1, 1, 1, 4, 4, 2, 4, 2, 1, 1, 6, 1, 1, 1, 1, 1, 1, 3, 5, 5, 5, 5, 2, 2, 2, 3, 1, 1, 1, 1, 1, 33, 1, 2, 1, 3, 2, 3, 2, 1, 2, 2, 2, 2, 3, 2, 2, 1, 3, 2, 1, 1, 1, 1, 1, 4, 3, 1, 1, 1, 1, 6, 1, 1, 2, 1, 1, 2, 1, 2, 1, 2, 1, 1, 1, 1, 4, 1, 2, 4, 1, 1, 1, 2, 1, 2, 3, 1, 2, 1, 1, 1, 1, 1, 1, 1, 2, 2, 1, 1, 1, 1, 1, 1, 1, 1, 1, 1, 3, 1, 1, 1, 1, 2, 1, 1, 1, 2, 1, 1, 1, 1, 1, 1, 1, 1, 2, 1, 3, 5, 2, 1, 1, 1, 1, 3, 3, 1, 4, 6, 1, 1, 1, 1, 1, 1, 1, 1, 1, 2, 1, 1, 1, 1, 1, 1, 1, 1, 88, 12, 11, 12, 45, 21, 1, 4, 1, 1, 14, 9, 2, 2, 12, 8, 6, 6, 8, 5, 1, 6, 15, 11, 1, 6, 16, 19, 36, 4, 4, 4, 4, 1, 1, 6, 1, 1, 1, 3, 15, 6, 2, 5, 38, 6, 9, 5, 5, 5, 9, 6, 6, 6, 6, 2, 4, 3, 2, 5, 2, 2, 3, 1, 3, 2, 2, 26, 4, 1, 2, 17, 13, 2, 6, 9, 8, 1, 4, 24, 5, 2, 3, 7, 20, 7, 2, 2, 2, 4, 2, 5, 3, 4, 4, 1, 6, 94, 1, 2, 2, 2, 2, 2, 1, 1, 1, 3, 3, 1, 2, 3, 2, 2, 1, 1, 6, 1, 4, 3, 1, 7, 10, 2, 25, 5, 4, 5, 2, 17, 7, 6, 5, 7, 1, 11, 3, 7, 51, 6, 8, 6, 5, 5, 6, 3, 9, 6, 4, 4, 6, 6, 7, 6, 1, 1, 4, 4, 32, 8, 4, 1, 28, 3, 1, 1, 5, 2, 1, 1, 5, 19, 12, 5, 21, 1, 5, 1, 1, 1, 4, 162, 21, 26, 5, 21, 5, 1, 1, 6, 4, 2, 8, 5, 12, 2, 3, 8, 68, 1, 5, 5, 4, 1, 6, 1, 1, 1, 8, 54, 38, 11, 5, 7, 21, 5, 1, 4, 2, 2, 4, 14, 32, 4, 10, 1, 5, 8, 3, 4, 5, 10, 2, 2, 24, 1, 1, 5, 10, 2, 9, 2, 4, 3, 77, 1, 6, 25, 25, 2, 48, 7, 13, 13, 163, 6, 3, 3, 1, 5, 1, 6, 1, 1, 8, 2, 1, 1, 7, 1, 13, 113, 1, 1, 1, 2, 2, 3, 5, 5, 3, 1, 1, 1, 3, 3, 1, 1, 1, 3, 2, 3, 1, 7, 3, 4, 1, 2, 11, 4, 92, 3, 1, 4, 1, 6, 1, 1, 1, 1, 1, 1, 6, 1, 1, 6, 1, 1, 1, 5, 4, 1, 4, 1, 4, 4, 4, 4, 1, 4, 5, 4, 3, 8, 1, 1, 2, 2, 1, 1, 6, 3, 3, 1, 1, 4, 3, 1, 1, 10, 12, 1, 1, 1, 55, 20, 18, 10, 19, 7, 13, 1, 5, 18, 4, 3, 3, 2, 4, 12, 3, 4, 5, 2, 59, 5, 1, 2, 1, 88, 187, 1, 10, 2, 3, 1, 8, 5, 6, 2, 16, 1, 1, 2, 6, 2, 15, 2, 2, 2, 2, 5, 9, 2, 1, 8, 15, 4, 4, 4, 3, 11, 3, 19, 2, 15, 2, 14, 1, 1, 6, 10, 1, 1, 1, 2, 2, 1, 1, 4, 2, 4, 2, 1, 4, 1, 35, 2, 3, 11, 2, 2, 2, 2, 4, 11, 4, 2, 2, 2, 1, 1, 2, 1, 1, 2, 4, 1, 4, 2, 2, 2, 1, 1, 2, 1, 1, 2, 1, 1, 4, 1, 5, 2, 2, 2, 2, 3, 2, 1, 2, 1, 1, 1, 1, 1, 2, 5, 7, 1, 2, 10, 4, 2, 2, 2, 2, 5, 1, 1, 1, 1, 1, 1, 1, 1, 2, 1, 1, 5, 2, 1, 1, 2, 13, 1, 1, 5, 1, 1, 1, 1, 1, 1, 1, 1, 1, 1, 1, 2, 3, 5, 1, 10, 1, 1, 1, 1, 9, 2, 2, 2, 1, 1, 1, 1, 2, 2, 5, 1, 1, 1, 1, 3, 1, 3, 2, 2, 2, 2, 1, 1, 1, 2, 1, 3, 2, 4, 1, 1, 3, 1, 1, 2, 2, 1, 1, 2, 1, 2, 1, 1, 4, 3, 2, 1, 3, 2, 3, 1, 3, 4, 2, 2, 1, 1, 2, 1, 1, 1, 2, 2, 2, 2, 3, 1, 2, 1, 1, 4, 1, 1, 1, 1, 2, 1, 1, 2, 6, 1, 2, 1, 1, 1, 1, 2, 1, 1, 4, 3, 1, 1, 2, 2, 1, 1, 2, 9, 2, 4, 1, 1, 1, 1, 1, 1, 1, 1, 1, 2, 1, 1, 4, 13, 1, 1, 1, 1, 1, 1, 1, 1, 1, 2, 1, 1, 3, 1, 2, 6, 4, 1, 1, 1, 1, 5, 2, 1, 2, 1, 2, 1, 7, 32, 1, 2, 2, 3, 1, 5, 17, 5, 6, 1, 1, 13, 2, 1, 31, 3, 3, 16, 2, 2, 69, 60, 1, 1, 1, 16, 12, 14, 13, 1, 2, 18, 10, 10, 10, 1, 24, 10, 10, 10, 10, 1, 11, 2, 1, 8, 6, 12, 6, 7, 3, 2, 6, 1, 1, 3, 2, 2, 1, 1, 5, 3, 4, 2, 1, 1, 1, 2, 1, 5, 1, 6, 10, 5, 1, 6, 14, 3, 1, 1, 1, 2, 2, 5, 4, 4, 18, 4, 6, 1, 1, 2, 1, 3, 3, 1, 1, 2, 1, 3, 1, 4, 1, 3, 1, 2, 1, 1, 1, 1, 4, 1, 2, 5, 1, 1, 4, 4, 2, 1, 1, 1, 3, 1, 1, 1, 2, 2, 2, 3, 3, 3, 2, 4, 2, 8, 3, 2, 1, 2, 1, 3, 3, 1, 1, 1, 1, 2, 1, 3, 1, 3, 1, 1, 2, 1, 2, 1, 3, 2, 1, 3, 2, 1, 1, 1, 6, 1, 1, 2, 1, 1, 1, 1, 1, 1, 1, 1, 1, 1, 1, 1, 1, 1, 1, 1, 1, 5, 1, 1, 1, 2, 2, 1, 1, 2, 2, 1, 1, 1, 7, 2, 1, 3, 2, 14, 11, 2, 2, 4, 2, 3, 14, 5, 1, 3, 21, 10, 1, 19, 15, 19, 9, 20, 6, 9, 3, 3, 1, 1, 16, 30, 2, 9, 72, 1, 3, 2, 1, 5, 19, 16, 2, 4, 5, 7, 3, 5, 5, 1, 5, 12, 4, 2, 4, 4, 7, 3, 3, 3, 3, 4, 101, 187, 4, 105, 4, 4, 55, 15, 1, 13, 13, 4, 13, 141, 1, 12, 1, 101, 1, 4, 1, 1, 1, 8, 21, 1, 3, 16, 1, 15, 1, 71, 3, 5, 2, 2, 2, 10, 5, 1, 2, 3, 18, 18, 13, 1, 2, 3, 1, 30, 7, 5, 13, 1, 2, 10, 9, 1, 28, 7, 5, 3, 5, 7, 2, 2, 1, 1, 1, 2, 1, 1, 1, 1, 1, 1, 1, 1, 1, 1, 1, 1, 1, 1, 1, 3, 1, 1, 1, 1, 1, 2, 2, 2, 2, 2, 8, 1, 3, 3, 1, 2, 1, 2, 1, 1, 1, 1, 1, 1, 1, 1, 1, 2, 2, 1, 1, 1, 1, 1, 1, 1, 1, 1, 1, 1, 1, 1, 1, 1, 1, 1, 1, 1, 1, 1, 1, 1, 1, 1, 1, 1, 1, 1, 1, 1, 1, 1, 1, 1, 1, 1, 1, 1, 1, 8, 1, 1, 1, 1, 1, 1, 1, 1, 1, 1, 1, 1, 1, 2, 1, 1, 1, 1, 2, 1, 1, 1, 1, 1, 1, 1, 1, 2, 1, 2, 2, 1, 1, 2, 1, 1, 1, 1, 1, 1, 1, 2, 1, 2, 1, 1, 1, 1, 1, 1, 2, 1, 1, 1, 2, 1, 1, 1, 38, 38, 4, 1, 1, 5, 3, 76, 5, 12, 2, 16, 11, 2, 2, 2, 4, 1, 1, 5, 3, 1, 4, 1, 4, 1, 1, 1, 2, 4, 2, 5, 4, 13, 1, 1, 1, 2, 1, 3, 5, 3, 2, 1, 1, 1, 2, 1, 4, 3, 2, 1, 1, 10, 1, 1, 1, 1, 4, 1, 2, 1, 1, 1, 1, 2, 2, 1, 1, 2, 1, 1, 1, 2, 2, 3, 5, 3, 4, 2, 3, 3, 2, 4, 2, 1, 2, 1, 1, 2, 1, 1, 3, 3, 1, 5, 1, 1, 1, 2, 1, 1, 5, 1, 3, 1, 3, 3, 1, 1, 1, 1, 2, 1, 1, 5, 3, 1, 1, 1, 1, 1, 1, 3, 2, 1, 1, 1, 1, 1, 1, 1, 1, 3, 2, 1, 1, 1, 1, 1, 1, 1, 2, 1, 1, 1, 1, 1, 2, 4, 1, 2, 1, 1, 1, 1, 1, 1, 1, 2, 12, 1, 1, 2, 2, 8, 10, 59, 1, 4, 12, 6, 6, 4, 6, 10, 5, 3, 9, 9, 8, 21, 17, 9, 4, 124, 3, 9, 3, 42, 9, 3, 4, 5, 8, 23, 1, 1, 1, 1, 1, 1, 1, 1, 1, 2, 3, 3, 4, 4, 9, 4, 5, 5, 1, 1, 1, 1, 2, 9, 1, 4, 2, 6, 4, 4, 6, 1, 3, 1, 5, 3, 7, 2, 1, 2, 11, 14, 1, 5, 2, 2, 1, 1, 1, 1, 1, 1, 4, 5, 1, 3, 1, 1, 2, 1, 3, 1, 2, 3, 1, 7, 4, 3, 2, 8, 3, 1, 1, 1, 1, 16, 1, 1, 1, 3, 2, 2, 10, 1, 3, 1, 2, 1, 2, 2, 2, 1, 3, 3, 1, 4, 1, 1, 9, 2, 3, 1, 1, 26, 1, 5, 4, 2, 1, 1, 2, 1, 2, 1, 1, 1, 14, 3, 6, 1, 1, 1, 2, 1, 1, 1, 1, 5, 11, 7, 1, 85, 2, 26, 1, 1, 3, 1, 4, 3, 6, 2, 1, 2, 1, 9, 11, 12, 2, 9, 3, 4, 4, 1, 3, 11, 2, 2, 2, 1, 2, 5, 6, 2, 3, 18, 3, 22, 3, 3, 6, 7, 11, 6, 3, 2, 1, 2, 9, 2, 3, 6, 5, 15, 4, 4, 1, 3, 2, 5, 2, 2, 3, 3, 3, 3, 3, 1, 5, 2, 2, 2, 3, 1, 2, 3, 2, 6, 29, 1, 1, 3, 6, 1, 7, 4, 3, 8, 3, 16, 7, 3, 7, 17, 3, 1, 1, 3, 2, 2, 3, 3, 3, 13, 2, 2, 6, 2, 3, 3, 1, 3, 2, 1, 2, 14, 3, 2, 8, 3, 5, 3, 9, 8, 4, 4, 1, 5, 2, 4, 3, 2, 2, 4, 21, 10, 3, 8, 5, 1, 4, 2, 3, 3, 2, 1, 2, 22, 1, 1, 16, 8, 15, 4, 7, 2, 3, 3, 7, 12, 4, 1, 1, 1, 1, 3, 3, 4, 2, 3, 2, 10, 3, 4, 3, 3, 1, 3, 3, 3, 4, 2, 2, 5, 3, 6, 23, 7, 3, 3, 2, 2, 2, 1, 3, 2, 3, 2, 2, 7, 5, 2, 2, 2, 2, 2, 2, 2, 2, 2, 1, 1, 1, 1, 1, 1, 1, 1, 1, 1, 1, 1, 2, 2, 2, 2, 2, 1, 1, 1, 1, 1, 3, 2, 1, 6, 1, 1, 1, 1, 1, 1, 1, 1, 3, 2, 1, 1, 1, 1, 1, 1, 1, 2, 13, 2, 3, 1, 1, 1, 1, 1, 1, 1, 2, 7, 6, 4, 2, 1, 8, 8, 2, 1, 3, 2, 2, 2, 1, 7, 6, 4, 2, 1, 6, 3, 4, 1, 10, 3, 2, 2, 2, 1, 4, 2, 2, 1, 3, 2, 2, 2, 1, 3, 3, 2, 2, 1, 3, 16, 3, 7, 8, 1, 10, 18, 9, 4, 4, 2, 3, 1, 1, 1, 1, 2, 2, 2, 2, 1, 2, 3, 1, 1, 1, 2, 2, 4, 2, 8, 2, 2, 2, 2, 4, 2, 4, 1, 1, 2, 2, 1, 1, 1, 1, 1, 1, 1, 1, 2, 8, 10, 4, 3, 3, 3, 3, 4, 3, 1, 3, 3, 1, 3, 2, 4, 3, 3, 3, 1, 2, 2, 3, 1, 3, 1, 1, 2, 1, 1, 1, 1, 1, 1, 4, 2, 4, 196, 1, 2, 1, 1, 2, 2, 2, 1, 2, 2, 1, 1, 2, 1, 3, 2, 2, 2, 1, 1, 2, 1, 1, 2, 1, 1, 5, 2, 2, 1, 3, 1, 2, 1, 5, 2, 2, 1, 1, 1, 1, 1, 1, 3, 2, 2, 2, 3, 1, 1, 1, 2, 1, 4, 1, 1, 1, 2, 1, 2, 33, 3, 1, 2, 2, 3, 2, 2, 2, 3, 4, 6, 3, 3, 3, 3, 3, 4, 1, 1, 2, 2, 1, 2, 1, 2, 3, 8, 1, 1, 1, 4, 1, 4, 3, 6, 1, 2, 1, 2, 2, 2, 2, 2, 2, 3, 1, 1, 2, 5, 2, 1, 2, 1, 7, 3, 3, 2, 2, 1, 1, 1, 1, 1, 1, 1, 1, 3, 1, 1, 1, 1, 1, 1, 1, 1, 1, 1, 1, 3, 1, 3, 3, 1, 3, 1, 7, 44, 3, 2, 2, 1, 1, 3, 1, 1, 1, 4, 17, 4, 2, 10, 2, 1, 1, 1, 4, 6, 11, 1, 24, 22, 5, 1, 3, 2, 2, 51, 5, 5, 11, 3, 12, 5, 5, 5, 5, 5, 5, 5, 1, 3, 1, 11, 13, 25, 9, 5, 10, 6, 2, 2, 3, 3, 54, 3, 6, 10, 14, 11, 2, 1, 2, 6, 15, 17, 10, 1, 2, 1, 4, 1, 3, 3, 6, 6, 29, 3, 7, 6, 7, 12, 14, 14, 9, 10, 10, 1, 10, 4, 1, 1, 1, 2, 7, 1, 4, 11, 1, 12, 34, 16, 14, 5, 6, 13, 1, 1, 6, 4, 3, 1, 11, 3, 1, 4, 7, 103, 2, 14, 1, 12, 3, 12, 3, 3, 7, 1, 4, 68, 2, 1, 1, 2, 2, 17, 2, 2, 13, 4, 2, 39, 18, 8, 2, 1, 21, 2, 2, 2, 2, 3, 2, 1, 1, 1, 7, 6, 3, 10, 2, 2, 2, 2, 2, 3, 2, 2, 1, 2, 2, 7, 2, 2, 4, 2, 10, 2, 4, 2, 2, 2, 5, 2, 1, 7, 2, 2, 6, 7, 2, 2, 4, 1, 3, 3, 8, 4, 1, 6, 2, 1, 4, 1, 1, 1, 6, 1, 1, 1, 1, 1, 3, 2, 3, 4, 3, 2, 5, 6, 3, 1, 2, 3, 2, 2, 3, 6, 1, 6, 6, 1, 1, 1, 6, 1, 1, 1, 1, 5, 1, 1, 1, 1, 1, 1, 1, 1, 4, 3, 1, 1, 1, 1, 1, 1, 1, 1, 2, 2, 2, 2, 1, 1, 2, 3, 1, 1, 1, 11, 2, 2, 1, 2, 1, 1, 3, 1, 1, 1, 1, 1, 1, 1, 1, 1, 2, 1, 2, 2, 2, 4, 3, 1, 1, 1, 1, 2, 1, 1, 10, 1, 1, 1, 1, 1, 2, 1, 1, 1, 1, 1, 1, 1, 1, 1, 1, 1, 2, 1, 1, 2, 1, 1, 1, 1, 1, 1, 5, 1, 3, 1, 2, 2, 1, 1, 1, 3, 1, 1, 3, 4, 1, 1, 1, 1, 1, 2, 1, 3, 3, 1, 2, 1, 1, 15, 1, 1, 1, 1, 1, 1, 3, 1, 1, 2, 1, 1, 1, 1, 1, 3, 1, 8, 9, 5, 2, 4, 1, 5, 1, 1, 2, 16, 2, 2, 2, 2, 2, 1, 1, 6, 5, 20, 24, 10, 5, 5, 4, 2, 5, 9, 2, 5, 2, 23, 1, 2, 2, 45, 1, 5, 1, 5, 3, 7, 2, 2, 1, 11, 2, 1, 1, 1, 2, 8, 4, 5, 6, 4, 1, 4, 1, 1, 1, 3, 3, 3, 2, 1, 3, 2, 1, 3, 2, 3, 2, 1, 1, 1, 1, 1, 22, 3, 9, 1, 2, 9, 6, 2, 2, 2, 25, 1, 1, 2, 1, 17, 6, 2, 6, 5, 30, 11, 76, 47, 6, 11, 10, 1, 1, 1, 1, 1, 1, 1, 1, 11, 1, 1, 1, 1, 1, 1, 1, 2, 1, 6, 12, 19, 2, 1, 1, 1, 6, 11, 3, 1, 1, 4, 5, 11, 16, 19, 1, 1, 9, 8, 1, 21, 61, 2, 2, 2, 4, 2, 4, 4, 4, 4, 4, 4, 5, 5, 8, 12, 4, 6, 1, 2, 1, 4, 1, 1, 4, 5, 2, 4, 5, 2, 6, 1, 1, 20, 1, 1, 1, 1, 36, 17, 33, 1, 3, 19, 4, 49, 49, 14, 17, 25, 17, 2, 16, 1, 10, 3, 1, 11, 1, 3, 3, 1, 16, 3, 16, 10, 3, 2, 16, 4, 1, 12, 9, 13, 3, 3, 1, 1, 3, 1, 1, 2, 3, 2, 1, 31, 28, 65, 11, 1, 4, 1, 1, 2, 1, 2, 2, 2, 1, 3, 3, 2, 1, 2, 1, 1, 1, 1, 1, 6, 3, 1, 1, 1, 1, 1, 1, 1, 2, 1, 3, 3, 1, 1, 1, 4, 3, 3, 1, 3, 1, 1, 1, 1, 3, 1, 1, 1, 1, 1, 4, 1, 3, 4, 1, 1, 4, 1, 4, 4, 4, 1, 1, 1, 4, 4, 1, 5, 4, 1, 1, 8, 4, 1, 2, 2, 1, 1, 3, 1, 6, 3, 21, 34, 4, 3, 4, 1, 11, 16, 2, 11, 3, 9, 12, 3, 15, 24, 7, 7, 1, 261, 7, 1, 1, 3, 70, 12, 2, 4, 7, 3, 3, 3, 3, 3, 3, 3, 3, 12, 1, 5, 10, 1, 7, 6, 7, 1, 106, 16, 16, 6, 12, 24, 12, 1, 5, 4, 7, 4, 1, 1, 1, 1, 1, 1, 1, 1, 1, 1, 1, 1, 1, 1, 2, 1, 1, 1, 1, 1, 1, 1, 1, 1, 1, 1, 1, 1, 1, 1, 1, 1, 1, 1, 1, 1, 1, 1, 1, 1, 6, 1, 3, 1, 1, 1, 1, 1, 1, 2, 1, 1, 2, 1, 1, 15, 1, 1, 1, 2, 1, 3, 1, 1, 1, 51, 1, 1, 1, 1, 1, 5, 1, 1, 5, 1, 1, 1, 1, 1, 1, 1, 1, 1, 1, 1, 1, 1, 1, 1, 1, 1, 2, 2, 2, 1, 1, 3, 1, 1, 2, 2, 2, 1, 1, 2, 2, 1, 1, 2, 2, 2, 4, 4, 4, 1, 1, 1, 1, 1, 1, 1, 1, 1, 1, 1, 1, 1, 1, 1, 1, 1, 1, 1, 1, 1, 13, 2, 2, 2, 1, 2, 20, 2, 3, 9, 5, 4, 4, 9, 4, 4, 1, 1, 1, 1, 1, 2, 1, 1, 1, 1, 9, 1, 1, 1, 1, 4, 1, 3, 2, 1, 2, 4, 1, 4, 2, 1, 1, 1, 1, 1, 1, 1, 1, 3, 2, 3, 2, 2, 1, 1, 1, 1, 1, 1, 1, 1, 5, 2, 4, 1, 3, 1, 1, 1, 1, 1, 1, 2, 3, 1, 2, 1, 1, 1, 1, 1, 4, 1, 1, 1, 1, 1, 1, 1, 1, 1, 1, 3, 1, 1, 1, 1, 1, 1, 1, 1, 2, 1, 1, 1, 1, 1, 1, 1, 1, 1, 1, 1, 1, 1, 1, 1, 1, 1, 2, 3, 3, 2, 1, 1, 1, 1, 1, 3, 1, 1, 1, 1, 1, 1, 1, 1, 1, 1, 1, 1, 1, 1, 1, 1, 1, 3, 12, 4, 1, 5, 4, 2, 1, 1, 1, 1, 1, 1, 1, 1, 1, 1, 1, 3, 1, 1, 1, 4, 1, 1, 4, 1, 4, 1, 4, 1, 4, 1, 2, 1, 1, 2, 1, 2, 1, 1, 4, 1, 2, 1, 2, 1, 1, 1, 2, 1, 1, 1, 2, 1, 1, 6, 1, 1, 2, 1, 1, 1, 1, 3, 1, 4, 1, 1, 1, 1, 1, 1, 1, 1, 1, 2, 1, 2, 1, 1, 1, 1, 1, 4, 1, 1, 1, 1, 3, 1, 1, 1, 1, 1, 1, 1, 1, 1, 1, 1, 1, 1, 1, 1, 1, 1, 1, 4, 3, 3, 1, 1, 1, 1, 1, 1, 1, 1, 1, 1, 1, 1, 1, 1, 1, 1, 2, 1, 3, 1, 5, 1, 1, 1, 1, 1, 1, 1, 1, 1, 1, 1, 1, 1, 1, 1, 1, 1, 1, 1, 1, 1, 1, 1, 3, 2, 3, 2, 1, 1, 1, 1, 1, 1, 1, 1, 1, 1, 1, 1, 1, 1, 1, 1, 1, 1, 2, 1, 1, 1, 1, 1, 1, 1, 1, 1, 1, 1, 1, 1, 1, 1, 2, 1, 1, 1, 1, 1, 1, 3, 1, 1, 1, 2, 1, 2, 2, 2, 1, 1, 1, 1, 1, 1, 1, 1, 1, 1, 1, 1, 1, 1, 1, 1, 1, 1, 1, 1, 1, 1, 2, 1, 1, 2, 2, 1, 1, 1, 1, 1, 1, 1, 1, 1, 1, 1, 1, 1, 1, 1, 1, 1, 1, 1, 1, 1, 1, 1, 11, 4, 1, 2, 1, 1, 1, 1, 1, 2, 1, 1, 1, 1, 1, 1, 1, 1, 1, 1, 1, 1, 1, 1, 1, 2, 1, 3, 1, 1, 1, 2, 1, 1, 9, 2, 10, 8, 1, 1, 1, 1, 1, 2, 2, 1, 1, 1, 1, 1, 1, 1, 1, 1, 2, 2, 1, 1, 1, 1, 1, 5, 1, 1, 1, 5, 1, 1, 1, 1, 1, 1, 1, 1, 1, 1, 1, 1, 1, 1, 1, 2, 1, 1, 3, 1, 1, 1, 1, 1, 1, 1, 1, 1, 1, 1, 1, 1, 1, 1, 1, 1, 1, 1, 1, 1, 1, 2, 1, 1, 1, 2, 1, 1, 1, 1, 2, 1, 1, 1, 1, 2, 1, 5, 1, 1, 1, 1, 1, 3, 1, 1, 1, 1, 1, 1, 1, 1, 1, 1, 1, 1, 1, 1, 1, 1, 2, 1, 1, 1, 1, 1, 1, 1, 2, 1, 1, 1, 1, 1, 1, 1, 5, 1, 1, 1, 1, 1, 1, 1, 2, 1, 1, 1, 1, 2, 1, 1, 1, 1, 1, 1, 1, 1, 2, 1, 1, 1, 1, 1, 2, 1, 1, 1, 2, 1, 1, 1, 2, 1, 1, 2, 1, 1, 1, 1, 1, 1, 1, 1, 1, 1, 8, 1, 1, 2, 6, 1, 7, 7, 103, 4, 30, 23, 11, 4, 29, 1, 22, 2, 4, 2, 5, 1, 26, 3, 1, 4, 1, 2, 3, 92, 1, 1, 1, 1, 4, 10, 1, 3, 2, 2, 1, 1, 2, 2, 3, 2, 3, 3, 2, 1, 1, 5, 2, 2, 4, 1, 1, 1, 1, 1, 1, 1, 2, 1, 1, 1, 3, 3, 3, 3, 1, 1, 1, 5, 1, 1, 1, 1, 2, 2, 1, 1, 1, 6, 1, 1, 1, 3, 3, 4, 1, 1, 1, 2, 2, 1, 2, 1, 1, 2, 1, 1, 1, 1, 1, 1, 1, 1, 1, 3, 1, 1, 1, 3, 4, 1, 1, 1, 1, 1, 1, 1, 4, 3, 1, 5, 2, 1, 1, 2, 1, 2, 1, 1, 1, 2, 1, 1, 2, 3, 5, 48, 6, 4, 2, 20, 1, 9, 4, 1, 1, 2, 4, 12, 1, 59, 98, 3, 6, 7, 1, 6, 17, 14, 33, 14, 2, 1, 1, 8, 1, 1, 24, 13, 5, 2, 14, 2, 5, 1, 2, 5, 5, 5, 3, 2, 41, 15, 15, 15, 1, 5, 2, 20, 53, 8, 9, 3, 2, 2, 4, 3, 3, 3, 4, 12, 202, 9, 2, 8, 1, 1, 1, 9, 17, 18, 72, 22, 2, 26, 5, 2, 10, 14, 6, 2, 1, 1, 46, 38, 1, 8, 1, 1, 1, 1, 1, 5, 1, 1, 1, 2, 1, 2, 2, 1, 6, 1, 2, 2, 2, 2, 1, 1, 3, 4, 3, 3, 3, 6, 2, 6, 1, 1, 1, 1, 1, 1, 1, 3, 3, 3, 3, 1, 1, 1, 1, 1, 1, 1, 1, 1, 1, 1, 3, 3, 4, 3, 1, 1, 1, 1, 1, 1, 1, 1, 1, 2, 1, 6, 1, 1, 1, 1, 1, 1, 1, 1, 1, 1, 1, 1, 1, 1, 2, 1, 1, 1, 1, 9, 1, 1, 2, 1, 1, 3, 2, 1, 1, 1, 2, 1, 1, 1, 7, 1, 5, 3, 1, 6, 2, 1, 1, 3, 4, 14, 21, 23, 8, 1, 12, 9, 28, 5, 1, 1, 1, 1, 39, 3, 1, 1, 2, 4, 6, 9, 10, 5, 2, 3, 1, 1, 2, 1, 1, 2, 1, 2, 1, 1, 1, 2, 1, 3, 1, 6, 1, 1, 1, 1, 2, 1, 3, 2, 1, 1, 7, 1, 1, 1, 1, 4, 1, 1, 1, 1, 1, 1, 1, 1, 6, 1, 1, 2, 2, 1, 3, 1, 1, 3, 4, 1, 1, 1, 1, 1, 1, 4, 11, 5, 1, 1, 1, 1, 1, 4, 1, 8, 12, 8, 3, 2, 2, 6, 2, 1, 6, 6, 2, 3, 2, 2, 10, 2, 2, 4, 1, 4, 1, 4, 7, 10, 2, 2, 1, 1, 1, 1, 1, 1, 2, 1, 1, 1, 1, 1, 1, 1, 1, 1, 1, 1, 1, 1, 1, 1, 1, 1, 2, 1, 1, 1, 1, 1, 1, 1, 1, 1, 1, 1, 1, 1, 1, 1, 1, 1, 2, 1, 1, 1, 1, 1, 1, 1, 2, 4, 4, 2, 4, 5, 2, 2, 2, 2, 12, 1, 3, 1, 1, 9, 2, 1, 1, 1, 1, 1, 1, 1, 2, 1, 4, 1, 1, 1, 2, 4, 2, 1, 2, 2, 3, 1, 1, 2, 1, 2, 2, 3, 1, 1, 1, 1, 2, 1, 2, 1, 2, 1, 2, 1, 1, 4, 1, 1, 4, 1, 1, 3, 1, 1, 1, 1, 4, 1, 1, 1, 1, 1, 1, 1, 1, 1, 1, 2, 1, 1, 1, 1, 1, 2, 1, 1, 1, 1, 1, 1, 1, 1, 1, 1, 1, 2, 1, 1, 2, 1, 1, 1, 1, 1, 1, 1, 1, 1, 1, 1, 1, 1, 1, 1, 1, 1, 1, 5, 3, 2, 2, 8, 1, 2, 2, 1, 1, 2, 1, 1, 1, 1, 1, 1, 4, 1, 2, 1, 1, 1, 1, 1, 1, 1, 1, 1, 4, 1, 1, 2, 1, 1, 19, 4, 10, 9, 3, 12, 9, 1, 1, 16, 16, 4, 2, 2, 2, 1, 1, 1, 6, 9, 2, 1, 27, 7, 6, 2, 5, 2, 2, 1, 6, 6, 1, 1, 11, 3, 3, 4, 1, 18, 5, 4, 1, 1, 7, 1, 4, 1, 1, 3, 11, 2, 29, 1, 1, 1, 1, 3, 15, 1, 1, 1, 4, 6, 4, 7, 1, 2, 1, 1, 1, 2, 1, 1, 2, 2, 2, 4, 11, 1, 2, 3, 21, 1, 1, 1, 2, 4, 1, 1, 10, 264, 21, 25, 128, 245, 1, 5, 2, 63, 16, 2, 5, 30, 1, 15, 8, 2, 11, 2, 3, 9, 16, 56, 12, 1, 1, 1, 35, 4, 1, 11, 1, 2, 1, 2, 1, 1, 1, 1, 1, 1, 1, 1, 6, 1, 1, 1, 1, 1, 1, 1, 1, 1, 3, 5, 3, 1, 1, 1, 1, 1, 2, 1, 4, 1, 1, 1, 6, 3, 74, 1, 3, 1, 1, 2, 2, 1, 2, 1, 2, 1, 4, 4, 4, 2, 1, 41, 1, 2, 1, 1, 1, 9, 23, 2, 2, 2, 2, 11, 5, 1, 4, 1, 4, 2, 3, 1, 2, 1, 1, 4, 1, 1, 1, 1, 1, 1, 1, 1, 5, 10, 1, 1, 1, 1, 5, 1, 1, 1, 6, 1, 2, 1, 75, 2, 3, 2, 19, 1, 1, 15, 3, 1, 1, 1, 3, 1, 3, 1, 1, 1, 1, 1, 1, 6, 1, 6, 2, 2, 1, 1, 2, 2, 1, 1, 2, 10, 1, 2, 1, 3, 1, 3, 1, 3, 1, 26, 1, 3, 1, 1, 21, 4, 2, 1, 1, 1, 4, 1, 1, 1, 1, 1, 4, 1, 1, 3, 1, 1, 2, 3, 2, 2, 1, 2, 1, 2, 7, 1, 1, 2, 1, 1, 1, 1, 2, 2, 1, 6, 1, 71, 1, 1, 1, 1, 10, 1, 2, 1, 2, 5, 2, 4, 1, 1, 1, 1, 1, 1, 1, 23, 1, 11, 3, 3, 2, 1, 1, 1, 1, 1, 2, 4, 1, 29, 2, 3, 1, 2, 3, 1, 3, 1, 2, 1, 1, 1, 4, 2, 1, 1, 1, 1, 1, 2, 1, 1, 1, 1, 2, 2, 1, 1, 1, 1, 1, 1, 3, 2, 1, 2, 1, 5, 1, 1, 2, 1, 1, 5, 4, 1, 2, 2, 1, 4, 2, 1, 2, 1, 1, 2, 1, 1, 1, 3, 1, 1, 1, 1, 1, 1, 1, 1, 1, 2, 1, 1, 1, 1, 2, 1, 1, 1, 1, 1, 1, 1, 2, 2, 2, 2, 1, 1, 4, 2, 17, 4, 2, 2, 1, 2, 2, 1, 3, 2, 2, 2, 1, 4, 5, 4, 7, 7, 1, 2, 2, 22, 5, 6, 6, 2, 1, 1, 1, 1, 5, 3, 3, 1, 1, 4, 2, 1, 1, 14, 17, 1, 3, 1, 1, 1, 1, 5, 2, 2, 12, 1, 1, 2, 1, 1, 2, 2, 3, 3, 3, 3, 3, 3, 3, 3, 3, 5, 5, 5, 2, 1, 1, 1, 1, 1, 1, 4, 5, 2, 6, 2, 2, 2, 2, 1, 1, 1, 2, 2, 1, 1, 1, 2, 1, 3, 5, 10, 2, 2, 1, 1, 1, 1, 1, 21, 19, 3, 1, 4, 10, 1, 4, 4, 5, 15, 2, 4, 2, 4, 1, 3, 1, 1, 2, 1, 6, 18, 1, 1, 2, 10, 4, 3, 4, 6, 3, 4, 7, 4, 4, 4, 6, 7, 4, 3, 4, 4, 9, 4, 15, 1, 7, 6, 9, 3, 3, 2, 8, 5, 4, 1, 1, 4, 4, 3, 1, 4, 2, 1, 1, 1, 10, 8, 5, 2, 12, 57, 3, 3, 3, 1, 1, 2, 1, 10, 11, 1, 2, 1, 9, 4, 1, 2, 4, 1, 1, 12, 8, 13, 14, 19, 9, 17, 2, 1, 16, 1, 2, 9, 8, 2, 1, 2, 2, 4, 3, 1, 16, 2, 2, 2, 1, 18, 2, 1, 1, 1, 3, 1, 3, 3, 3, 3, 3, 3, 3, 6, 1, 4, 3, 1, 2, 2, 2, 1, 13, 1, 3, 3, 2, 1, 2, 1, 9, 6, 17, 1, 2, 12, 5, 2, 2, 54, 3, 6, 4, 1, 6, 10, 1, 2, 2, 1, 4, 2, 3, 1, 4, 1, 3, 2, 2, 6, 1, 5, 1, 2, 6, 2, 3, 5, 9, 1, 3, 6, 4, 6, 3, 10, 11, 71, 25, 3, 1, 1, 1, 1, 3, 3, 3, 9, 6, 5, 2, 1, 1, 3, 2, 1, 1, 1, 1, 3, 3, 1, 7, 2, 1, 5, 2, 1, 1, 3, 3, 18, 9, 17, 5, 8, 3, 6, 4, 3, 5, 3, 1, 18, 2, 4, 1, 1, 6, 9, 4, 1, 4, 1, 4, 4, 1, 4, 4, 1, 1, 1, 1, 1, 1, 308, 7, 3, 8, 3, 3, 1, 6, 5, 11, 1, 6, 6, 4, 10, 14, 7, 7, 9, 11, 17, 3, 2, 3, 4, 2, 2, 8, 6, 8, 13, 4, 16, 18, 18, 15, 5, 15, 2, 4, 5, 1, 1, 10, 3, 2, 5, 1, 3, 3, 3, 3, 1, 350, 27, 17, 17, 2, 4, 3, 6, 3, 1, 1, 1, 1, 1, 7, 8, 5, 2, 2, 2, 5, 7, 4, 30, 13, 6, 9, 81, 2, 1, 2, 2, 6, 6, 125, 5, 11, 6, 1, 7, 6, 1, 1, 1, 58, 1, 10, 134, 2, 10, 4, 5, 1, 10, 33, 2, 3, 3, 16, 17, 80, 10, 16, 7, 6, 5, 6, 10, 8, 1, 1, 1, 1, 13, 2, 2, 1, 2, 1, 11, 3, 1, 1, 1, 1, 1, 4, 2, 2, 1, 1, 1, 1, 1, 1, 2, 3, 2, 2, 2, 1, 1, 3, 4, 3, 1, 1, 1, 1, 1, 1, 1, 1, 3, 3, 3, 1, 1, 4, 1, 1, 1, 1, 2, 1, 1, 1, 1, 1, 1, 1, 1, 1, 1, 1, 1, 1, 1, 1, 1, 1, 2, 1, 1, 1, 1, 1, 1, 1, 6, 1, 1, 1, 1, 3, 2, 1, 1, 1, 1, 2, 2, 3, 2, 2, 2, 2, 1, 1, 1, 1, 1, 1, 2, 2, 2, 2, 3, 1, 1, 1, 1, 1, 1, 1, 1, 1, 1, 2, 1, 1, 3, 1, 1, 1, 1, 1, 1, 1, 1, 1, 1, 1, 1, 2, 1, 2, 1, 1, 1, 2, 1, 1, 1, 1, 1, 1, 1, 1, 1, 1, 1, 1, 1, 2, 1, 1, 1, 1, 1, 1, 1, 1, 2, 1, 1, 1, 1, 1, 1, 1, 1, 1, 65, 1, 8, 4, 1, 1, 1, 4, 4, 2, 23, 1, 13, 2, 11, 2, 1, 1, 19, 6, 1, 1, 2, 2, 2, 1, 1, 4, 2, 4, 2, 2, 3, 2, 2, 1, 2, 1, 2, 1, 2, 4, 3, 2, 2, 4, 4, 1, 1, 2, 1, 1, 1, 1, 1, 3, 4, 2, 7, 3, 1, 1, 1, 1, 1, 1, 1, 1, 1, 2, 6, 5, 3, 2, 1, 1, 2, 1, 1, 1, 1, 1, 1, 1, 1, 1, 1, 1, 1, 2, 3, 2, 1, 2, 1, 2, 1, 2, 1, 1, 8, 9, 1, 1, 1, 1, 1, 4, 1, 1, 1, 1, 1, 1, 1, 1, 2, 2, 1, 1, 1, 1, 1, 1, 1, 1, 1, 1, 1, 1, 1, 1, 1, 1, 1, 1, 1, 1, 1, 1, 1, 1, 1, 1, 1, 1, 1, 1, 2, 2, 2, 9, 1, 1, 1, 1, 1, 1, 1, 1, 2, 1, 1, 2, 1, 1, 1, 1, 1, 1, 1, 1, 1, 1, 1, 1, 1, 1, 1, 1, 1, 1, 1, 1, 2, 1, 1, 1, 1, 1, 1, 1, 1, 1, 1, 1, 1, 1, 1, 1, 1, 1, 1, 1, 1, 1, 1, 1, 8, 1, 1, 1, 1, 1, 1, 1, 1, 1, 1, 1, 1, 1, 1, 1, 1, 1, 1, 1, 1, 1, 2, 1, 3, 1, 1, 10, 1, 6, 12, 2, 10, 8, 2, 45, 1, 11, 16, 1, 12, 3, 2, 4, 44, 1, 5, 7, 1, 3, 3, 22, 34, 6, 3, 15, 1, 2, 9, 1, 10, 10, 2, 1, 1, 1, 2, 3, 4, 25, 8, 2, 2, 2, 2, 2, 4, 2, 3, 1, 6, 25, 1, 6, 7, 1, 6, 15, 8, 8, 8, 6, 17, 2, 1, 1, 2, 1, 12, 16, 18, 4, 3, 68, 3, 7, 1, 3, 1, 6, 4, 2, 3, 1, 3, 2, 2, 2, 3, 3, 2, 3, 2, 1, 4, 1, 2, 1, 1, 1, 6, 2, 3, 2, 1, 3, 2, 1, 4, 2, 3, 4, 1, 2, 1, 5, 1, 1, 1, 1, 3, 2, 3, 3, 2, 1, 1, 3, 1, 2, 1, 1, 2, 1, 1, 1, 1, 4, 2, 1, 1, 1, 1, 1, 1, 1, 3, 3, 4, 5, 4, 1, 7, 1, 2, 1, 2, 1, 1, 2, 1, 2, 1, 1, 4, 3, 1, 3, 1, 3, 1, 3, 1, 2, 1, 1, 1, 3, 6, 3, 1, 4, 3, 4, 3, 3, 2, 5, 1, 2, 3, 1, 1, 3, 1, 1, 1, 1, 1, 1, 1, 1, 1, 1, 1, 1, 1, 1, 1, 1, 3, 1, 3, 3, 3, 3, 15, 3, 3, 3, 2, 1, 3, 3, 1, 1, 1, 3, 3, 2, 4, 2, 6, 5, 8, 1, 4, 1, 2, 3, 10, 12, 2, 2, 2, 1, 2, 1, 4, 2, 4, 2, 3, 2, 1, 2, 1, 2, 1, 2, 1, 3, 2, 2, 2, 2, 1, 1, 1, 1, 1, 2, 3, 1, 3, 1, 1, 1, 1, 1, 1, 1, 1, 1, 1, 1, 5, 1, 1, 2, 1, 1, 2, 1, 1, 1, 1, 1, 1, 1, 1, 1, 1, 1, 1, 1, 1, 2, 1, 2, 1, 1, 9, 1, 1, 1, 1, 1, 1, 1, 1, 1, 1, 1, 1, 1, 1, 4, 1, 1, 2, 1, 2, 38, 1, 5, 1, 4, 6, 34, 21, 3, 5, 2, 2, 6, 7, 2, 1, 43, 1, 4, 4, 14, 1, 1, 1, 1, 10, 4, 4, 37, 7, 3, 25, 5, 12, 1, 1, 3, 7, 8, 14, 1, 1, 2, 15, 10, 3, 3, 1, 1, 1, 10, 10, 4, 3, 1, 1, 10, 2, 2, 1, 2, 8, 6, 2, 2, 2, 2, 5, 2, 2, 2, 1, 104, 2, 2, 2, 4, 1, 2, 1, 3, 7, 5, 25, 1, 1, 1, 1, 1, 1, 1, 2, 1, 3, 1, 1, 1, 3, 3, 1, 7, 2, 1, 1, 4, 1, 1, 3, 2, 2, 1, 1, 2, 8, 1, 2, 1, 1, 1, 1, 3, 2, 3, 5, 1, 2, 2, 2, 8, 2, 1, 1, 3, 10, 1, 2, 4, 1, 1, 25, 2, 4, 8, 8, 4, 1, 9, 6, 4, 7, 14, 1, 1, 11, 3, 3, 3, 3, 8, 14, 2, 3, 3, 3, 24, 9, 9, 1, 3, 5, 1, 1, 6, 2, 1, 6, 3, 5, 2, 130, 2, 1, 2, 3, 3, 9, 6, 6, 9, 3, 12, 22, 8, 11, 8, 1, 1, 6, 4, 3, 3, 6, 3, 3, 10, 3, 3, 3, 6, 6, 3, 3, 5, 20, 3, 3, 3, 3, 9, 1, 6, 6, 3, 3, 13, 3, 2, 3, 2, 4, 1, 1, 3, 3, 1, 3, 6, 3, 3, 3, 3, 6, 4, 3, 3, 9, 3, 2, 2, 6, 3, 6, 6, 4, 4, 1, 3, 5, 2, 4, 1, 8, 3, 4, 4, 4, 7, 7, 3, 1, 3, 3, 3, 1, 2, 3, 3, 7, 7, 6, 3, 12, 3, 6, 5, 5, 4, 3, 3, 3, 3, 3, 1, 2, 4, 4, 2, 6, 7, 3, 3, 8, 3, 3, 1, 2, 2, 2, 2, 3, 3, 2, 12, 3, 8, 2, 3, 1, 3, 1, 5, 3, 3, 3, 6, 4, 6, 3, 8, 1, 3, 1, 3, 1, 1, 1, 28, 1, 3, 1, 2, 5, 4, 1, 1, 7, 3, 3, 1, 3, 2, 2, 3, 3, 3, 3, 3, 3, 3, 12, 1, 1, 14, 12, 1, 1, 4, 9, 1, 4, 19, 9, 9, 9, 9, 9, 9, 9, 9, 9, 9, 18, 8, 3, 5, 3, 3, 5, 2, 4, 8, 1, 1, 1, 1, 2, 2, 2, 1, 1, 1, 2, 1, 1, 1, 1, 1, 2, 1, 1, 1, 1, 2, 2, 1, 8, 11, 1, 1, 2, 1, 1, 1, 1, 3, 1, 1, 2, 1, 1, 1, 1, 1, 1, 1, 1, 1, 1, 1, 1, 1, 1, 1, 1, 1, 8, 5, 1, 1, 1, 1, 1, 1, 1, 5, 7, 1, 1, 1, 1, 1, 1, 2, 1, 1, 1, 1, 1, 1, 1, 1, 1, 2, 1, 1, 1, 1, 1, 1, 1, 14, 1, 1, 1, 1, 1, 1, 1, 3, 3, 1, 3, 1, 1, 1, 1, 1, 1, 1, 1, 1, 2, 1, 1, 1, 1, 1, 1, 1, 1, 1, 1, 1, 1, 1, 1, 1, 1, 1, 1, 1, 1, 3, 1, 3, 1, 1, 1, 1, 1, 3, 2, 1, 1, 1, 1, 1, 1, 1, 1, 5, 1, 1, 1, 1, 3, 1, 1, 1, 6, 1, 3, 3, 3, 1, 8, 4, 12, 10, 1, 1, 1, 1, 1, 1, 1, 1, 1, 1, 1, 5, 1, 1, 1, 2, 1, 1, 2, 1, 1, 1, 1, 1, 1, 1, 1, 2, 1, 1, 1, 1, 1, 4, 1, 1, 1, 2, 1, 1, 1, 2, 1, 1, 1, 1, 1, 2, 2, 1, 1, 2, 1, 1, 1, 1, 1, 1, 1, 1, 1, 1, 1, 1, 1, 4, 1, 8, 1, 1, 1, 1, 1, 1, 2, 1, 1, 1, 1, 2, 1, 1, 1, 1, 1, 1, 1, 2, 1, 1, 1, 1, 1, 1, 1, 1, 1, 6, 1, 1, 1, 1, 1, 8, 12, 8, 8, 7, 2, 1, 8, 2, 1, 4, 4, 2, 3, 3, 1, 3, 11, 2, 4, 2, 2, 4, 14, 14, 2, 2, 1, 1, 1, 1, 1, 1, 2, 2, 2, 1, 1, 3, 1, 4, 3, 2, 3, 8, 19, 1, 2, 6, 3, 5, 5, 5, 9, 1, 1, 1, 1, 4, 2, 1, 1, 6, 2, 15, 2, 9, 1, 3, 2, 7, 1, 3, 3, 1, 30, 3, 1, 1, 5, 1, 1, 1, 3, 1, 1, 1, 2, 4, 5, 3, 1, 2, 3, 3, 7, 2, 3, 3, 5, 3, 1, 1, 1, 1, 1, 1, 1, 3, 1, 2, 1, 1, 1, 1, 2, 1, 3, 1, 1, 1, 4, 1, 2, 2, 1, 1, 1, 1, 1, 1, 2, 1, 1, 1, 1, 1, 1, 1, 1, 1, 1, 2, 1, 3, 2, 1, 2, 1, 1, 1, 1, 1, 1, 1, 5, 3, 11, 8, 1, 12, 8, 9, 1, 1, 7, 11, 1, 3, 2, 3, 16, 4, 3, 14, 2, 3, 3, 1, 5, 2, 6, 1, 1, 1, 2, 2, 4, 2, 2, 3, 1, 3, 1, 1, 2, 1, 1, 1, 1, 1, 10, 1, 1, 4, 3, 7, 3, 1, 2, 2, 2, 4, 2, 2, 1, 2, 3, 5, 2, 1, 1, 3, 3, 1, 2, 3, 3, 5, 3, 1, 1, 1, 2, 1, 1, 1, 3, 8, 1, 1, 1, 3, 1, 8, 1, 5, 3, 12, 5, 6, 3, 3, 1, 3, 1, 1, 1, 3, 1, 3, 1, 3, 2, 3, 1, 3, 3, 1, 1, 1, 1, 6, 1, 3, 1, 1, 8, 21, 1, 1, 6, 9, 1, 1, 12, 1, 9, 12, 6, 5, 3, 1, 4, 1, 17, 4, 6, 1, 6, 4, 1, 2, 10, 2, 1, 5, 10, 1, 11, 6, 10, 5, 10, 5, 5, 9, 7, 18, 15, 1, 1, 11, 3, 3, 4, 7, 8, 8, 2, 10, 8, 4, 11, 2, 2, 2, 2, 2, 2, 4, 4, 2, 2, 4, 2, 2, 2, 2, 2, 2, 2, 2, 2, 2, 2, 2, 2, 2, 2, 1, 3, 1, 2, 7, 1, 2, 1, 2, 2, 1, 2, 2, 2, 2, 1, 1, 2, 2, 2, 2, 2, 2, 1, 4, 1, 1, 2, 1, 1, 1, 5, 3, 6, 1, 5, 2, 2, 2, 2, 2, 2, 2, 4, 2, 2, 2, 2, 2, 2, 2, 2, 2, 4, 2, 4, 2, 2, 4, 2, 4, 2, 4, 2, 2, 2, 2, 2, 2, 2, 2, 2, 12, 1, 12, 2, 4, 2, 2, 4, 2, 4, 2, 2, 2, 2, 2, 2, 2, 2, 2, 2, 3, 3, 2, 2, 2, 2, 2, 2, 2, 2, 2, 2, 4, 4, 5, 5, 4, 4, 6, 2, 1, 8, 6, 3, 2, 1, 1, 3, 1, 3, 1, 1, 1, 3, 6, 2, 2, 1, 1, 1, 1, 1, 2, 1, 1, 1, 1, 1, 1, 1, 1, 2, 2, 2, 2, 3, 2, 2, 2, 2, 4, 2, 2, 1, 1, 1, 1, 1, 1, 1, 1, 3, 1, 1, 4, 1, 1, 1, 1, 1, 1, 1, 1, 1, 1, 1, 1, 1, 2, 1, 5, 3, 1, 1, 1, 1, 1, 1, 7, 2, 1, 1, 1, 1, 7, 21, 2, 1, 1, 2, 2, 1, 2, 1, 1, 1, 1, 1, 4, 1, 2, 2, 2, 2, 2, 1, 1, 1, 1, 1, 1, 1, 2, 2, 1, 1, 1, 1, 1, 1, 1, 1, 1, 7, 1, 1, 1, 7, 1, 2, 1, 1, 1, 1, 1, 1, 1, 2, 1, 1, 3, 1, 6, 1, 1, 1, 1, 2, 1, 1, 1, 7, 2, 1, 1, 1, 7, 1, 1, 2, 1, 1, 1, 1, 1, 1, 3, 2, 1, 2, 1, 1, 1, 16, 13, 1, 2, 2, 2, 2, 2, 3, 4, 4, 2, 2, 1, 1, 3, 2, 7, 4, 2, 1, 1, 1, 2, 2, 1, 1, 1, 2, 1, 1, 2, 1, 2, 1, 1, 1, 1, 2, 1, 2, 1, 1, 2, 1, 1, 1, 2, 1, 1, 3, 1, 3, 3, 1, 1, 1, 6, 3, 3, 5, 5, 2, 5, 1, 1, 1, 6, 1, 2, 5, 1, 9, 5, 5, 5, 5, 1, 13, 4, 5, 1, 1, 1, 2, 23, 5, 5, 113, 1, 2, 1, 2, 1, 3, 1, 1, 1, 2, 1, 15, 2, 2, 4, 7, 3, 7, 7, 8, 8, 1, 1, 21, 3, 1, 38, 11, 5, 1, 2, 1, 1, 8, 2, 3, 2, 6, 5, 2, 9, 2, 2, 17, 107, 6, 1, 24, 1, 3, 6, 3, 12, 2, 1, 6, 6, 1, 9, 120, 1, 5, 2, 1, 2, 2, 4, 2, 3, 8, 5, 5, 6, 4, 5, 5, 6, 5, 4, 5, 5, 1, 4, 2, 2, 2, 2, 2, 2, 2, 6, 1, 1, 1, 3, 1, 2, 2, 2, 2, 2, 1, 1, 2, 2, 1, 1, 1, 1, 1, 1, 1, 1, 1, 3, 6, 4, 12, 3, 1, 1, 1, 3, 1, 2, 1, 2, 2, 1, 1, 1, 1, 2, 1, 1, 1, 1, 1, 1, 1, 1, 1, 1, 3, 1, 1, 1, 1, 1, 1, 1, 1, 2, 1, 1, 1, 1, 2, 1, 2, 2, 2, 3, 6, 2, 2, 2, 4, 4, 2, 2, 2, 1, 1, 3, 4, 4, 2, 2, 2, 19, 1, 1, 1, 1, 6, 2, 2, 1, 1, 3, 6, 7, 2, 1, 1, 1, 1, 2, 1, 1, 2, 1, 1, 1, 1, 2, 1, 1, 1, 2, 1, 2, 1, 1, 1, 2, 1, 1, 1, 1, 1, 3, 1, 3, 3, 1, 1, 3, 1, 2, 2, 1, 1, 3, 16, 1, 1, 1, 2, 4, 4, 3, 1, 6, 3, 3, 3, 5, 3, 2, 1, 2, 2, 2, 1, 2, 2, 2, 2, 2, 1, 1, 1, 18, 3, 2, 1, 3, 1, 2, 2, 1, 2, 2, 1, 1, 2, 1, 1, 1, 1, 1, 1, 2, 4, 1, 1, 1, 1, 1, 3, 1, 1, 1, 1, 1, 1, 1, 1, 1, 1, 2, 1, 1, 1, 1, 1, 1, 1, 1, 1, 1, 1, 1, 1, 1, 1, 1, 1, 1, 1, 1, 1, 1, 1, 1, 1, 1, 1, 1, 1, 1, 1, 1, 1, 1, 1, 2, 1, 1, 1, 1, 1, 1, 1, 1, 1, 4, 2, 2, 1, 1, 1, 1, 1, 1, 1, 1, 1, 1, 1, 1, 1, 1, 1, 1, 1, 2, 1, 1, 1, 1, 1, 1, 1, 1, 1, 1, 1, 1, 1, 1, 1, 1, 1, 1, 2, 1, 1, 1, 1, 1, 1, 1, 1, 1, 1, 1, 1, 1, 1, 2, 1, 1, 1, 1, 1, 1, 1, 1, 1, 4, 1, 1, 4, 4, 1, 3, 1, 2, 19, 1, 1, 2, 2, 1, 1, 2, 2, 6, 6, 1, 2, 2, 6, 6, 7, 6, 6, 6, 2, 6, 11, 1, 4, 5, 10, 6, 6, 6, 4, 6, 6, 6, 1, 1, 2, 9, 2, 2, 2, 1, 8, 2, 2, 3, 1, 4, 6, 6, 4, 2, 3, 1, 3, 1, 1, 1, 1, 2, 8, 6, 1, 1, 1, 1, 1, 10, 11, 4, 2, 6, 18, 4, 6, 1, 1, 2, 2, 3, 1, 1, 1, 6, 1, 3, 1, 1, 1, 3, 1, 1, 1, 3, 1, 3, 1, 1, 13, 1, 2, 2, 1, 1, 5, 4, 2, 1, 2, 7, 2, 1, 24, 1, 1, 1, 1, 2, 4, 1, 1, 2, 2, 1, 1, 1, 1, 5, 1, 1, 2, 1, 2, 1, 2, 1, 2, 2, 2, 1, 1, 2, 2, 1, 2, 1, 2, 1, 2, 3, 2, 2, 2, 2, 2, 1, 2, 2, 2, 1, 1, 4, 1, 2, 1, 5, 1, 2, 2, 1, 1, 2, 1, 1, 1, 2, 1, 2, 5, 1, 1, 1, 1, 1, 1, 1, 2, 1, 13, 1, 1, 1, 6, 3, 6, 5, 2, 1, 5, 4, 1, 1, 3, 1, 1, 1, 1, 1, 1, 1, 1, 2, 1, 1, 1, 1, 7, 6, 1, 1, 1, 1, 1, 1, 1, 1, 1, 1, 1, 1, 1, 1, 1, 1, 1, 1, 2, 1, 1, 1, 1, 1, 1, 1, 1, 1, 1, 1, 1, 1, 1, 1, 1, 1, 1, 1, 1, 1, 1, 1, 1, 1, 1, 1, 1, 1, 2, 1, 2, 2, 2, 1, 1, 1, 1, 1, 1, 1, 2, 1, 1, 1, 1, 1, 1, 1, 1, 6, 6, 2, 1, 4, 1, 2, 1, 2, 4, 5, 10, 1, 8, 8, 1, 1, 6, 8, 2, 2, 1, 2, 1, 1, 2, 1, 1, 2, 1, 4, 2, 4, 2, 2, 1, 2, 1, 2, 1, 2, 1, 2, 4, 3, 1, 1, 4, 1, 2, 1, 2, 1, 1, 5, 3, 5, 3, 2, 2, 2, 2, 2, 1, 2, 1, 3, 1, 5, 1, 1, 1, 1, 1, 2, 1, 1, 1, 2, 2, 1, 2, 1, 2, 1, 2, 1, 3, 2, 1, 2, 2, 1, 3, 2, 1, 1, 1, 1, 2, 1, 1, 2, 1, 2, 2, 1, 1, 2, 2, 6, 30, 1, 1, 6, 1, 2, 2, 1, 1, 1, 5, 5, 1, 2, 2, 2, 1, 1, 1, 1, 1, 1, 1, 1, 1, 1, 1, 1, 1, 1, 1, 1, 1, 1, 2, 1, 2, 1, 8, 1, 1, 4, 1, 1, 1, 1, 1, 1, 2, 8, 2, 1, 1, 2, 1, 2, 1, 1, 1, 1, 2, 1, 1, 1, 2, 1, 1, 1, 1, 2, 3, 1, 3, 1, 2, 1, 1, 1, 1, 1, 2, 1, 1, 2, 2, 1, 1, 1, 1, 1, 1, 1, 1, 1, 1, 1, 1, 6, 1, 1, 1, 1, 2, 2, 2, 2, 2, 2, 1, 2, 2, 1, 2, 1, 4, 6, 4, 1, 2, 2, 2, 1, 2, 1, 2, 1, 1, 2, 2, 2, 2, 2, 2, 2, 2, 2, 2, 2, 2, 2, 1, 1, 1, 6, 1, 2, 2, 2, 1, 1, 2, 3, 1, 6, 1, 2, 1, 1, 2, 1, 1, 1, 1, 1, 5, 2, 3, 1, 3, 1, 1, 2, 2, 2, 2, 1, 2, 1, 1, 2, 1, 1, 1, 1, 1, 1, 2, 1, 1, 1, 4, 3, 4, 1, 7, 1, 5, 15, 2, 4, 4, 3, 2, 2, 2, 3, 1, 13, 2, 1, 1, 1, 2, 1, 161, 1, 2, 2, 2, 1, 1, 1, 5, 2, 5, 1, 4, 2, 1, 16, 3, 1, 3, 1, 3, 2, 2, 4, 57, 5, 5, 5, 5, 5, 5, 8, 54, 1, 4, 2, 6, 3, 3, 2, 2, 58, 2, 2, 2, 3, 4, 1, 2, 10, 2, 2, 1, 1, 1, 10, 2, 2, 2, 1, 1, 2, 2, 1, 2, 6, 6, 3, 1, 2, 2, 2, 2, 6, 8, 8, 4, 12, 2, 2, 7, 2, 6, 4, 4, 4, 8, 4, 12, 2, 4, 10, 4, 8, 2, 1, 1, 1, 1, 1, 2, 1, 1, 1, 1, 1, 1, 1, 3, 1, 1, 1, 1, 2, 6, 2, 2, 2, 2, 1, 1, 1, 1, 1, 2, 2, 2, 1, 2, 2, 2, 1, 6, 2, 3, 2, 1, 2, 2, 2, 2, 2, 2, 5, 2, 2, 2, 2, 2, 2, 4, 2, 2, 2, 3, 5, 3, 4, 2, 2, 2, 1, 2, 1, 1, 2, 2, 1, 1, 1, 1, 2, 1, 1, 2, 1, 2, 2, 1, 2, 1, 1, 1, 2, 2, 2, 2, 1, 1, 2, 2, 2, 2, 1, 2, 2, 1, 1, 1, 1, 2, 1, 2, 2, 1, 1, 1, 2, 1, 1, 1, 1, 1, 5, 2, 1, 2, 6, 2, 2, 1, 1, 2, 1, 1, 1, 1, 2, 2, 2, 1, 1, 1, 1, 5, 5, 10, 2, 14, 3, 1, 4, 2, 2, 3, 5, 5, 5, 1, 1, 2, 2, 1, 1, 1, 4, 1, 2, 2, 2, 3, 3, 3, 1, 1, 2, 3, 6, 1, 2, 1, 3, 2, 2245, 1, 6, 3, 1, 7, 1, 1, 1, 1, 1, 4, 1, 1, 1, 1, 3, 2, 10, 1, 1, 1, 1, 1, 1, 1, 1, 1, 5, 3, 2, 1, 1, 1, 2, 2, 14, 2, 7, 5, 1, 1, 2, 4, 5, 69, 1, 8, 5, 1, 4, 5, 5, 1, 1, 1, 3, 1, 1, 2, 6, 15, 4, 2, 1, 3, 35, 2, 4, 1, 1, 1, 1, 1, 3, 1, 1, 1, 1, 1, 3, 4, 2, 1, 4, 1, 4, 1, 1, 3, 3, 1746, 7, 7, 1, 1, 1, 1, 1, 2, 1, 1, 1, 1, 1, 4, 1, 1, 9, 1, 1, 2, 1, 1, 1, 1, 6, 4, 9, 1, 1, 1, 4, 3, 1, 89, 1, 1, 1, 1, 3, 3, 3, 3, 1, 1, 1, 1, 2, 1, 2, 1, 7, 43, 77, 3, 45, 4, 2, 2, 1, 1, 2, 1, 1, 1, 1, 1, 1, 1, 1, 1, 1, 3, 5, 180, 1, 5, 4, 1, 5, 5, 3, 3, 4, 8, 1, 1, 1, 1, 2, 1, 1, 1, 1, 1, 1, 2, 1, 2, 2, 1, 1, 1, 1, 3, 3, 2, 3, 3, 1, 1, 1, 3, 1, 1, 3, 1, 1, 1, 1, 1, 1, 1, 1, 1, 7, 5, 2, 1, 2, 2, 1, 1, 3, 2, 3, 3, 3, 3, 2, 3, 3, 3, 7, 1, 1, 2, 1, 1, 1, 1, 1, 1, 1, 1, 1, 1, 1, 1, 3, 2, 4, 3, 3, 3, 3, 2, 2, 1, 1, 1, 1, 7, 2, 2, 1, 1, 1, 1, 3, 1, 1, 4, 2, 35, 2, 1, 20, 2, 4, 1, 2, 2, 4, 1, 4, 10, 3, 2, 3, 1, 1, 1, 2, 2, 4, 5, 4, 1, 4, 1, 2, 4, 2, 11, 1, 2, 11, 1, 1, 1, 4, 4, 5, 3, 14, 6, 6, 1, 1, 4, 2, 1, 5, 2, 19, 1, 4, 2, 3, 3, 4, 1, 8, 1, 1, 2, 1, 6, 1, 1, 3, 3, 22, 5, 3, 4, 5, 5, 2, 2, 3, 2, 8, 2, 1, 10, 7, 4, 5, 6, 20, 9, 4, 5, 5, 2, 3, 4, 8, 5, 4, 6, 6, 1, 1, 4, 1, 1, 1, 1, 1, 20, 8, 1, 2, 1, 3, 3, 4, 7, 4, 5, 4, 1, 5, 5, 2, 1, 3, 3, 3, 7, 2, 11, 3, 3, 1, 4, 5, 8, 9, 6, 5, 2, 1, 1, 1, 1, 1, 1, 1, 1, 4, 4, 1, 2, 3, 2, 1, 1, 1, 1, 1, 1, 1, 4, 4, 8, 1, 4, 4, 4, 1, 1, 1, 3, 1, 3, 3, 3, 3, 6, 3, 3, 3, 1, 3, 5, 3, 3, 3, 3, 3, 3, 3, 3, 3, 3, 3, 3, 3, 6, 6, 3, 6, 3, 3, 3, 6, 6, 3, 3, 1, 3, 3, 3, 3, 4, 6, 6, 3, 6, 1, 3, 3, 1, 18, 3, 1, 3, 1, 3, 3, 3, 1, 3, 3, 3, 3, 6, 3, 3, 3, 3, 3, 3, 3, 3, 3, 3, 3, 3, 3, 3, 3, 3, 1, 9, 12, 3, 2, 5, 1, 1, 1, 2, 4, 3, 2, 3, 3, 2, 1, 5, 1, 1, 1, 1, 1, 1, 7, 3, 1, 3, 1, 1, 3, 3, 3, 3, 3, 3, 3, 3, 3, 8, 4, 5, 3, 3, 4, 3, 9, 1, 3, 3, 3, 1, 1, 3, 1, 5, 1, 4, 3, 1, 1, 1, 2, 1, 2, 1, 1, 2, 1, 2, 1, 5, 3, 3, 2, 3, 1, 2, 2, 2, 1, 1, 1, 2, 2, 1, 1, 1, 2, 1, 2, 1, 3, 3, 3, 7, 1, 1, 1, 1, 20, 10, 2, 3, 1, 2, 1, 10, 2, 1, 1, 2, 2, 1, 1, 1, 2, 4, 1, 1, 1, 2, 2, 2, 2, 2, 2, 2, 1, 1, 2, 2, 2, 2, 1, 2, 1, 2, 1, 1, 1, 2, 1, 1, 1, 1, 1, 1, 1, 1, 2, 1, 3, 6, 6, 1, 1, 1, 1, 1, 1, 2, 1, 1, 1, 1, 1, 2, 1, 1, 1, 1, 1, 2, 1, 1, 1, 2, 2, 1, 2, 2, 2, 1, 1, 1, 1, 2, 2, 2, 3, 2, 1, 2, 2, 1, 2, 1, 1, 1, 1, 2, 2, 1, 2, 1, 1, 1, 2, 1, 2, 2, 1, 3, 2, 2, 1, 2, 3, 1, 2, 2, 2, 1, 2, 1, 1, 2, 1, 1, 1, 1, 1, 1, 2, 1, 2, 1, 1, 1, 9, 2, 1, 4, 1, 1, 2, 1, 2, 2, 1, 3, 3, 3, 5, 3, 11, 2, 3, 4, 1, 3, 2, 3, 2, 2, 1, 2, 1, 2, 14, 1, 3, 3, 1, 1, 2, 2, 1, 14, 5, 3, 24, 2, 2, 2, 2, 2, 2, 2, 2, 2, 3, 6, 1, 4, 2, 1, 1, 3, 1, 1, 1, 1, 2, 4, 9, 9, 9, 1, 2, 1, 1, 2, 1, 1, 4, 1, 2, 2, 1, 1, 1, 1, 3, 2, 3, 1, 3, 1, 1, 1, 1, 1, 1, 1, 1, 1, 1, 1, 1, 1, 2, 1, 1, 1, 1, 1, 2, 1, 1, 1, 4, 10, 3, 2, 1, 1, 1, 1, 1, 1, 1, 1, 1, 2, 1, 1, 2, 2, 2, 2, 3, 1, 1, 1, 1, 1, 1, 1, 1, 1, 1, 1, 1, 1, 2, 9, 1, 1, 1, 1, 1, 1, 1, 1, 1, 1, 1, 2, 1, 2, 1, 1, 3, 3, 1, 1, 1, 1, 3, 2, 2, 1, 1, 1, 1, 1, 1, 1, 1, 1, 1, 1, 2, 2, 1, 1, 2, 2, 2, 1, 5, 3, 2, 1, 5, 2, 2, 1, 3, 1, 2, 1, 1, 1, 1, 1, 1, 1, 1, 1, 15, 3, 5, 1, 1, 1, 1, 1, 1, 2, 1, 1, 1, 1, 3, 1, 3, 1, 1, 1, 1, 1, 1, 1, 1, 1, 1, 1, 1, 1, 1, 1, 1, 1, 1, 1, 1, 1, 1, 1, 2, 1, 1, 1, 3, 1, 4, 2, 1, 1, 1, 1, 1, 1, 1, 1, 1, 1, 1, 1, 1, 1, 1, 1, 1, 1, 1, 1, 1, 1, 1, 5, 1, 1, 1, 1, 1, 1, 1, 1, 1, 1, 1, 1, 1, 1, 1, 1, 1, 1, 1, 1, 1, 2, 1, 1, 1, 1, 2, 3, 3, 1, 1, 2, 1, 1, 1, 1, 1, 1, 2, 1, 9, 1, 4, 1, 1, 1, 1, 1, 1, 1, 2, 1, 1, 2, 4, 6, 2, 2, 2, 3, 2, 2, 1, 4, 1, 2, 6, 2, 2, 2, 2, 1, 1, 1, 2, 2, 3, 2, 2, 2, 2, 2, 5, 2, 3, 3, 1, 1, 1, 1, 1, 1, 9, 4, 2, 1, 1, 2, 1, 1, 1, 1, 1, 1, 1, 1, 2, 1, 1, 1, 2, 1, 1, 1, 1, 1, 1, 1, 1, 1, 1, 1, 1, 1, 1, 2, 1, 1, 1, 1, 1, 2, 1, 1, 1, 1, 1, 1, 2, 1, 1, 1, 1, 1, 1, 1, 1, 1, 1, 1, 1, 2, 1, 1, 1, 1, 1, 1, 1, 2, 1, 1, 1, 1, 1, 1, 1, 1, 1, 1, 1, 1, 1, 1, 2, 1, 1, 1, 1, 1, 1, 1, 1, 1, 1, 1, 1, 2, 1, 1, 1, 1, 1, 1, 11, 9, 1, 1, 1, 1, 1, 1, 1, 1, 1, 1, 1, 1, 2, 1, 1, 1, 1, 1, 1, 1, 1, 1, 2, 1, 2, 1, 1, 1, 1, 1, 1, 1, 1, 1, 1, 1, 1, 1, 1, 1, 1, 1, 3, 1, 1, 1, 2, 1, 1, 1, 2, 1, 1, 1, 1, 1, 1, 1, 1, 1, 1, 2, 1, 2, 1, 1, 2, 1, 1, 1, 2, 1, 1, 1, 1, 1, 1, 1, 1, 1, 1, 1, 1, 1, 1, 1, 1, 1, 1, 1, 1, 1, 1, 1, 3, 2, 2, 2, 1, 1, 1, 1, 1, 1, 1, 1, 1, 1, 1, 1, 1, 1, 1, 1, 1, 1, 1, 1, 1, 1, 1, 1, 2, 11, 2, 2, 1, 1, 1, 4, 1, 1, 1, 4, 16, 4, 32, 3, 2, 4, 1, 6, 3, 1, 2, 2, 1, 4, 2, 1, 3, 3, 1, 1, 3, 2, 3, 2, 1, 1, 1, 1, 2, 1, 1, 1, 1, 1, 1, 1, 1, 1, 1, 1, 1, 13, 1, 1, 1, 4, 1, 1, 1, 1, 1, 2, 2, 1, 1, 1, 1, 1, 11, 2, 2, 2, 2, 1, 1, 1, 1, 1, 1, 1, 1, 1, 1, 1, 1, 1, 1, 1, 1, 1, 1, 1, 1, 1, 1, 1, 1, 1, 1, 2, 2, 2, 2, 1, 1, 1, 1, 1, 1, 1, 2, 1, 1, 1, 1, 1, 1, 1, 1, 1, 2, 1, 1, 1, 1, 1, 1, 1, 1, 1, 1, 1, 1, 1, 1, 1, 1, 1, 1, 1, 1, 1, 1, 1, 1, 1, 1, 1, 1, 4, 1, 1, 1, 1, 1, 1, 1, 1, 1, 1, 1, 1, 2, 1, 1, 1, 1, 1, 1, 1, 1, 1, 1, 1, 1, 1, 1, 1, 1, 1, 1, 1, 1, 1, 1, 1, 1, 1, 1, 1, 1, 2, 1, 1, 1, 1, 1, 1, 1, 1, 1, 1, 1, 1, 1, 1, 1, 1, 1, 1, 1, 1, 1, 1, 1, 1, 1, 1, 1, 1, 1, 1, 1, 1, 1, 2, 1, 2, 1, 1, 1, 1, 1, 1, 1, 1, 1, 1, 1, 1, 1, 1, 1, 1, 2, 2, 1, 1, 2, 1, 1, 2, 2, 2, 1, 1, 1, 1, 6, 1, 1, 3, 3, 6, 2, 1, 1, 1, 1, 1, 1, 1, 1, 1, 1, 1, 1, 3, 1, 1, 1, 1, 1, 1, 1, 1, 2, 2, 1, 1, 1, 3, 1, 1, 1, 1, 1, 1, 1, 1, 1, 1, 1, 1, 1, 1, 3, 1, 1, 1, 1, 1, 2, 1, 1, 1, 1, 2, 1, 1, 1, 2, 1, 1, 1, 1, 1, 1, 1, 1, 1, 1, 1, 1, 1, 1, 1, 1, 1, 5, 4, 2, 1, 3, 1, 1, 1, 2, 1, 1, 2, 1, 2, 2, 3, 3, 1, 2, 1, 1, 1, 1, 1, 1, 1, 1, 1, 1, 1, 1, 1, 1, 2, 1, 1, 1, 1, 1, 1, 1, 1, 1, 1, 1, 2, 2, 3, 2, 1, 1, 9, 1, 1, 1, 3, 1, 2, 1, 1, 1, 1, 1, 1, 1, 1, 1, 1, 1, 1, 6, 1, 1, 7, 3, 1, 1, 1, 1, 2, 1, 1, 1, 1, 1, 1, 1, 1, 1, 2, 1, 2, 1, 1, 1, 1, 1, 1, 1, 1, 8, 2, 1, 11, 1, 1, 1, 1, 1, 1, 1, 1, 1, 1, 1, 1, 1, 2, 2, 1, 1, 1, 1, 1, 2, 2, 1, 1, 1, 1, 1, 2, 1, 1, 1, 1, 2, 1, 1, 1, 1, 1, 1, 1, 1, 1, 1, 1, 1, 1, 1, 1, 1, 1, 1, 1, 1, 1, 1, 1, 1, 1, 1, 3, 1, 1, 1, 1, 1, 1, 1, 1, 1, 1, 1, 1, 1, 1, 1, 1, 1, 1, 1, 1, 1, 1, 2, 1, 1, 1, 1, 1, 1, 1, 1, 1, 1, 1, 1, 1, 1, 1, 1, 1, 1, 1, 1, 1, 1, 1, 1, 11, 1, 1, 1, 1, 2, 2, 2, 1, 1, 1, 1, 1, 1, 1, 1, 3, 1, 1, 1, 1, 1, 1, 1, 2, 2, 1, 1, 1, 1, 1, 1, 1, 1, 2, 1, 1, 2, 1, 1, 1, 1, 1, 1, 1, 1, 1, 1, 3, 1, 1, 1, 2, 1, 1, 1, 1, 1, 5, 4, 1, 1, 1, 1, 1, 7, 9, 1, 1, 1, 1, 1, 1, 1, 7, 2, 1, 6, 1, 1, 1, 1, 1, 2, 1, 1, 1, 1, 1, 1, 1, 1, 1, 1, 1, 3, 1, 1, 1, 1, 1, 1, 1, 1, 1, 1, 1, 1, 1, 1, 1, 1, 1, 1, 1, 1, 1, 1, 2, 1, 1, 1, 1, 1, 1, 1, 1, 1, 1, 1, 1, 1, 1, 1, 1, 1, 1, 1, 1, 1, 1, 2, 10, 1, 1, 2, 1, 1, 1, 1, 1, 1, 1, 1, 1, 1, 1, 1, 1, 2, 1, 1, 2, 2, 1, 1, 1, 1, 1, 1, 1, 1, 1, 2, 2, 1, 1, 1, 1, 1, 1, 1, 1, 1, 1, 1, 1, 1, 1, 1, 1, 1, 1, 1, 1, 1, 1, 1, 1, 1, 1, 1, 1, 1, 1, 2, 1, 1, 1, 1, 1, 1, 1, 1, 1, 1, 1, 1, 1, 1, 1, 1, 1, 1, 1, 1, 1, 1, 1, 1, 1, 1, 1, 1, 1, 1, 1, 1, 1, 1, 1, 2, 1, 1, 1, 1, 1, 1, 3, 2, 1, 4, 3, 1, 1, 2, 2, 2, 4, 1, 1, 1, 1, 1, 1, 1, 1, 1, 1, 1, 1, 1, 1, 1, 2, 1, 1, 1, 1, 1, 1, 1, 1, 1, 1, 1, 1, 2, 1, 4, 1, 1, 1, 2, 1, 1, 2, 1, 3, 3, 2, 1, 1, 1, 1, 1, 1, 1, 1, 1, 2, 1, 1, 3, 1, 1, 1, 1, 1, 1, 1, 1, 1, 1, 1, 1, 1, 1, 1, 1, 1, 1, 1, 1, 2, 1, 1, 1, 2, 1, 1, 1, 1, 2, 1, 1, 2, 2, 2, 2, 2, 1, 1, 2, 2, 2, 8, 2, 2, 2, 2, 1, 4, 2, 1, 1, 1, 1, 1, 1, 1, 1, 1, 2, 14, 1, 1, 2, 1, 1, 1, 1, 1, 1, 1, 1, 1, 1, 1, 2, 1, 1, 3, 1, 1, 1, 6, 2, 1, 1, 1, 1, 1, 1, 1, 1, 1, 1, 1, 1, 1, 1, 1, 1, 1, 1, 1, 1, 2, 1, 1, 1, 1, 1, 1, 1, 1, 1, 1, 1, 1, 2, 1, 1, 1, 1, 1, 1, 1, 1, 1, 1, 1, 1, 1, 3, 1, 1, 1, 1, 1, 1, 1, 1, 1, 1, 1, 1, 1, 1, 1, 1, 1, 1, 1, 1, 1, 1, 1, 1, 1, 1, 1, 1, 1, 1, 1, 1, 1, 1, 1, 1, 1, 1, 1, 1, 1, 1, 1, 1, 1, 1, 1, 1, 1, 1, 1, 1, 1, 1, 2, 1, 1, 1, 1, 1, 1, 1, 1, 1, 1, 1, 1, 1, 1, 1, 1, 1, 1, 1, 2, 1, 1, 1, 1, 1, 1, 1, 1, 1, 3, 1, 1, 1, 1, 1, 2, 1, 1, 2, 1, 1, 4, 1, 1, 1, 4, 7, 4, 1, 1, 1, 1, 1, 1, 1, 1, 1, 2, 1, 1, 1, 1, 1, 1, 1, 2, 1, 1, 1, 1, 1, 1, 1, 1, 1, 1, 1, 1, 1, 1, 1, 1, 1, 1, 1, 2, 1, 1, 1, 1, 1, 1, 1, 1, 1, 1, 1, 1, 1, 1, 1, 1, 2, 2, 1, 1, 1, 1, 1, 1, 1, 1, 1, 1, 1, 1, 1, 2, 3, 3, 3, 3, 3, 1, 1, 1, 3, 3, 4, 1, 3, 3, 1, 1, 1, 1, 1, 1, 1, 1, 1, 1, 1, 1, 1, 9, 1, 1, 1, 1, 1, 2, 2, 2, 2, 1, 1, 2, 2, 1, 2, 2, 1, 1, 1, 1, 1, 1, 1, 1, 1, 1, 1, 1, 1, 1, 1, 1, 1, 1, 5, 1, 2, 1, 3, 1, 1, 1, 1, 2, 1, 2, 2, 1, 1, 1, 2, 1, 2, 1, 2, 1, 2, 2, 2, 2, 1, 2, 2, 1, 2, 1, 3, 1, 1, 1, 1, 1, 1, 1, 1, 1, 1, 1, 2, 1, 1, 1, 1, 1, 1, 1, 1, 1, 1, 4, 1, 1, 1, 1, 1, 1, 2, 1, 1, 1, 1, 1, 1, 1, 1, 1, 1, 1, 1, 1, 1, 1, 1, 1, 2, 1, 1, 1, 1, 1, 1, 1, 1, 1, 1, 2, 1, 1, 1, 1, 1, 1, 1, 1, 1, 1, 1, 1, 1, 1, 1, 1, 1, 1, 1, 1, 1, 1, 1, 1, 1, 1, 1, 1, 1, 1, 1, 2, 1, 1, 1, 1, 1, 1, 1, 1, 1, 1, 1, 1, 1, 1, 1, 2, 2, 2, 1, 3, 2, 2, 2, 2, 2, 2, 2, 2, 2, 2, 2, 1, 1, 1, 1, 1, 1, 1, 1, 15, 1, 1, 1, 1, 1, 1, 1, 1, 1, 1, 1, 2, 1, 1, 1, 2, 1, 1, 1, 1, 1, 2, 1, 1, 3, 1, 1, 1, 1, 1, 2, 2, 1, 1, 1, 1, 3, 1, 2, 2, 1, 1, 1, 1, 1, 2, 1, 1, 1, 1, 2, 1, 1, 1, 1, 1, 1, 1, 1, 1, 2, 1, 1, 1, 1, 2, 2, 1, 1, 2, 2, 1, 1, 1, 1, 1, 1, 1, 1, 1, 1, 1, 1, 1, 2, 1, 1, 1, 1, 3, 1, 1, 1, 1, 1, 1, 1, 1, 1, 1, 1, 1, 2, 1, 5, 1, 1, 1, 1, 1, 1, 1, 3, 1, 1, 2, 2, 1, 1, 1, 1, 1, 1, 1, 1, 1, 1, 3, 3, 1, 1, 1, 1, 1, 1, 1, 1, 1, 2, 1, 1, 1, 1, 1, 1, 1, 2, 2, 1, 1, 1, 2, 1, 1, 1, 1, 1, 1, 1, 1, 5, 1, 2, 1, 1, 1, 1, 1, 1, 1, 1, 1, 1, 1, 1, 1, 1, 1, 1, 1, 1, 1, 1, 2, 1, 1, 1, 1, 1, 1, 1, 1, 1, 1, 1, 1, 3, 1, 1, 1, 1, 1, 1, 1, 2, 3, 2, 3, 2, 1, 1, 1, 1, 1, 1, 1, 1, 1, 1, 1, 2, 1, 1, 1, 1, 1, 1, 1, 1, 1, 1, 1, 2, 1, 1, 1, 1, 1, 1, 1, 1, 1, 1, 1, 1, 1, 1, 1, 1, 1, 1, 3, 1, 1, 1, 1, 1, 1, 1, 1, 1, 1, 1, 2, 1, 1, 1, 1, 1, 1, 1, 1, 1, 1, 1, 1, 1, 1, 11, 1, 2, 1, 1, 1, 1, 1, 1, 1, 1, 1, 1, 1, 1, 1, 1, 1, 4, 2, 4, 4, 2, 1, 1, 1, 1, 2, 1, 4, 1, 1, 1, 1, 1, 1, 1, 1, 1, 1, 1, 1, 1, 1, 2, 2, 1, 1, 1, 1, 1, 1, 1, 1, 1, 1, 1, 1, 1, 1, 1, 1, 1, 1, 1, 1, 1, 1, 1, 1, 1, 1, 1, 1, 1, 2, 1, 1, 1, 1, 1, 2, 1, 1, 1, 1, 1, 1, 1, 1, 1, 1, 1, 1, 1, 1, 17, 7, 2, 2, 2, 2, 2, 2, 2, 1, 1, 1, 1, 1, 1, 1, 1, 1, 1, 1, 1, 8, 1, 1, 1, 1, 1, 1, 1, 1, 1, 1, 2, 1, 1, 1, 1, 1, 1, 1, 1, 1, 1, 1, 1, 1, 1, 1, 1, 1, 1, 1, 1, 1, 1, 1, 1, 1, 1, 1, 1, 1, 1, 1, 1, 1, 1, 1, 1, 1, 1, 1, 1, 1, 1, 1, 1, 2, 1, 1, 1, 1, 1, 1, 1, 1, 1, 1, 1, 1, 1, 1, 1, 1, 1, 1, 1, 1, 1, 1, 1, 1, 1, 1, 1, 1, 1, 1, 1, 1, 1, 1, 1, 1, 1, 1, 1, 1, 1, 1, 1, 1, 1, 2, 2, 2, 1, 1, 1, 1, 1, 1, 1, 1, 1, 1, 1, 1, 1, 1, 1, 1, 1, 1, 5, 1, 11, 1, 1, 1, 1, 5, 1, 1, 1, 1, 1, 2, 1, 1, 1, 1, 1, 3, 1, 2, 1, 1, 3, 1, 1, 1, 1, 1, 1, 1, 1, 1, 1, 1, 1, 9, 4, 1, 1, 1, 1, 1, 1, 1, 1, 1, 1, 1, 1, 1, 1, 1, 1, 1, 1, 2, 1, 1, 1, 1, 1, 1, 1, 1, 1, 1, 1, 3, 3, 3, 3, 1, 1, 1, 1, 1, 2, 1, 1, 2, 1, 1, 1, 1, 1, 1, 1, 1, 1, 1, 1, 1, 1, 1, 1, 1, 2, 1, 1, 1, 1, 1, 1, 1, 1, 1, 1, 1, 1, 1, 1, 1, 1, 1, 1, 2, 2, 1, 1, 1, 1, 1, 1, 1, 1, 1, 1, 1, 1, 1, 1, 1, 1, 1, 1, 1, 1, 1, 1, 1, 1, 1, 1, 1, 1, 1, 1, 1, 1, 1, 1, 1, 1, 1, 2, 1, 1, 1, 1, 1, 1, 1, 1, 1, 1, 1, 1, 1, 1, 1, 1, 1, 1, 1, 3, 1, 1, 1, 1, 1, 1, 1, 1, 1, 1, 1, 1, 1, 1, 1, 1, 1, 1, 1, 2, 2, 2, 1, 1, 1, 2, 1, 1, 1, 1, 2, 1, 2, 1, 1, 1, 1, 1, 1, 1, 1, 1, 1, 1, 1, 1, 1, 1, 1, 1, 1, 1, 1, 1, 2, 1, 2, 1, 1, 2, 1, 2, 1, 1, 1, 1, 1, 1, 1, 1, 1, 1, 1, 1, 1, 1, 2, 1, 1, 1, 1, 1, 1, 1, 1, 1, 1, 1, 1, 1, 1, 1, 1, 1, 1, 1, 1, 1, 1, 1, 1, 1, 1, 2, 1, 1, 1, 1, 1, 1, 1, 1, 2, 2, 1, 1, 1, 1, 1, 1, 1, 1, 1, 1, 1, 1, 1, 1, 1, 1, 1, 1, 4, 2, 4, 2, 1, 1, 1, 1, 1, 1, 1, 2, 1, 1, 1, 1, 1, 1, 1, 1, 1, 1, 1, 1, 1, 1, 1, 1, 1, 1, 2, 1, 1, 1, 1, 1, 1, 1, 1, 1, 1, 1, 1, 1, 1, 1, 1, 1, 1, 1, 1, 1, 1, 1, 1, 1, 1, 1, 1, 1, 1, 1, 1, 1, 1, 1, 1, 1, 1, 1, 1, 1, 1, 1, 1, 1, 1, 1, 1, 1, 1, 1, 1, 1, 1, 1, 1, 1, 1, 1, 1, 1, 1, 1, 1, 1, 1, 1, 1, 1, 1, 1, 1, 1, 1, 1, 1, 1, 1, 1, 1, 1, 2, 1, 1, 2, 2, 1, 6, 1, 1, 1, 2, 1, 1, 1, 1, 1, 1, 2, 1, 2, 1, 1, 1, 1, 1, 1, 1, 1, 1, 1, 1, 2, 1, 1, 1, 2, 2, 1, 3, 1, 2, 1, 1, 1, 4, 1, 2, 1, 2, 1, 1, 1, 1, 1, 1, 3, 1, 1, 1, 1, 1, 1, 1, 1, 2, 1, 1, 1, 1, 1, 1, 1, 1, 1, 1, 1, 1, 1, 1, 1, 1, 1, 1, 1, 1, 1, 1, 3, 2, 1, 1, 2, 1, 1, 1, 1, 1, 1, 1, 1, 1, 1, 2, 1, 1, 1, 1, 1, 1, 1, 1, 1, 1, 1, 1, 1, 5, 1, 6, 1, 1, 1, 1, 2, 2, 2, 1, 1, 1, 1, 1, 1, 1, 1, 1, 1, 1, 1, 1, 1, 1, 1, 2, 2, 1, 1, 2, 1, 1, 1, 1])"
      ]
     },
     "execution_count": 28,
     "metadata": {},
     "output_type": "execute_result"
    }
   ],
   "source": [
    "dict(freqwords).values()"
   ]
  },
  {
   "cell_type": "code",
   "execution_count": 10,
   "metadata": {
    "ExecuteTime": {
     "end_time": "2021-03-01T00:22:59.310770Z",
     "start_time": "2021-03-01T00:22:59.293967Z"
    }
   },
   "outputs": [],
   "source": [
    "import nltk\n",
    "from nltk import word_tokenize"
   ]
  },
  {
   "cell_type": "markdown",
   "metadata": {
    "id": "7wHof0P9XZLo"
   },
   "source": [
    "# TFIDF\n",
    "using the sentiment word lists, let's generate sentiment TFIDF from the 10-k documents. Implement `get_tfidf` to generate TFIDF from each document, using sentiment words as the terms. You can ignore words that are not in `sentiment_words`."
   ]
  },
  {
   "cell_type": "code",
   "execution_count": 391,
   "metadata": {
    "ExecuteTime": {
     "end_time": "2021-02-28T21:39:36.223753Z",
     "start_time": "2021-02-28T21:39:36.097094Z"
    },
    "executionInfo": {
     "elapsed": 590,
     "status": "ok",
     "timestamp": 1613393728086,
     "user": {
      "displayName": "조성민",
      "photoUrl": "",
      "userId": "06818595925565650239"
     },
     "user_tz": -540
    },
    "id": "1Z-JbYotXZLp"
   },
   "outputs": [],
   "source": [
    "from sklearn.feature_extraction.text import TfidfVectorizer\n",
    "\n",
    "\n",
    "def get_tfidf(sentiment_vocab, docs):\n",
    "    vector = TfidfVectorizer(vocabulary=sentiment_vocab, sublinear_tf= True, min_df=2)\n",
    "    result = vector.fit_transform(docs).toarray()\n",
    "\n",
    "    return result"
   ]
  },
  {
   "cell_type": "markdown",
   "metadata": {
    "id": "y6rDWVYfXZLq"
   },
   "source": [
    "Using the `get_tfidf` function, let's generate the TFIDF values for all the documents."
   ]
  },
  {
   "cell_type": "code",
   "execution_count": 392,
   "metadata": {
    "ExecuteTime": {
     "end_time": "2021-02-28T21:39:53.662588Z",
     "start_time": "2021-02-28T21:39:38.327163Z"
    }
   },
   "outputs": [],
   "source": [
    "sentiment_tfidf_hc = {}\n",
    "\n",
    "for ticker in hc_filing_data.ticker.unique():\n",
    "    docs = list(hc_filing_data[hc_filing_data.ticker == ticker].text)\n",
    "    \n",
    "    sentiment_tfidf_hc[ticker] = {\n",
    "        sentiment : get_tfidf(\n",
    "        sentiment_df[sentiment_df[sentiment]]['word'], docs)\n",
    "    for sentiment in sentiments}\n"
   ]
  },
  {
   "cell_type": "code",
   "execution_count": 393,
   "metadata": {
    "ExecuteTime": {
     "end_time": "2021-02-28T21:40:12.129787Z",
     "start_time": "2021-02-28T21:39:53.663586Z"
    }
   },
   "outputs": [],
   "source": [
    "sentiment_tfidf_it = {}\n",
    "\n",
    "for ticker in it_filing_data.ticker.unique():\n",
    "    docs = list(it_filing_data[it_filing_data.ticker == ticker].text)\n",
    "    \n",
    "    sentiment_tfidf_it[ticker] = {\n",
    "        sentiment : get_tfidf(\n",
    "        sentiment_df[sentiment_df[sentiment]]['word'], docs)\n",
    "    for sentiment in sentiments}\n"
   ]
  },
  {
   "cell_type": "markdown",
   "metadata": {},
   "source": [
    "# 코사인"
   ]
  },
  {
   "cell_type": "code",
   "execution_count": 394,
   "metadata": {
    "ExecuteTime": {
     "end_time": "2021-02-28T21:40:16.161009Z",
     "start_time": "2021-02-28T21:40:16.035345Z"
    },
    "executionInfo": {
     "elapsed": 578,
     "status": "ok",
     "timestamp": 1613393791105,
     "user": {
      "displayName": "조성민",
      "photoUrl": "",
      "userId": "06818595925565650239"
     },
     "user_tz": -540
    },
    "id": "XjulUSVtXZLq"
   },
   "outputs": [],
   "source": [
    "from sklearn.metrics.pairwise import cosine_similarity\n",
    "\n",
    "\n",
    "def get_cosine_similarity(tfidf_matrix):\n",
    "    cos_similarity = cosine_similarity(tfidf_matrix[0:], tfidf_matrix[1:])\n",
    "\n",
    "    return cos_similarity[0].tolist()"
   ]
  },
  {
   "cell_type": "code",
   "execution_count": 395,
   "metadata": {
    "ExecuteTime": {
     "end_time": "2021-02-28T21:40:18.592506Z",
     "start_time": "2021-02-28T21:40:18.244436Z"
    }
   },
   "outputs": [],
   "source": [
    "cosine_similarities_hc = {\n",
    "    ticker: {\n",
    "        sentiment_name: get_cosine_similarity(sentiment_values)\n",
    "        for sentiment_name, sentiment_values in ten_k_sentiments.items()}\n",
    "    for ticker, ten_k_sentiments in sentiment_tfidf_hc.items()}\n",
    "\n",
    "cosine_similarities_it = {\n",
    "    ticker: {\n",
    "        sentiment_name: get_cosine_similarity(sentiment_values)\n",
    "        for sentiment_name, sentiment_values in ten_k_sentiments.items()}\n",
    "    for ticker, ten_k_sentiments in sentiment_tfidf_it.items()}"
   ]
  },
  {
   "cell_type": "code",
   "execution_count": 396,
   "metadata": {
    "ExecuteTime": {
     "end_time": "2021-02-28T21:40:21.566553Z",
     "start_time": "2021-02-28T21:40:20.721812Z"
    },
    "colab": {
     "base_uri": "https://localhost:8080/",
     "height": 492
    },
    "executionInfo": {
     "elapsed": 1084,
     "status": "ok",
     "timestamp": 1613393808078,
     "user": {
      "displayName": "조성민",
      "photoUrl": "",
      "userId": "06818595925565650239"
     },
     "user_tz": -540
    },
    "id": "CZfeuZYuXZLr",
    "outputId": "ab5d01e8-6959-43ac-cb18-06edf54ca186",
    "scrolled": true
   },
   "outputs": [
    {
     "data": {
      "image/png": "[encoded data removed]",
      "text/plain": [
       "<Figure size 720x504 with 1 Axes>"
      ]
     },
     "metadata": {
      "image/png": {
       "height": 475,
       "width": 597
      }
     },
     "output_type": "display_data"
    }
   ],
   "source": [
    "plot_similarities(\n",
    "    [cosine_similarities_it['MSFT'][sentiment] for sentiment in sentiments],\n",
    "    \n",
    "    it_filing_data[it_filing_data.ticker=='MSFT'].index.values[1:],\n",
    "    'Cosine Similarities for {} Sentiment'.format('MSFT'),\n",
    "    sentiments)"
   ]
  },
  {
   "cell_type": "code",
   "execution_count": 350,
   "metadata": {
    "ExecuteTime": {
     "end_time": "2021-02-28T21:15:34.598845Z",
     "start_time": "2021-02-28T21:15:34.424433Z"
    }
   },
   "outputs": [
    {
     "data": {
      "text/html": [
       "<div>\n",
       "<style scoped>\n",
       "    .dataframe tbody tr th:only-of-type {\n",
       "        vertical-align: middle;\n",
       "    }\n",
       "\n",
       "    .dataframe tbody tr th {\n",
       "        vertical-align: top;\n",
       "    }\n",
       "\n",
       "    .dataframe thead th {\n",
       "        text-align: right;\n",
       "    }\n",
       "</style>\n",
       "<table border=\"1\" class=\"dataframe\">\n",
       "  <thead>\n",
       "    <tr style=\"text-align: right;\">\n",
       "      <th></th>\n",
       "      <th>Item</th>\n",
       "      <th>Code</th>\n",
       "      <th>Day_URL</th>\n",
       "    </tr>\n",
       "  </thead>\n",
       "  <tbody>\n",
       "    <tr>\n",
       "      <th>0</th>\n",
       "      <td>TIGER 200 IT</td>\n",
       "      <td>139260</td>\n",
       "      <td>https://finance.naver.com/item/sise_day.nhn?co...</td>\n",
       "    </tr>\n",
       "    <tr>\n",
       "      <th>1</th>\n",
       "      <td>TIGER 헬스케어</td>\n",
       "      <td>143860</td>\n",
       "      <td>https://finance.naver.com/item/sise_day.nhn?co...</td>\n",
       "    </tr>\n",
       "    <tr>\n",
       "      <th>2</th>\n",
       "      <td>TIGER 200 금융</td>\n",
       "      <td>139270</td>\n",
       "      <td>https://finance.naver.com/item/sise_day.nhn?co...</td>\n",
       "    </tr>\n",
       "    <tr>\n",
       "      <th>3</th>\n",
       "      <td>TIGER 증권</td>\n",
       "      <td>157500</td>\n",
       "      <td>https://finance.naver.com/item/sise_day.nhn?co...</td>\n",
       "    </tr>\n",
       "    <tr>\n",
       "      <th>4</th>\n",
       "      <td>TIGER 200 생활소비재</td>\n",
       "      <td>227560</td>\n",
       "      <td>https://finance.naver.com/item/sise_day.nhn?co...</td>\n",
       "    </tr>\n",
       "  </tbody>\n",
       "</table>\n",
       "</div>"
      ],
      "text/plain": [
       "              Item    Code                                            Day_URL\n",
       "0     TIGER 200 IT  139260  https://finance.naver.com/item/sise_day.nhn?co...\n",
       "1       TIGER 헬스케어  143860  https://finance.naver.com/item/sise_day.nhn?co...\n",
       "2     TIGER 200 금융  139270  https://finance.naver.com/item/sise_day.nhn?co...\n",
       "3         TIGER 증권  157500  https://finance.naver.com/item/sise_day.nhn?co...\n",
       "4  TIGER 200 생활소비재  227560  https://finance.naver.com/item/sise_day.nhn?co..."
      ]
     },
     "execution_count": 350,
     "metadata": {},
     "output_type": "execute_result"
    }
   ],
   "source": [
    "get_etf_code()"
   ]
  },
  {
   "cell_type": "code",
   "execution_count": 353,
   "metadata": {
    "ExecuteTime": {
     "end_time": "2021-02-28T21:18:46.063806Z",
     "start_time": "2021-02-28T21:18:18.859459Z"
    }
   },
   "outputs": [
    {
     "data": {
      "text/html": [
       "<div>\n",
       "<style scoped>\n",
       "    .dataframe tbody tr th:only-of-type {\n",
       "        vertical-align: middle;\n",
       "    }\n",
       "\n",
       "    .dataframe tbody tr th {\n",
       "        vertical-align: top;\n",
       "    }\n",
       "\n",
       "    .dataframe thead th {\n",
       "        text-align: right;\n",
       "    }\n",
       "</style>\n",
       "<table border=\"1\" class=\"dataframe\">\n",
       "  <thead>\n",
       "    <tr style=\"text-align: right;\">\n",
       "      <th></th>\n",
       "      <th>종가</th>\n",
       "      <th>전일비</th>\n",
       "      <th>시가</th>\n",
       "      <th>고가</th>\n",
       "      <th>저가</th>\n",
       "      <th>거래량</th>\n",
       "    </tr>\n",
       "    <tr>\n",
       "      <th>Date</th>\n",
       "      <th></th>\n",
       "      <th></th>\n",
       "      <th></th>\n",
       "      <th></th>\n",
       "      <th></th>\n",
       "      <th></th>\n",
       "    </tr>\n",
       "  </thead>\n",
       "  <tbody>\n",
       "    <tr>\n",
       "      <th>2011-04-22</th>\n",
       "      <td>14355</td>\n",
       "      <td>300</td>\n",
       "      <td>14400</td>\n",
       "      <td>14405</td>\n",
       "      <td>14250</td>\n",
       "      <td>47337</td>\n",
       "    </tr>\n",
       "    <tr>\n",
       "      <th>2011-04-21</th>\n",
       "      <td>14655</td>\n",
       "      <td>440</td>\n",
       "      <td>14440</td>\n",
       "      <td>14655</td>\n",
       "      <td>14350</td>\n",
       "      <td>76628</td>\n",
       "    </tr>\n",
       "    <tr>\n",
       "      <th>2011-04-20</th>\n",
       "      <td>14215</td>\n",
       "      <td>585</td>\n",
       "      <td>13880</td>\n",
       "      <td>14245</td>\n",
       "      <td>13860</td>\n",
       "      <td>17471</td>\n",
       "    </tr>\n",
       "    <tr>\n",
       "      <th>2011-04-19</th>\n",
       "      <td>13630</td>\n",
       "      <td>115</td>\n",
       "      <td>13420</td>\n",
       "      <td>13630</td>\n",
       "      <td>13420</td>\n",
       "      <td>8522</td>\n",
       "    </tr>\n",
       "    <tr>\n",
       "      <th>2011-04-18</th>\n",
       "      <td>13515</td>\n",
       "      <td>45</td>\n",
       "      <td>13645</td>\n",
       "      <td>13645</td>\n",
       "      <td>13515</td>\n",
       "      <td>5024</td>\n",
       "    </tr>\n",
       "  </tbody>\n",
       "</table>\n",
       "</div>"
      ],
      "text/plain": [
       "               종가  전일비     시가     고가     저가    거래량\n",
       "Date                                              \n",
       "2011-04-22  14355  300  14400  14405  14250  47337\n",
       "2011-04-21  14655  440  14440  14655  14350  76628\n",
       "2011-04-20  14215  585  13880  14245  13860  17471\n",
       "2011-04-19  13630  115  13420  13630  13420   8522\n",
       "2011-04-18  13515   45  13645  13645  13515   5024"
      ]
     },
     "execution_count": 353,
     "metadata": {},
     "output_type": "execute_result"
    }
   ],
   "source": [
    "tiger_it = get_etf_data(139260)\n",
    "tiger_it.tail()"
   ]
  },
  {
   "cell_type": "code",
   "execution_count": 352,
   "metadata": {
    "ExecuteTime": {
     "end_time": "2021-02-28T21:17:14.997613Z",
     "start_time": "2021-02-28T21:16:47.737850Z"
    }
   },
   "outputs": [
    {
     "data": {
      "text/html": [
       "<div>\n",
       "<style scoped>\n",
       "    .dataframe tbody tr th:only-of-type {\n",
       "        vertical-align: middle;\n",
       "    }\n",
       "\n",
       "    .dataframe tbody tr th {\n",
       "        vertical-align: top;\n",
       "    }\n",
       "\n",
       "    .dataframe thead th {\n",
       "        text-align: right;\n",
       "    }\n",
       "</style>\n",
       "<table border=\"1\" class=\"dataframe\">\n",
       "  <thead>\n",
       "    <tr style=\"text-align: right;\">\n",
       "      <th></th>\n",
       "      <th>종가</th>\n",
       "      <th>전일비</th>\n",
       "      <th>시가</th>\n",
       "      <th>고가</th>\n",
       "      <th>저가</th>\n",
       "      <th>거래량</th>\n",
       "    </tr>\n",
       "    <tr>\n",
       "      <th>Date</th>\n",
       "      <th></th>\n",
       "      <th></th>\n",
       "      <th></th>\n",
       "      <th></th>\n",
       "      <th></th>\n",
       "      <th></th>\n",
       "    </tr>\n",
       "  </thead>\n",
       "  <tbody>\n",
       "    <tr>\n",
       "      <th>2011-08-03</th>\n",
       "      <td>14650</td>\n",
       "      <td>0</td>\n",
       "      <td>14285</td>\n",
       "      <td>14650</td>\n",
       "      <td>14190</td>\n",
       "      <td>3888</td>\n",
       "    </tr>\n",
       "    <tr>\n",
       "      <th>2011-08-02</th>\n",
       "      <td>14650</td>\n",
       "      <td>165</td>\n",
       "      <td>14815</td>\n",
       "      <td>14845</td>\n",
       "      <td>14570</td>\n",
       "      <td>6792</td>\n",
       "    </tr>\n",
       "    <tr>\n",
       "      <th>2011-08-01</th>\n",
       "      <td>14815</td>\n",
       "      <td>45</td>\n",
       "      <td>14860</td>\n",
       "      <td>14865</td>\n",
       "      <td>14655</td>\n",
       "      <td>4290</td>\n",
       "    </tr>\n",
       "    <tr>\n",
       "      <th>2011-07-29</th>\n",
       "      <td>14770</td>\n",
       "      <td>110</td>\n",
       "      <td>14650</td>\n",
       "      <td>14940</td>\n",
       "      <td>14650</td>\n",
       "      <td>6329</td>\n",
       "    </tr>\n",
       "    <tr>\n",
       "      <th>2011-07-28</th>\n",
       "      <td>14660</td>\n",
       "      <td>155</td>\n",
       "      <td>14390</td>\n",
       "      <td>14675</td>\n",
       "      <td>14225</td>\n",
       "      <td>4767</td>\n",
       "    </tr>\n",
       "  </tbody>\n",
       "</table>\n",
       "</div>"
      ],
      "text/plain": [
       "               종가  전일비     시가     고가     저가   거래량\n",
       "Date                                             \n",
       "2011-08-03  14650    0  14285  14650  14190  3888\n",
       "2011-08-02  14650  165  14815  14845  14570  6792\n",
       "2011-08-01  14815   45  14860  14865  14655  4290\n",
       "2011-07-29  14770  110  14650  14940  14650  6329\n",
       "2011-07-28  14660  155  14390  14675  14225  4767"
      ]
     },
     "execution_count": 352,
     "metadata": {},
     "output_type": "execute_result"
    }
   ],
   "source": [
    "tiger_hc = get_etf_data(143860)\n",
    "tiger_hc.tail()"
   ]
  },
  {
   "cell_type": "code",
   "execution_count": 358,
   "metadata": {
    "ExecuteTime": {
     "end_time": "2021-02-28T21:19:29.146380Z",
     "start_time": "2021-02-28T21:19:28.976803Z"
    }
   },
   "outputs": [
    {
     "data": {
      "text/plain": [
       "Date\n",
       "2021-02-26         NaN\n",
       "2021-02-25    0.038633\n",
       "2021-02-24   -0.038792\n",
       "2021-02-23    0.026692\n",
       "2021-02-22    0.014181\n",
       "                ...   \n",
       "2011-04-22    0.005957\n",
       "2011-04-21    0.020899\n",
       "2011-04-20   -0.030024\n",
       "2011-04-19   -0.041154\n",
       "2011-04-18   -0.008437\n",
       "Name: 종가, Length: 2430, dtype: float64"
      ]
     },
     "execution_count": 358,
     "metadata": {},
     "output_type": "execute_result"
    }
   ],
   "source": [
    "tiger_it_return = tiger_it['종가'].pct_change()\n",
    "tiger_it_return"
   ]
  },
  {
   "cell_type": "code",
   "execution_count": 357,
   "metadata": {
    "ExecuteTime": {
     "end_time": "2021-02-28T21:19:25.265397Z",
     "start_time": "2021-02-28T21:19:25.103147Z"
    }
   },
   "outputs": [
    {
     "data": {
      "text/plain": [
       "Date\n",
       "2021-02-26         NaN\n",
       "2021-02-25    0.022308\n",
       "2021-02-24   -0.051839\n",
       "2021-02-23    0.035748\n",
       "2021-02-22    0.033160\n",
       "                ...   \n",
       "2011-08-03    0.008259\n",
       "2011-08-02    0.000000\n",
       "2011-08-01    0.011263\n",
       "2011-07-29   -0.003037\n",
       "2011-07-28   -0.007448\n",
       "Name: 종가, Length: 2360, dtype: float64"
      ]
     },
     "execution_count": 357,
     "metadata": {},
     "output_type": "execute_result"
    }
   ],
   "source": [
    "tiger_hc_return = tiger_hc['종가'].pct_change()\n",
    "tiger_hc_return"
   ]
  },
  {
   "cell_type": "code",
   "execution_count": 505,
   "metadata": {
    "ExecuteTime": {
     "end_time": "2021-03-01T00:06:18.157290Z",
     "start_time": "2021-03-01T00:06:18.026397Z"
    }
   },
   "outputs": [],
   "source": [
    "tiger_it_close = tiger_it['종가']"
   ]
  },
  {
   "cell_type": "markdown",
   "metadata": {},
   "source": [
    "positive 1/3 \n",
    "uncertainty 1/3\n",
    "negative 1/3"
   ]
  },
  {
   "cell_type": "markdown",
   "metadata": {},
   "source": [
    "필요한 것\n",
    "\n",
    "- date별 sentiment가 나올 때마다 순위가 갱신되는 알고리즘\n",
    "- 순위 내 stock의 marketcap에 해당하는 weight를 부여하여 수익률을 가중평균\n",
    "- 그 수익률과 etf의 수익률 / 종가의 움직임을 비교"
   ]
  },
  {
   "cell_type": "code",
   "execution_count": 456,
   "metadata": {
    "ExecuteTime": {
     "end_time": "2021-02-28T22:12:56.195652Z",
     "start_time": "2021-02-28T22:12:55.880345Z"
    }
   },
   "outputs": [],
   "source": [
    "it_positive = []\n",
    "it_uncertainty = []\n",
    "it_negative = []\n",
    "for ticker in it_filing_data.ticker.unique():\n",
    "    it_positive.append(pd.Series(get_cosine_similarity(sentiment_tfidf_it[ticker]['positive']), index=it_filing_data[it_filing_data.ticker==ticker].index[1:],name=ticker))\n",
    "    it_uncertainty.append(pd.Series(get_cosine_similarity(sentiment_tfidf_it[ticker]['uncertainty']), index=it_filing_data[it_filing_data.ticker==ticker].index[1:],name=ticker))\n",
    "    it_negative.append(pd.Series(get_cosine_similarity(sentiment_tfidf_it[ticker]['negative']), index=it_filing_data[it_filing_data.ticker==ticker].index[1:],name=ticker))"
   ]
  },
  {
   "cell_type": "code",
   "execution_count": 457,
   "metadata": {
    "ExecuteTime": {
     "end_time": "2021-02-28T22:12:59.002865Z",
     "start_time": "2021-02-28T22:12:58.714032Z"
    }
   },
   "outputs": [],
   "source": [
    "hc_positive = []\n",
    "hc_uncertainty = []\n",
    "hc_negative = []\n",
    "for ticker in hc_filing_data.ticker.unique():\n",
    "    hc_positive.append(pd.Series(get_cosine_similarity(sentiment_tfidf_hc[ticker]['positive']), index=hc_filing_data[hc_filing_data.ticker==ticker].index[1:], name=ticker))\n",
    "    hc_uncertainty.append(pd.Series(get_cosine_similarity(sentiment_tfidf_hc[ticker]['uncertainty']), index=hc_filing_data[hc_filing_data.ticker==ticker].index[1:], name=ticker))\n",
    "    hc_negative.append(pd.Series(get_cosine_similarity(sentiment_tfidf_hc[ticker]['negative']), index=hc_filing_data[hc_filing_data.ticker==ticker].index[1:],name=ticker))"
   ]
  },
  {
   "cell_type": "code",
   "execution_count": null,
   "metadata": {},
   "outputs": [],
   "source": [
    "hc_positive = pd.DataFrame(hc_positive).T\n",
    "hc_negative = pd.DataFrame(hc_negative).T\n",
    "hc_uncertainty = pd.DataFrame(hc_uncertainty).T"
   ]
  },
  {
   "cell_type": "code",
   "execution_count": 461,
   "metadata": {
    "ExecuteTime": {
     "end_time": "2021-02-28T23:47:03.883266Z",
     "start_time": "2021-02-28T23:47:03.771592Z"
    }
   },
   "outputs": [],
   "source": [
    "it_positive = pd.DataFrame(it_positive).T\n",
    "it_negative = pd.DataFrame(it_negative).T\n",
    "it_uncertainty = pd.DataFrame(it_uncertainty).T"
   ]
  },
  {
   "cell_type": "code",
   "execution_count": 462,
   "metadata": {
    "ExecuteTime": {
     "end_time": "2021-02-28T23:47:09.015724Z",
     "start_time": "2021-02-28T23:47:08.864001Z"
    },
    "scrolled": true
   },
   "outputs": [
    {
     "data": {
      "text/html": [
       "<div>\n",
       "<style scoped>\n",
       "    .dataframe tbody tr th:only-of-type {\n",
       "        vertical-align: middle;\n",
       "    }\n",
       "\n",
       "    .dataframe tbody tr th {\n",
       "        vertical-align: top;\n",
       "    }\n",
       "\n",
       "    .dataframe thead th {\n",
       "        text-align: right;\n",
       "    }\n",
       "</style>\n",
       "<table border=\"1\" class=\"dataframe\">\n",
       "  <thead>\n",
       "    <tr style=\"text-align: right;\">\n",
       "      <th></th>\n",
       "      <th>PAYX</th>\n",
       "      <th>ORCL</th>\n",
       "      <th>ADBE</th>\n",
       "      <th>QCOM</th>\n",
       "      <th>AAPL</th>\n",
       "      <th>TEL</th>\n",
       "      <th>IBM</th>\n",
       "      <th>KLAC</th>\n",
       "      <th>LRCX</th>\n",
       "      <th>FISV</th>\n",
       "      <th>...</th>\n",
       "      <th>MCHP</th>\n",
       "      <th>AMAT</th>\n",
       "      <th>SNPS</th>\n",
       "      <th>HPQ</th>\n",
       "      <th>GPN</th>\n",
       "      <th>AMD</th>\n",
       "      <th>MU</th>\n",
       "      <th>NOW</th>\n",
       "      <th>PYPL</th>\n",
       "      <th>AVGO</th>\n",
       "    </tr>\n",
       "    <tr>\n",
       "      <th>date</th>\n",
       "      <th></th>\n",
       "      <th></th>\n",
       "      <th></th>\n",
       "      <th></th>\n",
       "      <th></th>\n",
       "      <th></th>\n",
       "      <th></th>\n",
       "      <th></th>\n",
       "      <th></th>\n",
       "      <th></th>\n",
       "      <th></th>\n",
       "      <th></th>\n",
       "      <th></th>\n",
       "      <th></th>\n",
       "      <th></th>\n",
       "      <th></th>\n",
       "      <th></th>\n",
       "      <th></th>\n",
       "      <th></th>\n",
       "      <th></th>\n",
       "      <th></th>\n",
       "    </tr>\n",
       "  </thead>\n",
       "  <tbody>\n",
       "    <tr>\n",
       "      <th>2011-06-28</th>\n",
       "      <td>NaN</td>\n",
       "      <td>0.596251</td>\n",
       "      <td>NaN</td>\n",
       "      <td>NaN</td>\n",
       "      <td>NaN</td>\n",
       "      <td>NaN</td>\n",
       "      <td>NaN</td>\n",
       "      <td>NaN</td>\n",
       "      <td>NaN</td>\n",
       "      <td>NaN</td>\n",
       "      <td>...</td>\n",
       "      <td>NaN</td>\n",
       "      <td>NaN</td>\n",
       "      <td>NaN</td>\n",
       "      <td>NaN</td>\n",
       "      <td>NaN</td>\n",
       "      <td>NaN</td>\n",
       "      <td>NaN</td>\n",
       "      <td>NaN</td>\n",
       "      <td>NaN</td>\n",
       "      <td>NaN</td>\n",
       "    </tr>\n",
       "    <tr>\n",
       "      <th>2011-06-29</th>\n",
       "      <td>NaN</td>\n",
       "      <td>NaN</td>\n",
       "      <td>0.987823</td>\n",
       "      <td>NaN</td>\n",
       "      <td>NaN</td>\n",
       "      <td>NaN</td>\n",
       "      <td>NaN</td>\n",
       "      <td>NaN</td>\n",
       "      <td>NaN</td>\n",
       "      <td>NaN</td>\n",
       "      <td>...</td>\n",
       "      <td>NaN</td>\n",
       "      <td>NaN</td>\n",
       "      <td>NaN</td>\n",
       "      <td>NaN</td>\n",
       "      <td>NaN</td>\n",
       "      <td>NaN</td>\n",
       "      <td>NaN</td>\n",
       "      <td>NaN</td>\n",
       "      <td>NaN</td>\n",
       "      <td>NaN</td>\n",
       "    </tr>\n",
       "    <tr>\n",
       "      <th>2011-07-15</th>\n",
       "      <td>0.745628</td>\n",
       "      <td>NaN</td>\n",
       "      <td>NaN</td>\n",
       "      <td>NaN</td>\n",
       "      <td>NaN</td>\n",
       "      <td>NaN</td>\n",
       "      <td>NaN</td>\n",
       "      <td>NaN</td>\n",
       "      <td>NaN</td>\n",
       "      <td>NaN</td>\n",
       "      <td>...</td>\n",
       "      <td>NaN</td>\n",
       "      <td>NaN</td>\n",
       "      <td>NaN</td>\n",
       "      <td>NaN</td>\n",
       "      <td>NaN</td>\n",
       "      <td>NaN</td>\n",
       "      <td>NaN</td>\n",
       "      <td>NaN</td>\n",
       "      <td>NaN</td>\n",
       "      <td>NaN</td>\n",
       "    </tr>\n",
       "    <tr>\n",
       "      <th>2011-07-20</th>\n",
       "      <td>NaN</td>\n",
       "      <td>NaN</td>\n",
       "      <td>NaN</td>\n",
       "      <td>0.961324</td>\n",
       "      <td>1.0</td>\n",
       "      <td>NaN</td>\n",
       "      <td>NaN</td>\n",
       "      <td>NaN</td>\n",
       "      <td>NaN</td>\n",
       "      <td>NaN</td>\n",
       "      <td>...</td>\n",
       "      <td>NaN</td>\n",
       "      <td>NaN</td>\n",
       "      <td>NaN</td>\n",
       "      <td>NaN</td>\n",
       "      <td>NaN</td>\n",
       "      <td>NaN</td>\n",
       "      <td>NaN</td>\n",
       "      <td>NaN</td>\n",
       "      <td>NaN</td>\n",
       "      <td>NaN</td>\n",
       "    </tr>\n",
       "    <tr>\n",
       "      <th>2011-07-22</th>\n",
       "      <td>NaN</td>\n",
       "      <td>NaN</td>\n",
       "      <td>NaN</td>\n",
       "      <td>NaN</td>\n",
       "      <td>NaN</td>\n",
       "      <td>0.95669</td>\n",
       "      <td>NaN</td>\n",
       "      <td>NaN</td>\n",
       "      <td>NaN</td>\n",
       "      <td>NaN</td>\n",
       "      <td>...</td>\n",
       "      <td>NaN</td>\n",
       "      <td>NaN</td>\n",
       "      <td>NaN</td>\n",
       "      <td>NaN</td>\n",
       "      <td>NaN</td>\n",
       "      <td>NaN</td>\n",
       "      <td>NaN</td>\n",
       "      <td>NaN</td>\n",
       "      <td>NaN</td>\n",
       "      <td>NaN</td>\n",
       "    </tr>\n",
       "    <tr>\n",
       "      <th>...</th>\n",
       "      <td>...</td>\n",
       "      <td>...</td>\n",
       "      <td>...</td>\n",
       "      <td>...</td>\n",
       "      <td>...</td>\n",
       "      <td>...</td>\n",
       "      <td>...</td>\n",
       "      <td>...</td>\n",
       "      <td>...</td>\n",
       "      <td>...</td>\n",
       "      <td>...</td>\n",
       "      <td>...</td>\n",
       "      <td>...</td>\n",
       "      <td>...</td>\n",
       "      <td>...</td>\n",
       "      <td>...</td>\n",
       "      <td>...</td>\n",
       "      <td>...</td>\n",
       "      <td>...</td>\n",
       "      <td>...</td>\n",
       "      <td>...</td>\n",
       "    </tr>\n",
       "    <tr>\n",
       "      <th>2021-02-19</th>\n",
       "      <td>NaN</td>\n",
       "      <td>NaN</td>\n",
       "      <td>NaN</td>\n",
       "      <td>NaN</td>\n",
       "      <td>NaN</td>\n",
       "      <td>NaN</td>\n",
       "      <td>NaN</td>\n",
       "      <td>NaN</td>\n",
       "      <td>NaN</td>\n",
       "      <td>NaN</td>\n",
       "      <td>...</td>\n",
       "      <td>NaN</td>\n",
       "      <td>NaN</td>\n",
       "      <td>0.50454</td>\n",
       "      <td>NaN</td>\n",
       "      <td>0.436807</td>\n",
       "      <td>NaN</td>\n",
       "      <td>NaN</td>\n",
       "      <td>NaN</td>\n",
       "      <td>NaN</td>\n",
       "      <td>NaN</td>\n",
       "    </tr>\n",
       "    <tr>\n",
       "      <th>2021-02-22</th>\n",
       "      <td>NaN</td>\n",
       "      <td>NaN</td>\n",
       "      <td>NaN</td>\n",
       "      <td>NaN</td>\n",
       "      <td>NaN</td>\n",
       "      <td>NaN</td>\n",
       "      <td>NaN</td>\n",
       "      <td>NaN</td>\n",
       "      <td>NaN</td>\n",
       "      <td>NaN</td>\n",
       "      <td>...</td>\n",
       "      <td>NaN</td>\n",
       "      <td>NaN</td>\n",
       "      <td>NaN</td>\n",
       "      <td>NaN</td>\n",
       "      <td>NaN</td>\n",
       "      <td>NaN</td>\n",
       "      <td>NaN</td>\n",
       "      <td>NaN</td>\n",
       "      <td>NaN</td>\n",
       "      <td>NaN</td>\n",
       "    </tr>\n",
       "    <tr>\n",
       "      <th>2021-02-23</th>\n",
       "      <td>NaN</td>\n",
       "      <td>NaN</td>\n",
       "      <td>NaN</td>\n",
       "      <td>NaN</td>\n",
       "      <td>NaN</td>\n",
       "      <td>NaN</td>\n",
       "      <td>0.0</td>\n",
       "      <td>NaN</td>\n",
       "      <td>NaN</td>\n",
       "      <td>NaN</td>\n",
       "      <td>...</td>\n",
       "      <td>NaN</td>\n",
       "      <td>NaN</td>\n",
       "      <td>NaN</td>\n",
       "      <td>NaN</td>\n",
       "      <td>NaN</td>\n",
       "      <td>NaN</td>\n",
       "      <td>NaN</td>\n",
       "      <td>NaN</td>\n",
       "      <td>NaN</td>\n",
       "      <td>NaN</td>\n",
       "    </tr>\n",
       "    <tr>\n",
       "      <th>2021-02-25</th>\n",
       "      <td>NaN</td>\n",
       "      <td>NaN</td>\n",
       "      <td>NaN</td>\n",
       "      <td>NaN</td>\n",
       "      <td>NaN</td>\n",
       "      <td>NaN</td>\n",
       "      <td>NaN</td>\n",
       "      <td>NaN</td>\n",
       "      <td>NaN</td>\n",
       "      <td>NaN</td>\n",
       "      <td>...</td>\n",
       "      <td>NaN</td>\n",
       "      <td>0.643494</td>\n",
       "      <td>NaN</td>\n",
       "      <td>NaN</td>\n",
       "      <td>NaN</td>\n",
       "      <td>NaN</td>\n",
       "      <td>NaN</td>\n",
       "      <td>NaN</td>\n",
       "      <td>NaN</td>\n",
       "      <td>NaN</td>\n",
       "    </tr>\n",
       "    <tr>\n",
       "      <th>2021-02-26</th>\n",
       "      <td>NaN</td>\n",
       "      <td>NaN</td>\n",
       "      <td>NaN</td>\n",
       "      <td>NaN</td>\n",
       "      <td>NaN</td>\n",
       "      <td>NaN</td>\n",
       "      <td>NaN</td>\n",
       "      <td>NaN</td>\n",
       "      <td>NaN</td>\n",
       "      <td>0.378847</td>\n",
       "      <td>...</td>\n",
       "      <td>NaN</td>\n",
       "      <td>NaN</td>\n",
       "      <td>NaN</td>\n",
       "      <td>NaN</td>\n",
       "      <td>NaN</td>\n",
       "      <td>NaN</td>\n",
       "      <td>NaN</td>\n",
       "      <td>NaN</td>\n",
       "      <td>NaN</td>\n",
       "      <td>NaN</td>\n",
       "    </tr>\n",
       "  </tbody>\n",
       "</table>\n",
       "<p>908 rows × 38 columns</p>\n",
       "</div>"
      ],
      "text/plain": [
       "                PAYX      ORCL      ADBE      QCOM  AAPL      TEL  IBM  KLAC  \\\n",
       "date                                                                           \n",
       "2011-06-28       NaN  0.596251       NaN       NaN   NaN      NaN  NaN   NaN   \n",
       "2011-06-29       NaN       NaN  0.987823       NaN   NaN      NaN  NaN   NaN   \n",
       "2011-07-15  0.745628       NaN       NaN       NaN   NaN      NaN  NaN   NaN   \n",
       "2011-07-20       NaN       NaN       NaN  0.961324   1.0      NaN  NaN   NaN   \n",
       "2011-07-22       NaN       NaN       NaN       NaN   NaN  0.95669  NaN   NaN   \n",
       "...              ...       ...       ...       ...   ...      ...  ...   ...   \n",
       "2021-02-19       NaN       NaN       NaN       NaN   NaN      NaN  NaN   NaN   \n",
       "2021-02-22       NaN       NaN       NaN       NaN   NaN      NaN  NaN   NaN   \n",
       "2021-02-23       NaN       NaN       NaN       NaN   NaN      NaN  0.0   NaN   \n",
       "2021-02-25       NaN       NaN       NaN       NaN   NaN      NaN  NaN   NaN   \n",
       "2021-02-26       NaN       NaN       NaN       NaN   NaN      NaN  NaN   NaN   \n",
       "\n",
       "            LRCX      FISV  ...  MCHP      AMAT     SNPS  HPQ       GPN  AMD  \\\n",
       "date                        ...                                                \n",
       "2011-06-28   NaN       NaN  ...   NaN       NaN      NaN  NaN       NaN  NaN   \n",
       "2011-06-29   NaN       NaN  ...   NaN       NaN      NaN  NaN       NaN  NaN   \n",
       "2011-07-15   NaN       NaN  ...   NaN       NaN      NaN  NaN       NaN  NaN   \n",
       "2011-07-20   NaN       NaN  ...   NaN       NaN      NaN  NaN       NaN  NaN   \n",
       "2011-07-22   NaN       NaN  ...   NaN       NaN      NaN  NaN       NaN  NaN   \n",
       "...          ...       ...  ...   ...       ...      ...  ...       ...  ...   \n",
       "2021-02-19   NaN       NaN  ...   NaN       NaN  0.50454  NaN  0.436807  NaN   \n",
       "2021-02-22   NaN       NaN  ...   NaN       NaN      NaN  NaN       NaN  NaN   \n",
       "2021-02-23   NaN       NaN  ...   NaN       NaN      NaN  NaN       NaN  NaN   \n",
       "2021-02-25   NaN       NaN  ...   NaN  0.643494      NaN  NaN       NaN  NaN   \n",
       "2021-02-26   NaN  0.378847  ...   NaN       NaN      NaN  NaN       NaN  NaN   \n",
       "\n",
       "            MU  NOW  PYPL  AVGO  \n",
       "date                             \n",
       "2011-06-28 NaN  NaN   NaN   NaN  \n",
       "2011-06-29 NaN  NaN   NaN   NaN  \n",
       "2011-07-15 NaN  NaN   NaN   NaN  \n",
       "2011-07-20 NaN  NaN   NaN   NaN  \n",
       "2011-07-22 NaN  NaN   NaN   NaN  \n",
       "...         ..  ...   ...   ...  \n",
       "2021-02-19 NaN  NaN   NaN   NaN  \n",
       "2021-02-22 NaN  NaN   NaN   NaN  \n",
       "2021-02-23 NaN  NaN   NaN   NaN  \n",
       "2021-02-25 NaN  NaN   NaN   NaN  \n",
       "2021-02-26 NaN  NaN   NaN   NaN  \n",
       "\n",
       "[908 rows x 38 columns]"
      ]
     },
     "execution_count": 462,
     "metadata": {},
     "output_type": "execute_result"
    }
   ],
   "source": [
    "it_uncertainty"
   ]
  },
  {
   "cell_type": "code",
   "execution_count": 475,
   "metadata": {
    "ExecuteTime": {
     "end_time": "2021-02-28T23:57:48.957507Z",
     "start_time": "2021-02-28T23:57:48.844284Z"
    },
    "scrolled": true
   },
   "outputs": [
    {
     "data": {
      "text/plain": [
       "date\n",
       "2011-06-28    0.596251\n",
       "2011-06-29    0.987823\n",
       "2011-07-15    0.745628\n",
       "2011-07-20    1.000000\n",
       "2011-07-22    0.956690\n",
       "                ...   \n",
       "2021-02-19    0.504540\n",
       "2021-02-22    0.349754\n",
       "2021-02-23    0.584431\n",
       "2021-02-25    0.643494\n",
       "2021-02-26    0.378847\n",
       "Length: 908, dtype: float64"
      ]
     },
     "execution_count": 475,
     "metadata": {},
     "output_type": "execute_result"
    }
   ],
   "source": [
    "it_uncertainty.max(axis=1)"
   ]
  },
  {
   "cell_type": "code",
   "execution_count": 539,
   "metadata": {
    "ExecuteTime": {
     "end_time": "2021-03-01T00:14:54.639179Z",
     "start_time": "2021-03-01T00:14:54.510500Z"
    }
   },
   "outputs": [],
   "source": [
    "sent = it_negative.max(axis=1)"
   ]
  },
  {
   "cell_type": "code",
   "execution_count": 540,
   "metadata": {
    "ExecuteTime": {
     "end_time": "2021-03-01T00:14:58.885566Z",
     "start_time": "2021-03-01T00:14:58.748539Z"
    }
   },
   "outputs": [],
   "source": [
    "test = pd.concat([tiger_it_return, sent],axis=1)"
   ]
  },
  {
   "cell_type": "code",
   "execution_count": 541,
   "metadata": {
    "ExecuteTime": {
     "end_time": "2021-03-01T00:15:02.814712Z",
     "start_time": "2021-03-01T00:15:02.693402Z"
    }
   },
   "outputs": [],
   "source": [
    "test.columns = ['ETF','sentiment']"
   ]
  },
  {
   "cell_type": "code",
   "execution_count": 542,
   "metadata": {
    "ExecuteTime": {
     "end_time": "2021-03-01T00:15:07.040703Z",
     "start_time": "2021-03-01T00:15:06.920111Z"
    }
   },
   "outputs": [],
   "source": [
    "etf_mean = test.ETF.mean()\n",
    "etf_std = test.ETF.std()\n",
    "test.ETF = (test.ETF - etf_mean) /etf_std"
   ]
  },
  {
   "cell_type": "code",
   "execution_count": 543,
   "metadata": {
    "ExecuteTime": {
     "end_time": "2021-03-01T00:15:11.480001Z",
     "start_time": "2021-03-01T00:15:11.344789Z"
    }
   },
   "outputs": [],
   "source": [
    "sent_mean = test.sentiment.mean()\n",
    "sent_std = test.sentiment.std()\n",
    "test.sentiment = (test.sentiment - sent_mean) /sent_std"
   ]
  },
  {
   "cell_type": "code",
   "execution_count": 544,
   "metadata": {
    "ExecuteTime": {
     "end_time": "2021-03-01T00:15:15.435778Z",
     "start_time": "2021-03-01T00:15:15.311559Z"
    }
   },
   "outputs": [],
   "source": [
    "test = test.fillna(method='bfill')\n",
    "test = test.fillna(method='ffill')"
   ]
  },
  {
   "cell_type": "code",
   "execution_count": 545,
   "metadata": {
    "ExecuteTime": {
     "end_time": "2021-03-01T00:15:20.455533Z",
     "start_time": "2021-03-01T00:15:19.853920Z"
    }
   },
   "outputs": [
    {
     "data": {
      "text/plain": [
       "<AxesSubplot:>"
      ]
     },
     "execution_count": 545,
     "metadata": {},
     "output_type": "execute_result"
    },
    {
     "data": {
      "image/png": "[encoded data removed]",
      "text/plain": [
       "<Figure size 432x288 with 1 Axes>"
      ]
     },
     "metadata": {
      "image/png": {
       "height": 240,
       "width": 371
      }
     },
     "output_type": "display_data"
    }
   ],
   "source": [
    "test.plot()"
   ]
  },
  {
   "cell_type": "code",
   "execution_count": 546,
   "metadata": {
    "ExecuteTime": {
     "end_time": "2021-03-01T00:15:44.235276Z",
     "start_time": "2021-03-01T00:15:43.916410Z"
    }
   },
   "outputs": [],
   "source": [
    "from statsmodels.tsa.stattools import coint\n",
    "\n",
    "X = test.ETF\n",
    "Y = test.sentiment\n",
    "\n",
    "score, pvalue, _ = coint(X,Y)"
   ]
  },
  {
   "cell_type": "code",
   "execution_count": 547,
   "metadata": {
    "ExecuteTime": {
     "end_time": "2021-03-01T00:15:48.409323Z",
     "start_time": "2021-03-01T00:15:48.284694Z"
    }
   },
   "outputs": [
    {
     "data": {
      "text/plain": [
       "0.0"
      ]
     },
     "execution_count": 547,
     "metadata": {},
     "output_type": "execute_result"
    }
   ],
   "source": [
    "pvalue"
   ]
  },
  {
   "cell_type": "code",
   "execution_count": 548,
   "metadata": {
    "ExecuteTime": {
     "end_time": "2021-03-01T00:15:53.042468Z",
     "start_time": "2021-03-01T00:15:52.860215Z"
    }
   },
   "outputs": [
    {
     "data": {
      "text/plain": [
       "0.026632066352724762"
      ]
     },
     "execution_count": 548,
     "metadata": {},
     "output_type": "execute_result"
    }
   ],
   "source": [
    "X.corr(Y)"
   ]
  },
  {
   "cell_type": "code",
   "execution_count": null,
   "metadata": {},
   "outputs": [],
   "source": []
  }
 ],
 "metadata": {
  "accelerator": "GPU",
  "colab": {
   "collapsed_sections": [],
   "name": "project_5_starter.ipynb",
   "provenance": []
  },
  "hide_input": false,
  "kernelspec": {
   "display_name": "Python 3",
   "language": "python",
   "name": "python3"
  },
  "language_info": {
   "codemirror_mode": {
    "name": "ipython",
    "version": 3
   },
   "file_extension": ".py",
   "mimetype": "text/x-python",
   "name": "python",
   "nbconvert_exporter": "python",
   "pygments_lexer": "ipython3",
   "version": "3.8.5"
  },
  "toc": {
   "base_numbering": 1,
   "nav_menu": {},
   "number_sections": true,
   "sideBar": true,
   "skip_h1_title": false,
   "title_cell": "Table of Contents",
   "title_sidebar": "Contents",
   "toc_cell": false,
   "toc_position": {},
   "toc_section_display": true,
   "toc_window_display": false
  },
  "varInspector": {
   "cols": {
    "lenName": 16,
    "lenType": 16,
    "lenVar": 40
   },
   "kernels_config": {
    "python": {
     "delete_cmd_postfix": "",
     "delete_cmd_prefix": "del ",
     "library": "var_list.py",
     "varRefreshCmd": "print(var_dic_list())"
    },
    "r": {
     "delete_cmd_postfix": ") ",
     "delete_cmd_prefix": "rm(",
     "library": "var_list.r",
     "varRefreshCmd": "cat(var_dic_list()) "
    }
   },
   "types_to_exclude": [
    "module",
    "function",
    "builtin_function_or_method",
    "instance",
    "_Feature"
   ],
   "window_display": false
  }
 },
 "nbformat": 4,
 "nbformat_minor": 1
}
